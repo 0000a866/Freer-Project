{
 "cells": [
  {
   "cell_type": "markdown",
   "id": "fafc1df3-3d3a-48d5-a3a6-1481522d4c65",
   "metadata": {},
   "source": [
    "### 1. Merge the crawled tables into one"
   ]
  },
  {
   "cell_type": "code",
   "execution_count": 3,
   "id": "0953fe7c-2f95-4303-8208-2fa37469e381",
   "metadata": {},
   "outputs": [],
   "source": [
    "import pandas as pd\n",
    "excel_files = ['search_0.xlsx', 'search_189.xlsx', 'search_378.xlsx','search_567.xlsx','search_756.xlsx','search_945.xlsx']\n",
    "\n",
    "merged_data = pd.DataFrame()\n",
    "\n",
    "\n",
    "for file in excel_files:\n",
    "    df = pd.read_excel(file)\n",
    "    merged_data = pd.concat([merged_data, df], ignore_index=True)\n",
    "merged_data.to_excel('merged_artifacts.xlsx', index=False)\n"
   ]
  },
  {
   "cell_type": "code",
   "execution_count": 4,
   "id": "137a6a14-b58a-4948-b7ca-8279cf7565c2",
   "metadata": {},
   "outputs": [
    {
     "data": {
      "text/plain": [
       "(13722, 19)"
      ]
     },
     "execution_count": 4,
     "metadata": {},
     "output_type": "execute_result"
    }
   ],
   "source": [
    "df = pd.read_excel('merged_artifacts.xlsx')\n",
    "df.shape"
   ]
  },
  {
   "cell_type": "code",
   "execution_count": 4,
   "id": "9a37f0ff-f33c-424e-9408-5ea3404dcd99",
   "metadata": {},
   "outputs": [
    {
     "data": {
      "text/plain": [
       "Index(['Name', 'Provenance', 'Collection', 'Previous custodian or owner',\n",
       "       'Origin', 'Credit Line', 'Type', 'Restrictions and Rights', 'Period',\n",
       "       'Geography', 'Material', 'Dimension', 'EDAN ID', '188', '377', '566',\n",
       "       '755', '944', '1133'],\n",
       "      dtype='object')"
      ]
     },
     "execution_count": 4,
     "metadata": {},
     "output_type": "execute_result"
    }
   ],
   "source": [
    "df.columns"
   ]
  },
  {
   "cell_type": "markdown",
   "id": "0110c4d5-5db1-48f5-9032-7c5134524648",
   "metadata": {},
   "source": [
    "### Check the columns \"Credit Line\" and \"Collection\""
   ]
  },
  {
   "cell_type": "markdown",
   "id": "0421089e-6510-4bb3-9ec2-362be3171592",
   "metadata": {},
   "source": [
    "I use codes to check if all values in the \"Credit Line\" column are 'Gift of Charles Lang Freer'. Objetcs with inconsistency might not be collections donated by Freer."
   ]
  },
  {
   "cell_type": "code",
   "execution_count": 5,
   "id": "1cd7d31f-33d3-40f6-bd32-28041cc36986",
   "metadata": {},
   "outputs": [
    {
     "name": "stdout",
     "output_type": "stream",
     "text": [
      "There are inconsistencies in 'Credit Line' or 'Collection' values.\n"
     ]
    }
   ],
   "source": [
    "\n",
    "# Check the column \"Credit Line\"\n",
    "credit_line_check = all(df['Credit Line'] == 'Gift of Charles Lang Freer')\n",
    "\n",
    "# Check the column \"Collection\"\n",
    "collection_check = all(df['Collection'] == 'Freer Gallery of Art Collection')\n",
    "\n",
    "# Print the results\n",
    "if credit_line_check and collection_check:\n",
    "    print(\"Both 'Credit Line' and 'Collection' values are consistent.\")\n",
    "else:\n",
    "    print(\"There are inconsistencies in 'Credit Line' or 'Collection' values.\")"
   ]
  },
  {
   "cell_type": "code",
   "execution_count": 13,
   "id": "05e04817-d6b4-4711-ae36-c6273bae518a",
   "metadata": {},
   "outputs": [
    {
     "name": "stdout",
     "output_type": "stream",
     "text": [
      "2265                                         NaN\n",
      "2375                                         NaN\n",
      "2391                                         NaN\n",
      "2811                                         NaN\n",
      "4679                                         NaN\n",
      "                          ...                   \n",
      "13717    Purchase — Charles Lang Freer Endowment\n",
      "13718    Purchase — Charles Lang Freer Endowment\n",
      "13719    Purchase — Charles Lang Freer Endowment\n",
      "13720    Purchase — Charles Lang Freer Endowment\n",
      "13721    Purchase — Charles Lang Freer Endowment\n",
      "Name: Credit Line, Length: 3856, dtype: object\n"
     ]
    }
   ],
   "source": [
    "# Filter inconsistent rows\n",
    "inconsistent_rows = df[(df['Credit Line'] != 'Gift of Charles Lang Freer')]\n",
    "\n",
    "print(inconsistent_rows['Credit Line'])"
   ]
  },
  {
   "cell_type": "code",
   "execution_count": 16,
   "id": "b19257c0-3175-4c5e-96ac-171216544d28",
   "metadata": {},
   "outputs": [],
   "source": [
    "# Filter rows where Credit Line is not equal to 'Gift of Charles Lang Freer' and remove them\n",
    "filtered_df = df[df['Credit Line'] == 'Gift of Charles Lang Freer']\n",
    "\n",
    "\n",
    "# Save the filtered data to a new Excel file\n",
    "output_file = 'filtered_collections.xlsx'\n",
    "filtered_df.to_excel(output_file, index=False)\n"
   ]
  },
  {
   "cell_type": "code",
   "execution_count": null,
   "id": "e4319005-d6c6-463d-9058-776b3c261181",
   "metadata": {},
   "outputs": [],
   "source": []
  },
  {
   "cell_type": "code",
   "execution_count": 18,
   "id": "012f0a02-1184-4fed-9dc0-24434dea3557",
   "metadata": {},
   "outputs": [
    {
     "name": "stdout",
     "output_type": "stream",
     "text": [
      "78      Freer Study Collection\n",
      "79      Freer Study Collection\n",
      "588     Freer Study Collection\n",
      "5119    Freer Study Collection\n",
      "5626    Freer Study Collection\n",
      "8911    Freer Study Collection\n",
      "8912    Freer Study Collection\n",
      "8913    Freer Study Collection\n",
      "8914    Freer Study Collection\n",
      "8916    Freer Study Collection\n",
      "8917    Freer Study Collection\n",
      "8918    Freer Study Collection\n",
      "8919    Freer Study Collection\n",
      "8920    Freer Study Collection\n",
      "8921    Freer Study Collection\n",
      "8922    Freer Study Collection\n",
      "8923    Freer Study Collection\n",
      "8924    Freer Study Collection\n",
      "8925    Freer Study Collection\n",
      "8926    Freer Study Collection\n",
      "8927    Freer Study Collection\n",
      "8928    Freer Study Collection\n",
      "8929    Freer Study Collection\n",
      "8930    Freer Study Collection\n",
      "8931    Freer Study Collection\n",
      "8932    Freer Study Collection\n",
      "8933    Freer Study Collection\n",
      "8934    Freer Study Collection\n",
      "8935    Freer Study Collection\n",
      "8937    Freer Study Collection\n",
      "8938    Freer Study Collection\n",
      "8939    Freer Study Collection\n",
      "8941    Freer Study Collection\n",
      "8942    Freer Study Collection\n",
      "8943    Freer Study Collection\n",
      "8944    Freer Study Collection\n",
      "8945    Freer Study Collection\n",
      "8946    Freer Study Collection\n",
      "8947    Freer Study Collection\n",
      "9369    Freer Study Collection\n",
      "9392    Freer Study Collection\n",
      "9397    Freer Study Collection\n",
      "9398    Freer Study Collection\n",
      "9399    Freer Study Collection\n",
      "9400    Freer Study Collection\n",
      "9401    Freer Study Collection\n",
      "9406    Freer Study Collection\n",
      "9407    Freer Study Collection\n",
      "9516    Freer Study Collection\n",
      "9616    Freer Study Collection\n",
      "9626    Freer Study Collection\n",
      "9630    Freer Study Collection\n",
      "9638    Freer Study Collection\n",
      "9643    Freer Study Collection\n",
      "9677    Freer Study Collection\n",
      "9681    Freer Study Collection\n",
      "9715    Freer Study Collection\n",
      "9771    Freer Study Collection\n",
      "Name: Collection, dtype: object\n"
     ]
    }
   ],
   "source": [
    "inconsistent_rows_two = df[(df['Collection'] != 'Freer Gallery of Art Collection')]\n",
    "\n",
    "print(inconsistent_rows_two['Collection'])"
   ]
  },
  {
   "cell_type": "code",
   "execution_count": null,
   "id": "0125edc4-0786-460a-a283-8415b445f8fb",
   "metadata": {},
   "outputs": [],
   "source": []
  },
  {
   "cell_type": "markdown",
   "id": "0b28d80e-1249-421c-9063-35db7512aba6",
   "metadata": {},
   "source": [
    "After filtering, it was observed that some items were purchased by his foundation after Charles's death or collected from other resources. Checking the collection column reveals that some items do not belong to the Freer Gallery of Art but rather to the Freer Study Collection.\n",
    "The columns \"collection\" and \"credit line\" are not meaningful for data analysis, thus, they should be removed."
   ]
  },
  {
   "cell_type": "code",
   "execution_count": 26,
   "id": "14a1909f-4ca1-45df-8c82-21531a14e08a",
   "metadata": {},
   "outputs": [
    {
     "name": "stdout",
     "output_type": "stream",
     "text": [
      "                                                   Name Origin Geography\n",
      "299           Folio IV from a manuscript of the Gospels    NaN       NaN\n",
      "319          Folio III from a manuscript of the Gospels    NaN       NaN\n",
      "412               Cup, small flaring ovoidal; bold foot    NaN       NaN\n",
      "414                                  Fragment of a bowl    NaN       NaN\n",
      "748                                Pearls and fragments    NaN       NaN\n",
      "...                                                 ...    ...       ...\n",
      "8944  Les conquetes de l'empereur de la chine (in Ch...    NaN       NaN\n",
      "8945  Les conquetes de l'empereur de la chine (in Ch...    NaN       NaN\n",
      "8946  Les conquetes de l'empereur de la chine (in Ch...    NaN       NaN\n",
      "8947  Les conquetes de l'empereur de la chine (in Ch...    NaN       NaN\n",
      "9455  The Heavenly Ladder: illustration from a Klima...    NaN       NaN\n",
      "\n",
      "[155 rows x 3 columns]\n"
     ]
    }
   ],
   "source": [
    "# Check the unconsistency of \"Origin\"和\"Geography\"\n",
    "df = pd.read_excel('filtered_collections.xlsx')\n",
    "not_equal_rows = df.loc[df['Origin'] != df['Geography'], [\"Name\", \"Origin\", \"Geography\"]]\n",
    "\n",
    "\n",
    "# display the results\n",
    "print(not_equal_rows)\n",
    "\n",
    "\n",
    "# print(len(not_equal_rows['Name'])) 115"
   ]
  },
  {
   "cell_type": "code",
   "execution_count": null,
   "id": "c9b4f47a-0f2b-4eda-9c42-99d6509a162a",
   "metadata": {},
   "outputs": [],
   "source": []
  },
  {
   "cell_type": "markdown",
   "id": "deae3ca1-0695-477a-ba91-3e0ade291642",
   "metadata": {},
   "source": [
    "The artifacts have consistent values between the \"geography\" and \"origin\" columns, including those with NaN values.\n",
    "The statistical characteristics of the \"geography\" column mirror those of the \"origin\" column. Considering this, it might be practical to retain only one of them. The column labeled \"Restrictions and Rights\" was also removed as it did not carry any meaningful statistical significance."
   ]
  },
  {
   "cell_type": "code",
   "execution_count": null,
   "id": "309c6ebc-0855-40ac-9b41-154ab12a6a9d",
   "metadata": {},
   "outputs": [],
   "source": []
  },
  {
   "cell_type": "code",
   "execution_count": 28,
   "id": "00fbff10-9c77-4472-b116-ccfa18627fe7",
   "metadata": {},
   "outputs": [],
   "source": [
    "# Read Excel file\n",
    "df = pd.read_excel('filtered_collections.xlsx')\n",
    "\n",
    "# List of column names to drop\n",
    "columns_to_drop = ['Collection', 'Credit Line', 'Origin','Restrictions and Rights','188', '377', '566', '755', '944', '1133']\n",
    "\n",
    "# Drop specified columns using the drop method\n",
    "df_cleaned = df.drop(columns=columns_to_drop)\n",
    "\n",
    "# Save the modified DataFrame back to an Excel file\n",
    "df_cleaned.to_excel('cleaned_artifacts.xlsx', index=False)\n",
    "\n",
    "# Display the DataFrame after dropping columns (first few rows)\n",
    "# print(df_cleaned.head())\n"
   ]
  },
  {
   "cell_type": "code",
   "execution_count": 2,
   "id": "5542b8f4-7f7d-474c-90ed-49856325b4eb",
   "metadata": {},
   "outputs": [
    {
     "data": {
      "text/plain": [
       "(9866, 9)"
      ]
     },
     "execution_count": 2,
     "metadata": {},
     "output_type": "execute_result"
    }
   ],
   "source": [
    "import pandas as pd\n",
    "df = pd.read_excel('cleaned_artifacts.xlsx')\n",
    "df.shape"
   ]
  },
  {
   "cell_type": "code",
   "execution_count": null,
   "id": "1c17a194-262e-4ae9-910b-35dfff4a8c57",
   "metadata": {},
   "outputs": [],
   "source": []
  },
  {
   "cell_type": "markdown",
   "id": "c4737648-1a22-483c-8971-fcda8a4cbc12",
   "metadata": {},
   "source": [
    "In data processing, ensuring consistency is paramount for accurate analysis and interpretation. It was observed that the \"Material\" column contained entries with inconsistent capitalization. After standardizing the case for all entries within this column, the number of unique materials was reduced from 1,479 to 1,474. This adjustment underscores the significance of data normalization, as inconsistencies in capitalization can artificially inflate the count of unique values, potentially leading to erroneous conclusions."
   ]
  },
  {
   "cell_type": "code",
   "execution_count": 3,
   "id": "28a41e67-b769-4da6-a1cf-adc422ba9451",
   "metadata": {},
   "outputs": [
    {
     "name": "stdout",
     "output_type": "stream",
     "text": [
      "The total number of materials：1479\n"
     ]
    }
   ],
   "source": [
    "# Material大小写不同\n",
    "\n",
    "# Select the values of column \"Material\"\n",
    "unique_materials = df['Material'].unique()\n",
    "\n",
    "# Caculate the number\n",
    "num_unique_materials = len(unique_materials)\n",
    "\n",
    "print(f\"The total number of materials：{num_unique_materials}\")"
   ]
  },
  {
   "cell_type": "code",
   "execution_count": 4,
   "id": "c944ccd2-e686-4059-9eec-0efedca6f4ae",
   "metadata": {},
   "outputs": [
    {
     "name": "stdout",
     "output_type": "stream",
     "text": [
      "The total number of materials after unifying case: 1474\n"
     ]
    }
   ],
   "source": [
    "# 将所有材料名称转换为小写\n",
    "df['Material'] = df['Material'].str.lower()\n",
    "\n",
    "# 获取唯一的材料名称\n",
    "unique_materials = df['Material'].unique()\n",
    "\n",
    "# 计算唯一材料的数量\n",
    "num_unique_materials = len(unique_materials)\n",
    "\n",
    "print(f\"The total number of materials after unifying case: {num_unique_materials}\")"
   ]
  },
  {
   "cell_type": "code",
   "execution_count": 7,
   "id": "197883c7-7a75-418c-936a-13b4423ef8b5",
   "metadata": {},
   "outputs": [],
   "source": [
    "#写入表格\n",
    "df.to_excel('cleaned_artifacts.xlsx', index=False)"
   ]
  },
  {
   "cell_type": "code",
   "execution_count": null,
   "id": "02c7f282-cdbf-4128-bdab-93627e8a58fd",
   "metadata": {},
   "outputs": [],
   "source": []
  },
  {
   "cell_type": "code",
   "execution_count": null,
   "id": "56b3f614-e0d8-4b6f-b0ca-168e995cd8f3",
   "metadata": {},
   "outputs": [],
   "source": []
  },
  {
   "cell_type": "code",
   "execution_count": null,
   "id": "d08811f3-b89d-473d-81f2-1ea9be229c2e",
   "metadata": {},
   "outputs": [],
   "source": []
  },
  {
   "cell_type": "code",
   "execution_count": null,
   "id": "0a936d8c-1a20-4e1f-8a1a-a51b20c0c256",
   "metadata": {},
   "outputs": [],
   "source": []
  },
  {
   "cell_type": "code",
   "execution_count": null,
   "id": "5794e0ac-364e-497c-9506-d6f5289ea0ff",
   "metadata": {},
   "outputs": [],
   "source": []
  },
  {
   "cell_type": "code",
   "execution_count": 7,
   "id": "0ea50a40-4861-462f-84dc-080200922ad0",
   "metadata": {},
   "outputs": [
    {
     "name": "stdout",
     "output_type": "stream",
     "text": [
      "                                                Name  \\\n",
      "0                     Portrait of Charles Lang Freer   \n",
      "1  Cloth-covered box, part of Charles Lang Freer'...   \n",
      "2                           Miniature mirror (chien)   \n",
      "3                                      Charm or coin   \n",
      "4                                               Coin   \n",
      "\n",
      "                                          Provenance  \\\n",
      "0  To 1903\\nRosalind Birnie Philip (1873-1958), L...   \n",
      "1  To 1918\\nPang Yuanji (1864-1949), Shanghai, Ch...   \n",
      "2  To 1911\\nUnidentified owner, Honan-fu, China, ...   \n",
      "3  From 1907 to 1919\\nCharles Lang Freer (1854-19...   \n",
      "4  From 1907 to 1919\\nCharles Lang Freer (1854-19...   \n",
      "\n",
      "                         Previous custodian or owner                  Type  \\\n",
      "0  Rosalind Birnie Philip (1873-1958) (C.L. Freer...              Painting   \n",
      "1  Pang Yuanji 龐元濟 (1864-1949) (C.L. Freer source...             Container   \n",
      "2                     Charles Lang Freer (1854-1919)                Mirror   \n",
      "3                     Charles Lang Freer (1854-1919)  Jewelry and Ornament   \n",
      "4                     Charles Lang Freer (1854-1919)        Exchange Media   \n",
      "\n",
      "   Restrictions and Rights                         Period      Geography  \\\n",
      "0                      NaN                      1902-1903  United States   \n",
      "1                      NaN  late 19th century-before 1918          China   \n",
      "2                      NaN                            NaN          China   \n",
      "3                      NaN                            NaN          China   \n",
      "4                      NaN                           1873         France   \n",
      "\n",
      "            Material                                          Dimension  \\\n",
      "0  Oil on wood panel  H x W (frame): 86 × 65.5 cm (33 7/8 × 25 13/16...   \n",
      "1   Cloth, cardboard  H x W x D (overall): 30.4 x 25 x 16.7 cm (11 1...   \n",
      "2             Bronze            Diam x D: 4 x 0.4 cm (1 9/16 x 3/16 in)   \n",
      "3              Metal               H x Diam: 0.2 × 2.5 cm (1/16 × 1 in)   \n",
      "4             Silver          H x Diam: 0.2 × 3.7 cm (1/16 × 1 7/16 in)   \n",
      "\n",
      "                    EDAN ID  \n",
      "0  edanmdm:fsg_F1903.301a-b  \n",
      "1   edanmdm:fsg_F1980.96a-c  \n",
      "2     edanmdm:fsg_F1911.101  \n",
      "3   edanmdm:fsg_F1907.757.3  \n",
      "4   edanmdm:fsg_F1907.757.8  \n"
     ]
    }
   ],
   "source": [
    "import pandas as pd\n",
    "\n",
    "# 读取 Excel 文件\n",
    "df = pd.read_excel('merged_artifacts.xlsx')\n",
    "\n",
    "# 要去除的列名列表\n",
    "columns_to_drop = ['Collection', 'Credit Line','Origin','188','377','566','755','944','1133']\n",
    "\n",
    "# 使用 drop 方法去除指定的列\n",
    "df_cleaned = df.drop(columns=columns_to_drop)\n",
    "\n",
    "# 选项1: 将修改后的 DataFrame 保存回 Excel 文件\n",
    "df_cleaned.to_excel('cleaned_artifacts.xlsx', index=False)\n",
    "\n",
    "# 选项2: 如果你想修改原 DataFrame 而不保存成新文件，可以这样做\n",
    "# df.drop(columns=columns_to_drop, inplace=True)\n",
    "\n",
    "# 显示去除列后的 DataFrame（前几行）\n",
    "print(df_cleaned.head())\n"
   ]
  },
  {
   "cell_type": "code",
   "execution_count": 8,
   "id": "94250cd7-c6af-42e3-bde4-ff3921ea70c3",
   "metadata": {},
   "outputs": [
    {
     "data": {
      "text/plain": [
       "(13722, 10)"
      ]
     },
     "execution_count": 8,
     "metadata": {},
     "output_type": "execute_result"
    }
   ],
   "source": [
    "df = pd.read_excel('cleaned_artifacts.xlsx')\n",
    "df.shape\n",
    "# df.columns"
   ]
  },
  {
   "cell_type": "code",
   "execution_count": 9,
   "id": "b933e6c7-9699-4bec-b08f-8f6ad9030d52",
   "metadata": {},
   "outputs": [
    {
     "name": "stdout",
     "output_type": "stream",
     "text": [
      "Number of empty rows: 0\n",
      "No empty rows found.\n"
     ]
    }
   ],
   "source": [
    "\n",
    "df = pd.read_excel('cleaned_artifacts.xlsx')\n",
    "\n",
    "# 检查每一行是否为空\n",
    "# `isnull().all(axis=1)` 检查所有列的值是否都是 NaN（空白）\n",
    "empty_rows = df.isnull().all(axis=1)\n",
    "\n",
    "# 统计空白行的数量\n",
    "num_empty_rows = empty_rows.sum()\n",
    "\n",
    "# 打印空白行的数量\n",
    "print(f\"Number of empty rows: {num_empty_rows}\")\n",
    "\n",
    "# 如果需要，可以显示这些空白行的索引\n",
    "if num_empty_rows > 0:\n",
    "    print(\"Indices of empty rows:\", df[empty_rows].index.tolist())\n",
    "else:\n",
    "    print(\"No empty rows found.\")\n"
   ]
  },
  {
   "cell_type": "code",
   "execution_count": 10,
   "id": "bf69de42-502f-4ee2-a638-98a497817a69",
   "metadata": {},
   "outputs": [
    {
     "data": {
      "text/plain": [
       "(12567, 3)"
      ]
     },
     "execution_count": 10,
     "metadata": {},
     "output_type": "execute_result"
    }
   ],
   "source": [
    "df = pd.read_excel('correspondence.xlsx')\n",
    "df.shape"
   ]
  },
  {
   "cell_type": "code",
   "execution_count": 11,
   "id": "bd719149-897b-4119-be98-33db6ebb98dd",
   "metadata": {},
   "outputs": [
    {
     "name": "stdout",
     "output_type": "stream",
     "text": [
      "Number of empty rows: 0\n",
      "No empty rows found.\n"
     ]
    }
   ],
   "source": [
    "empty_rows = df.isnull().all(axis=1)\n",
    "\n",
    "# 统计空白行的数量\n",
    "num_empty_rows = empty_rows.sum()\n",
    "\n",
    "# 打印空白行的数量\n",
    "print(f\"Number of empty rows: {num_empty_rows}\")\n",
    "\n",
    "# 如果需要，可以显示这些空白行的索引\n",
    "if num_empty_rows > 0:\n",
    "    print(\"Indices of empty rows:\", df[empty_rows].index.tolist())\n",
    "else:\n",
    "    print(\"No empty rows found.\")\n"
   ]
  },
  {
   "cell_type": "code",
   "execution_count": null,
   "id": "37c343fc-856f-4644-80a5-f24911565adc",
   "metadata": {},
   "outputs": [],
   "source": []
  },
  {
   "cell_type": "code",
   "execution_count": null,
   "id": "3b80e92c-2639-4e38-8384-9b1ee1c5a527",
   "metadata": {},
   "outputs": [],
   "source": []
  }
 ],
 "metadata": {
  "kernelspec": {
   "display_name": "Python 3 (ipykernel)",
   "language": "python",
   "name": "python3"
  },
  "language_info": {
   "codemirror_mode": {
    "name": "ipython",
    "version": 3
   },
   "file_extension": ".py",
   "mimetype": "text/x-python",
   "name": "python",
   "nbconvert_exporter": "python",
   "pygments_lexer": "ipython3",
   "version": "3.11.7"
  }
 },
 "nbformat": 4,
 "nbformat_minor": 5
}
