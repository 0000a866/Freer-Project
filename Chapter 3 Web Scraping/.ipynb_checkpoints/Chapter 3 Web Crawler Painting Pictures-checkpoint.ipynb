{
 "cells": [
  {
   "cell_type": "code",
   "execution_count": null,
   "id": "68761fc4-7b11-4ab3-902b-aaa847075458",
   "metadata": {},
   "outputs": [],
   "source": [
    "# \n",
    "\n",
    "import time\n",
    "\n",
    "import bs4\n",
    "from curl_cffi import requests\n",
    "\n",
    "\n",
    "\n",
    "\n",
    "\n",
    "with open(\"./all_pto_urls.txt\", \"w\", encoding=\"utf-8\") as f:\n",
    "    for page in range(96):\n",
    "        url = f\"https://asia.si.edu/explore-art-culture/collections/search/?edan_q=Charles+Lang+Freer&listStart={page}&edan_fq[]=place:China&edan_fq[]=object_type:Paintings\"\n",
    "        resp = requests.get(url, impersonate=\"chrome101\")\n",
    "        html = bs4.BeautifulSoup(resp.text, \"html.parser\")\n",
    "        if len(html.find(\"div\", class_=\"search-results-image-grid\").find(\"ul\").find_all(\"li\"))==0:\n",
    "            break\n",
    "        for li in html.find(\"div\", class_=\"search-results-image-grid\").find(\"ul\").find_all(\"li\"):\n",
    "            try:\n",
    "                img_url = li.find(\"div\").find(\"img\").get(\"src\")\n",
    "            except:\n",
    "                continue\n",
    "            print(page, img_url)\n",
    "            f.write(img_url+\"\\n\")\n",
    "        time.sleep(1.5)"
   ]
  },
  {
   "cell_type": "code",
   "execution_count": null,
   "id": "0b95936c-0cf7-40e7-abca-82a54f96be1b",
   "metadata": {},
   "outputs": [],
   "source": [
    "from curl_cffi import requests\n",
    "import os\n",
    "\n",
    "imgs = []\n",
    "\n",
    "for path in os.walk(\"./imgs\"):\n",
    "    imgs += path[2]\n",
    "\n",
    "\n",
    "\n",
    "for line in open(\"./all_pto_urls.txt\", encoding=\"utf-8\"):\n",
    "    line = line.strip()\n",
    "    url = line\n",
    "    id_ = url.split(\"&\")[0].split(\"?\")[-1].split(\"=\")[-1]\n",
    "    if id_+\".jpg\" in imgs:\n",
    "        continue\n",
    "    with open(f\"imgs/{id_}.jpg\", \"wb\") as f:\n",
    "        f.write(requests.get(url, impersonate=\"chrome101\").content)\n",
    "    print(id_+\".jpg\")\n",
    "    # input()"
   ]
  }
 ],
 "metadata": {
  "kernelspec": {
   "display_name": "Python 3 (ipykernel)",
   "language": "python",
   "name": "python3"
  },
  "language_info": {
   "codemirror_mode": {
    "name": "ipython",
    "version": 3
   },
   "file_extension": ".py",
   "mimetype": "text/x-python",
   "name": "python",
   "nbconvert_exporter": "python",
   "pygments_lexer": "ipython3",
   "version": "3.11.7"
  }
 },
 "nbformat": 4,
 "nbformat_minor": 5
}
