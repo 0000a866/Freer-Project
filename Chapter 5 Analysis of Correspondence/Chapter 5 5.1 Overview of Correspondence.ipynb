{
 "cells": [
  {
   "cell_type": "code",
   "execution_count": 48,
   "id": "f4b73736-b613-420f-bbcd-b04222e822fa",
   "metadata": {},
   "outputs": [
    {
     "name": "stdout",
     "output_type": "stream",
     "text": [
      "                                page_id  \\\n",
      "0            FS-FSA_A.01_02.1Abbott.001   \n",
      "1            FS-FSA_A.01_02.1Abbott.002   \n",
      "2               FS-FSA_A.01_02.1Abe.001   \n",
      "3               FS-FSA_A.01_02.1Abe.002   \n",
      "4               FS-FSA_A.01_02.1Abe.003   \n",
      "...                                 ...   \n",
      "12562  FS-FSA_A.01_02.1Unidentified.003   \n",
      "12563  FS-FSA_A.01_02.1Unidentified.004   \n",
      "12564  FS-FSA_A.01_02.1Unidentified.005   \n",
      "12565  FS-FSA_A.01_02.1Unidentified.006   \n",
      "12566  FS-FSA_A.01_02.1Unidentified.007   \n",
      "\n",
      "                                          name  \\\n",
      "0                         Abbott, Holker, 1904   \n",
      "1                         Abbott, Holker, 1904   \n",
      "2                       Abe Shojiro, 1911-1913   \n",
      "3                       Abe Shojiro, 1911-1913   \n",
      "4                       Abe Shojiro, 1911-1913   \n",
      "...                                        ...   \n",
      "12562  Unidentified correspondents, 1906, 1908   \n",
      "12563  Unidentified correspondents, 1906, 1908   \n",
      "12564  Unidentified correspondents, 1906, 1908   \n",
      "12565  Unidentified correspondents, 1906, 1908   \n",
      "12566  Unidentified correspondents, 1906, 1908   \n",
      "\n",
      "                                                 content  \\\n",
      "0      #33 Ferry Avenue,\\nDetroit, Michigan,\\nAugust ...   \n",
      "1      -2-\\n\\nIn the meantime, it may please you to k...   \n",
      "2      #2\\n\\nMr. C. L. Freer.\\nDetroit.\\nKobe Dec. 23...   \n",
      "3      while he was teaching in High school of the ci...   \n",
      "4      1\\n\\nansi  \\n\\nMr. C. L. Freer,\\nDetroit.\\n\\nK...   \n",
      "...                                                  ...   \n",
      "12562  [Stamp]\\nPOSTE ITALIANE CENT 50\\n[Stamp]\\nNAPO...   \n",
      "12563  of mind - keeps remarkably ever for a man of m...   \n",
      "12564                                          [[image]]   \n",
      "12565  Form No. 1516\\nCABLE MESSAGE\\nTHE WESTERN UNIO...   \n",
      "12566  TERMS AND CONDITIONS\\n\\nTo guard against mista...   \n",
      "\n",
      "                                    Name       Year  \n",
      "0                         Abbott, Holker       1904  \n",
      "1                         Abbott, Holker       1904  \n",
      "2                            Abe Shojiro  1911-1913  \n",
      "3                            Abe Shojiro  1911-1913  \n",
      "4                            Abe Shojiro  1911-1913  \n",
      "...                                  ...        ...  \n",
      "12562  Unidentified correspondents, 1906       1908  \n",
      "12563  Unidentified correspondents, 1906       1908  \n",
      "12564  Unidentified correspondents, 1906       1908  \n",
      "12565  Unidentified correspondents, 1906       1908  \n",
      "12566  Unidentified correspondents, 1906       1908  \n",
      "\n",
      "[12567 rows x 5 columns]\n"
     ]
    }
   ],
   "source": [
    "import pandas as pd\n",
    "\n",
    "df = pd.read_excel('Correspondence.xlsx')\n",
    "\n",
    "# # Define a function for spliting\n",
    "def split_name_and_year(full_string):\n",
    "    \n",
    "    # Attempt to split the string from the right\n",
    "    parts = full_string.rsplit(', ', 1)\n",
    "    \n",
    "    # If there is only one part, return the name and an empty year\n",
    "    if len(parts) == 1:\n",
    "        return parts[0], ''\n",
    "        \n",
    "    # If the last part after the split is a year or a year range\n",
    "    else:\n",
    "        name_part, year_part = parts\n",
    "        \n",
    "        # Take it as a year only if the year_part is entirely numeric or matches the format of a year range\n",
    "        if year_part.isdigit() or '-' in year_part:\n",
    "            return name_part, year_part\n",
    "        else:\n",
    "            return full_string, ''  # If it doesn't match the format, return the full string and an empty year\n",
    "\n",
    "# Use the apply method to apply the split function\n",
    "df[['Name', 'Year']] = df['name'].apply(lambda x: pd.Series(split_name_and_year(x)))\n",
    "\n",
    "print(df)\n"
   ]
  },
  {
   "cell_type": "code",
   "execution_count": 49,
   "id": "c27c3510-9f1a-41eb-b65e-efab96360c25",
   "metadata": {},
   "outputs": [
    {
     "name": "stderr",
     "output_type": "stream",
     "text": [
      "/var/folders/2q/4pt3l1310hsdw3s3474_y5p80000gn/T/ipykernel_2975/2145566563.py:27: SettingWithCopyWarning: \n",
      "A value is trying to be set on a copy of a slice from a DataFrame.\n",
      "Try using .loc[row_indexer,col_indexer] = value instead\n",
      "\n",
      "See the caveats in the documentation: https://pandas.pydata.org/pandas-docs/stable/user_guide/indexing.html#returning-a-view-versus-a-copy\n",
      "  df_filtered[['Name', 'Year']] = df_filtered['name'].apply(lambda x: pd.Series(split_name_and_year(x)))\n",
      "/var/folders/2q/4pt3l1310hsdw3s3474_y5p80000gn/T/ipykernel_2975/2145566563.py:27: SettingWithCopyWarning: \n",
      "A value is trying to be set on a copy of a slice from a DataFrame.\n",
      "Try using .loc[row_indexer,col_indexer] = value instead\n",
      "\n",
      "See the caveats in the documentation: https://pandas.pydata.org/pandas-docs/stable/user_guide/indexing.html#returning-a-view-versus-a-copy\n",
      "  df_filtered[['Name', 'Year']] = df_filtered['name'].apply(lambda x: pd.Series(split_name_and_year(x)))\n"
     ]
    }
   ],
   "source": [
    "import pandas as pd\n",
    "\n",
    "# 读取Excel文件\n",
    "df = pd.read_excel('Correspondence.xlsx')\n",
    "\n",
    "# 排除 page_id 列中包含指定标识符的行\n",
    "unidentified_range = [f'FS-FSA_A.01_02.1Unidentified.{str(i).zfill(3)}' for i in range(1, 8)]\n",
    "df_filtered = df[~df['page_id'].isin(unidentified_range)]\n",
    "\n",
    "# 定义一个拆分函数\n",
    "def split_name_and_year(full_string):\n",
    "    # 尝试从右边拆分字符串\n",
    "    parts = full_string.rsplit(', ', 1)\n",
    "    # 如果只有一个部分，返回名称和空的年份\n",
    "    if len(parts) == 1:\n",
    "        return parts[0], ''\n",
    "    # 如果分割后的最后一个部分是一个年份或者年份范围\n",
    "    else:\n",
    "        name_part, year_part = parts\n",
    "        # 仅当 year_part 全是数字或符合年份范围的格式时，才认为它是年份\n",
    "        if year_part.isdigit() or '-' in year_part:\n",
    "            return name_part, year_part\n",
    "        else:\n",
    "            return full_string, ''  # 如果不符合格式，返回完整的字符串和空的年份\n",
    "\n",
    "# 使用 apply 方法应用拆分函数，将 name 列拆分为 Name 和 Year 列\n",
    "df_filtered[['Name', 'Year']] = df_filtered['name'].apply(lambda x: pd.Series(split_name_and_year(x)))\n",
    "\n",
    "# 删除原来的 'name' 列（如果不再需要）\n",
    "df_filtered = df_filtered.drop(columns=['name'])\n",
    "\n",
    "# 展示最终的 DataFrame\n",
    "# print(df_filtered)\n",
    "\n",
    "\n",
    "# 将结果保存到临时的Excel文件\n",
    "temp_file_path = 'temp_ret_one.xlsx'\n",
    "df_filtered.to_excel(temp_file_path, index=False)\n"
   ]
  },
  {
   "cell_type": "code",
   "execution_count": null,
   "id": "17b8ab12-f924-4b67-86dd-bfc396c11fa7",
   "metadata": {},
   "outputs": [],
   "source": []
  },
  {
   "cell_type": "code",
   "execution_count": null,
   "id": "1e338eaa-e71d-4409-a1fe-0764ac01a906",
   "metadata": {},
   "outputs": [],
   "source": []
  },
  {
   "cell_type": "code",
   "execution_count": 1,
   "id": "a9c12f8f-2ed4-4f13-bf58-3b86657196b5",
   "metadata": {},
   "outputs": [
    {
     "name": "stdout",
     "output_type": "stream",
     "text": [
      "                      page_id  \\\n",
      "0  FS-FSA_A.01_02.1Abbott.001   \n",
      "1  FS-FSA_A.01_02.1Abbott.002   \n",
      "2     FS-FSA_A.01_02.1Abe.001   \n",
      "3     FS-FSA_A.01_02.1Abe.002   \n",
      "4     FS-FSA_A.01_02.1Abe.003   \n",
      "\n",
      "                                             content            Name  \\\n",
      "0  #33 Ferry Avenue,\\nDetroit, Michigan,\\nAugust ...  Abbott, Holker   \n",
      "1  -2-\\n\\nIn the meantime, it may please you to k...  Abbott, Holker   \n",
      "2  #2\\n\\nMr. C. L. Freer.\\nDetroit.\\nKobe Dec. 23...     Abe Shojiro   \n",
      "3  while he was teaching in High school of the ci...     Abe Shojiro   \n",
      "4  1\\n\\nansi  \\n\\nMr. C. L. Freer,\\nDetroit.\\n\\nK...     Abe Shojiro   \n",
      "\n",
      "        Year  \n",
      "0       1904  \n",
      "1       1904  \n",
      "2  1911-1913  \n",
      "3  1911-1913  \n",
      "4  1911-1913  \n"
     ]
    }
   ],
   "source": [
    "# 这个文件年份没有提完\n",
    "import pandas as pd\n",
    "import re\n",
    "\n",
    "# 读取Excel文件\n",
    "df = pd.read_excel('temp_ret_one.xlsx')\n",
    "\n",
    "# Function to extract years from Name column\n",
    "def extract_years_from_name(name):\n",
    "    if pd.isna(name):\n",
    "        return None\n",
    "    # Regex to find patterns like '1905', '1911-1913', etc.\n",
    "    match = re.search(r'(\\d{4})(?:-(\\d{4}))?', name)\n",
    "    if match:\n",
    "        start_year = match.group(1)\n",
    "        end_year = match.group(2)\n",
    "        if end_year:\n",
    "            return f\"{start_year}-{end_year}\"\n",
    "        else:\n",
    "            return start_year\n",
    "    return None\n",
    "\n",
    "# Apply the extraction function to rows where Year is missing\n",
    "df['Year'] = df.apply(lambda row: extract_years_from_name(row['Name']) if pd.isna(row['Year']) else row['Year'], axis=1)\n",
    "\n",
    "# Display the updated dataframe (for checking)\n",
    "print(df.head())\n",
    "\n",
    "# 保存更新后的文件\n",
    "df.to_excel('updated_temp_ret_one.xlsx', index=False)\n"
   ]
  },
  {
   "cell_type": "code",
   "execution_count": null,
   "id": "42c2ddd7-df8d-426b-bf70-66fbafa20ee8",
   "metadata": {},
   "outputs": [],
   "source": []
  },
  {
   "cell_type": "code",
   "execution_count": 1,
   "id": "ad2bdbe8-083e-44aa-b52c-62e38dd0a82e",
   "metadata": {},
   "outputs": [
    {
     "name": "stdout",
     "output_type": "stream",
     "text": [
      "                      page_id  \\\n",
      "0  FS-FSA_A.01_02.1Abbott.001   \n",
      "1  FS-FSA_A.01_02.1Abbott.002   \n",
      "2     FS-FSA_A.01_02.1Abe.001   \n",
      "3     FS-FSA_A.01_02.1Abe.002   \n",
      "4     FS-FSA_A.01_02.1Abe.003   \n",
      "\n",
      "                                             content            Name  \\\n",
      "0  #33 Ferry Avenue,\\nDetroit, Michigan,\\nAugust ...  Abbott, Holker   \n",
      "1  -2-\\n\\nIn the meantime, it may please you to k...  Abbott, Holker   \n",
      "2  #2\\n\\nMr. C. L. Freer.\\nDetroit.\\nKobe Dec. 23...     Abe Shojiro   \n",
      "3  while he was teaching in High school of the ci...     Abe Shojiro   \n",
      "4  1\\n\\nansi  \\n\\nMr. C. L. Freer,\\nDetroit.\\n\\nK...     Abe Shojiro   \n",
      "\n",
      "        Year refined_year  \n",
      "0       1904         1904  \n",
      "1       1904         1904  \n",
      "2  1911-1913    1911-1913  \n",
      "3  1911-1913    1911-1913  \n",
      "4  1911-1913         1913  \n"
     ]
    }
   ],
   "source": [
    "import pandas as pd\n",
    "import re\n",
    "\n",
    "df_filtered = pd.read_excel('updated_temp_ret_one.xlsx')\n",
    "\n",
    "\n",
    "# 确保所有content列中的值都是字符串\n",
    "df_filtered['content'] = df_filtered['content'].astype(str)\n",
    "\n",
    "# 确保所有year列中的值都是字符串\n",
    "df_filtered['Year'] = df_filtered['Year'].astype(str)\n",
    "\n",
    "# 定义函数来处理年份\n",
    "def process_year(row):\n",
    "    year = row['Year']\n",
    "    content = row['content']\n",
    "    \n",
    "    # 如果content为空，则保持年份不变\n",
    "    if not content.strip():\n",
    "        return year\n",
    "    \n",
    "    # 确保content是字符串\n",
    "    if not isinstance(content, str):\n",
    "        content = str(content)\n",
    "    \n",
    "    # 如果年份是一个范围（四位数-四位数），则从content中识别具体年份\n",
    "    if re.match(r'\\d{4}-\\d{4}', year):\n",
    "        try:\n",
    "            # 使用正则表达式匹配年份\n",
    "            matches = re.findall(r'\\b(189\\d|19[0-1]\\d)\\b', content)\n",
    "            if matches:\n",
    "                # 返回第一个匹配的年份\n",
    "                return matches[0]\n",
    "        except Exception as e:\n",
    "            print(f\"Error parsing content: {content}, Error: {e}\")\n",
    "    \n",
    "    # 如果年份不是范围，直接返回原始年份\n",
    "    return year\n",
    "\n",
    "# 应用函数并更新year列\n",
    "df_filtered['refined_year'] = df_filtered.apply(process_year, axis=1)\n",
    "\n",
    "print(df_filtered.head()) \n",
    "\n",
    "# 将结果保存到临时的Excel文件\n",
    "temp_file_path = 'temp_ret_two.xlsx'\n",
    "df_filtered.to_excel(temp_file_path, index=False)\n",
    "\n"
   ]
  },
  {
   "cell_type": "code",
   "execution_count": null,
   "id": "0b27595e-0f09-44fe-afba-64e20f173222",
   "metadata": {},
   "outputs": [],
   "source": []
  },
  {
   "cell_type": "code",
   "execution_count": 2,
   "id": "a20bf39c-ab6a-4109-9128-af40af7c3605",
   "metadata": {},
   "outputs": [
    {
     "name": "stdout",
     "output_type": "stream",
     "text": [
      "{1904: 367.29, 1911: 459.07, 1912: 478.06, 1913: 708.79, 1919: 868.27, 1915: 900.92, 1909: 415.31, 1917: 1223.56, 1914: 931.4, 1916: 1013.03, 1918: 994.29, 1907: 360.44, 1906: 287.97, 1908: 345.26, 1910: 340.32, 1891: 114.66, 1892: 165.84, 1893: 184.1, 1894: 194.1, 1895: 161.52, 1896: 155.62, 1897: 162.62, 1898: 147.52, 1899: 149.4, 1900: 191.2, 1901: 217.11, 1902: 290.33, 1903: 305.25, 1905: 315.1, 1920: 35.63, 1890: 69.51, 1889: 40.86, 1888: 23.61, 1876: 1, 1887: 3.74, 1886: 1.3}\n"
     ]
    }
   ],
   "source": [
    "import pandas as pd\n",
    "import numpy as np\n",
    "\n",
    "\n",
    "# 确保所有refined_year列中的值都是字符串\n",
    "df_filtered['refined_year'] = df_filtered['refined_year'].astype(str)\n",
    "\n",
    "# 初始化字典来存储每个年份的计数\n",
    "year_counts = {}\n",
    "\n",
    "# 遍历 DataFrame 的每一行\n",
    "for index, row in df_filtered.iterrows():\n",
    "    year_string = row['refined_year']\n",
    "    \n",
    "    # 跳过空值或者无效的年份字符串\n",
    "    if pd.isnull(year_string) or not year_string.strip():\n",
    "        continue\n",
    "    \n",
    "    # 处理单一年份的情况\n",
    "    if '-' not in year_string:\n",
    "        try:\n",
    "            year = int(year_string)\n",
    "            if year in year_counts:\n",
    "                year_counts[year] += 1\n",
    "            else:\n",
    "                year_counts[year] = 1\n",
    "        except ValueError:\n",
    "            pass  # 跳过无法转换为整数的情况\n",
    "    \n",
    "    else:\n",
    "        # 处理范围年份的情况，例如 1911-1913\n",
    "        try:\n",
    "            start_year, end_year = map(int, year_string.split('-'))\n",
    "            num_years = end_year - start_year + 1\n",
    "            weight = round(1 / num_years, 2)\n",
    "            \n",
    "            for year in range(start_year, end_year + 1):\n",
    "                if year in year_counts:\n",
    "                    year_counts[year] += weight\n",
    "                else:\n",
    "                    year_counts[year] = weight\n",
    "        except ValueError:\n",
    "            pass  # 跳过无法解析为范围的情况\n",
    "\n",
    "# 输出结果，保留两位小数\n",
    "result = {year: round(count, 2) for year, count in year_counts.items()}\n",
    "print(result)\n"
   ]
  },
  {
   "cell_type": "code",
   "execution_count": null,
   "id": "98762da6-1270-46fd-b324-152450242f1d",
   "metadata": {},
   "outputs": [],
   "source": []
  },
  {
   "cell_type": "code",
   "execution_count": null,
   "id": "3ae5a157-a7ed-4c74-93ff-9132709053f1",
   "metadata": {},
   "outputs": [],
   "source": []
  },
  {
   "cell_type": "code",
   "execution_count": 7,
   "id": "abc17630-a605-4f68-a38a-7be8f68faa62",
   "metadata": {},
   "outputs": [
    {
     "data": {
      "application/vnd.plotly.v1+json": {
       "config": {
        "plotlyServerURL": "https://plot.ly"
       },
       "data": [
        {
         "marker": {
          "color": "#619AC3"
         },
         "type": "bar",
         "x": [
          1876,
          1886,
          1887,
          1888,
          1889,
          1890,
          1891,
          1892,
          1893,
          1894,
          1895,
          1896,
          1897,
          1898,
          1899,
          1900,
          1901,
          1902,
          1903,
          1904,
          1905,
          1906,
          1907,
          1908,
          1909,
          1910,
          1911,
          1912,
          1913,
          1914,
          1915,
          1916,
          1917,
          1918,
          1919,
          1920
         ],
         "y": [
          1,
          1.3,
          3.74,
          23.61,
          40.86,
          69.51,
          114.66,
          165.84,
          184.1,
          194.1,
          161.52,
          155.62,
          162.62,
          147.52,
          149.4,
          191.2,
          217.11,
          290.33,
          305.25,
          367.29,
          315.1,
          287.97,
          360.44,
          345.26,
          415.31,
          340.32,
          459.07,
          478.06,
          708.79,
          931.4,
          900.92,
          1013.03,
          1223.56,
          994.29,
          868.27,
          35.63
         ]
        }
       ],
       "layout": {
        "autosize": true,
        "plot_bgcolor": "#E5ECF6",
        "template": {
         "data": {
          "bar": [
           {
            "error_x": {
             "color": "#2a3f5f"
            },
            "error_y": {
             "color": "#2a3f5f"
            },
            "marker": {
             "line": {
              "color": "#E5ECF6",
              "width": 0.5
             },
             "pattern": {
              "fillmode": "overlay",
              "size": 10,
              "solidity": 0.2
             }
            },
            "type": "bar"
           }
          ],
          "barpolar": [
           {
            "marker": {
             "line": {
              "color": "#E5ECF6",
              "width": 0.5
             },
             "pattern": {
              "fillmode": "overlay",
              "size": 10,
              "solidity": 0.2
             }
            },
            "type": "barpolar"
           }
          ],
          "carpet": [
           {
            "aaxis": {
             "endlinecolor": "#2a3f5f",
             "gridcolor": "white",
             "linecolor": "white",
             "minorgridcolor": "white",
             "startlinecolor": "#2a3f5f"
            },
            "baxis": {
             "endlinecolor": "#2a3f5f",
             "gridcolor": "white",
             "linecolor": "white",
             "minorgridcolor": "white",
             "startlinecolor": "#2a3f5f"
            },
            "type": "carpet"
           }
          ],
          "choropleth": [
           {
            "colorbar": {
             "outlinewidth": 0,
             "ticks": ""
            },
            "type": "choropleth"
           }
          ],
          "contour": [
           {
            "colorbar": {
             "outlinewidth": 0,
             "ticks": ""
            },
            "colorscale": [
             [
              0,
              "#0d0887"
             ],
             [
              0.1111111111111111,
              "#46039f"
             ],
             [
              0.2222222222222222,
              "#7201a8"
             ],
             [
              0.3333333333333333,
              "#9c179e"
             ],
             [
              0.4444444444444444,
              "#bd3786"
             ],
             [
              0.5555555555555556,
              "#d8576b"
             ],
             [
              0.6666666666666666,
              "#ed7953"
             ],
             [
              0.7777777777777778,
              "#fb9f3a"
             ],
             [
              0.8888888888888888,
              "#fdca26"
             ],
             [
              1,
              "#f0f921"
             ]
            ],
            "type": "contour"
           }
          ],
          "contourcarpet": [
           {
            "colorbar": {
             "outlinewidth": 0,
             "ticks": ""
            },
            "type": "contourcarpet"
           }
          ],
          "heatmap": [
           {
            "colorbar": {
             "outlinewidth": 0,
             "ticks": ""
            },
            "colorscale": [
             [
              0,
              "#0d0887"
             ],
             [
              0.1111111111111111,
              "#46039f"
             ],
             [
              0.2222222222222222,
              "#7201a8"
             ],
             [
              0.3333333333333333,
              "#9c179e"
             ],
             [
              0.4444444444444444,
              "#bd3786"
             ],
             [
              0.5555555555555556,
              "#d8576b"
             ],
             [
              0.6666666666666666,
              "#ed7953"
             ],
             [
              0.7777777777777778,
              "#fb9f3a"
             ],
             [
              0.8888888888888888,
              "#fdca26"
             ],
             [
              1,
              "#f0f921"
             ]
            ],
            "type": "heatmap"
           }
          ],
          "heatmapgl": [
           {
            "colorbar": {
             "outlinewidth": 0,
             "ticks": ""
            },
            "colorscale": [
             [
              0,
              "#0d0887"
             ],
             [
              0.1111111111111111,
              "#46039f"
             ],
             [
              0.2222222222222222,
              "#7201a8"
             ],
             [
              0.3333333333333333,
              "#9c179e"
             ],
             [
              0.4444444444444444,
              "#bd3786"
             ],
             [
              0.5555555555555556,
              "#d8576b"
             ],
             [
              0.6666666666666666,
              "#ed7953"
             ],
             [
              0.7777777777777778,
              "#fb9f3a"
             ],
             [
              0.8888888888888888,
              "#fdca26"
             ],
             [
              1,
              "#f0f921"
             ]
            ],
            "type": "heatmapgl"
           }
          ],
          "histogram": [
           {
            "marker": {
             "pattern": {
              "fillmode": "overlay",
              "size": 10,
              "solidity": 0.2
             }
            },
            "type": "histogram"
           }
          ],
          "histogram2d": [
           {
            "colorbar": {
             "outlinewidth": 0,
             "ticks": ""
            },
            "colorscale": [
             [
              0,
              "#0d0887"
             ],
             [
              0.1111111111111111,
              "#46039f"
             ],
             [
              0.2222222222222222,
              "#7201a8"
             ],
             [
              0.3333333333333333,
              "#9c179e"
             ],
             [
              0.4444444444444444,
              "#bd3786"
             ],
             [
              0.5555555555555556,
              "#d8576b"
             ],
             [
              0.6666666666666666,
              "#ed7953"
             ],
             [
              0.7777777777777778,
              "#fb9f3a"
             ],
             [
              0.8888888888888888,
              "#fdca26"
             ],
             [
              1,
              "#f0f921"
             ]
            ],
            "type": "histogram2d"
           }
          ],
          "histogram2dcontour": [
           {
            "colorbar": {
             "outlinewidth": 0,
             "ticks": ""
            },
            "colorscale": [
             [
              0,
              "#0d0887"
             ],
             [
              0.1111111111111111,
              "#46039f"
             ],
             [
              0.2222222222222222,
              "#7201a8"
             ],
             [
              0.3333333333333333,
              "#9c179e"
             ],
             [
              0.4444444444444444,
              "#bd3786"
             ],
             [
              0.5555555555555556,
              "#d8576b"
             ],
             [
              0.6666666666666666,
              "#ed7953"
             ],
             [
              0.7777777777777778,
              "#fb9f3a"
             ],
             [
              0.8888888888888888,
              "#fdca26"
             ],
             [
              1,
              "#f0f921"
             ]
            ],
            "type": "histogram2dcontour"
           }
          ],
          "mesh3d": [
           {
            "colorbar": {
             "outlinewidth": 0,
             "ticks": ""
            },
            "type": "mesh3d"
           }
          ],
          "parcoords": [
           {
            "line": {
             "colorbar": {
              "outlinewidth": 0,
              "ticks": ""
             }
            },
            "type": "parcoords"
           }
          ],
          "pie": [
           {
            "automargin": true,
            "type": "pie"
           }
          ],
          "scatter": [
           {
            "fillpattern": {
             "fillmode": "overlay",
             "size": 10,
             "solidity": 0.2
            },
            "type": "scatter"
           }
          ],
          "scatter3d": [
           {
            "line": {
             "colorbar": {
              "outlinewidth": 0,
              "ticks": ""
             }
            },
            "marker": {
             "colorbar": {
              "outlinewidth": 0,
              "ticks": ""
             }
            },
            "type": "scatter3d"
           }
          ],
          "scattercarpet": [
           {
            "marker": {
             "colorbar": {
              "outlinewidth": 0,
              "ticks": ""
             }
            },
            "type": "scattercarpet"
           }
          ],
          "scattergeo": [
           {
            "marker": {
             "colorbar": {
              "outlinewidth": 0,
              "ticks": ""
             }
            },
            "type": "scattergeo"
           }
          ],
          "scattergl": [
           {
            "marker": {
             "colorbar": {
              "outlinewidth": 0,
              "ticks": ""
             }
            },
            "type": "scattergl"
           }
          ],
          "scattermapbox": [
           {
            "marker": {
             "colorbar": {
              "outlinewidth": 0,
              "ticks": ""
             }
            },
            "type": "scattermapbox"
           }
          ],
          "scatterpolar": [
           {
            "marker": {
             "colorbar": {
              "outlinewidth": 0,
              "ticks": ""
             }
            },
            "type": "scatterpolar"
           }
          ],
          "scatterpolargl": [
           {
            "marker": {
             "colorbar": {
              "outlinewidth": 0,
              "ticks": ""
             }
            },
            "type": "scatterpolargl"
           }
          ],
          "scatterternary": [
           {
            "marker": {
             "colorbar": {
              "outlinewidth": 0,
              "ticks": ""
             }
            },
            "type": "scatterternary"
           }
          ],
          "surface": [
           {
            "colorbar": {
             "outlinewidth": 0,
             "ticks": ""
            },
            "colorscale": [
             [
              0,
              "#0d0887"
             ],
             [
              0.1111111111111111,
              "#46039f"
             ],
             [
              0.2222222222222222,
              "#7201a8"
             ],
             [
              0.3333333333333333,
              "#9c179e"
             ],
             [
              0.4444444444444444,
              "#bd3786"
             ],
             [
              0.5555555555555556,
              "#d8576b"
             ],
             [
              0.6666666666666666,
              "#ed7953"
             ],
             [
              0.7777777777777778,
              "#fb9f3a"
             ],
             [
              0.8888888888888888,
              "#fdca26"
             ],
             [
              1,
              "#f0f921"
             ]
            ],
            "type": "surface"
           }
          ],
          "table": [
           {
            "cells": {
             "fill": {
              "color": "#EBF0F8"
             },
             "line": {
              "color": "white"
             }
            },
            "header": {
             "fill": {
              "color": "#C8D4E3"
             },
             "line": {
              "color": "white"
             }
            },
            "type": "table"
           }
          ]
         },
         "layout": {
          "annotationdefaults": {
           "arrowcolor": "#2a3f5f",
           "arrowhead": 0,
           "arrowwidth": 1
          },
          "autotypenumbers": "strict",
          "coloraxis": {
           "colorbar": {
            "outlinewidth": 0,
            "ticks": ""
           }
          },
          "colorscale": {
           "diverging": [
            [
             0,
             "#8e0152"
            ],
            [
             0.1,
             "#c51b7d"
            ],
            [
             0.2,
             "#de77ae"
            ],
            [
             0.3,
             "#f1b6da"
            ],
            [
             0.4,
             "#fde0ef"
            ],
            [
             0.5,
             "#f7f7f7"
            ],
            [
             0.6,
             "#e6f5d0"
            ],
            [
             0.7,
             "#b8e186"
            ],
            [
             0.8,
             "#7fbc41"
            ],
            [
             0.9,
             "#4d9221"
            ],
            [
             1,
             "#276419"
            ]
           ],
           "sequential": [
            [
             0,
             "#0d0887"
            ],
            [
             0.1111111111111111,
             "#46039f"
            ],
            [
             0.2222222222222222,
             "#7201a8"
            ],
            [
             0.3333333333333333,
             "#9c179e"
            ],
            [
             0.4444444444444444,
             "#bd3786"
            ],
            [
             0.5555555555555556,
             "#d8576b"
            ],
            [
             0.6666666666666666,
             "#ed7953"
            ],
            [
             0.7777777777777778,
             "#fb9f3a"
            ],
            [
             0.8888888888888888,
             "#fdca26"
            ],
            [
             1,
             "#f0f921"
            ]
           ],
           "sequentialminus": [
            [
             0,
             "#0d0887"
            ],
            [
             0.1111111111111111,
             "#46039f"
            ],
            [
             0.2222222222222222,
             "#7201a8"
            ],
            [
             0.3333333333333333,
             "#9c179e"
            ],
            [
             0.4444444444444444,
             "#bd3786"
            ],
            [
             0.5555555555555556,
             "#d8576b"
            ],
            [
             0.6666666666666666,
             "#ed7953"
            ],
            [
             0.7777777777777778,
             "#fb9f3a"
            ],
            [
             0.8888888888888888,
             "#fdca26"
            ],
            [
             1,
             "#f0f921"
            ]
           ]
          },
          "colorway": [
           "#636efa",
           "#EF553B",
           "#00cc96",
           "#ab63fa",
           "#FFA15A",
           "#19d3f3",
           "#FF6692",
           "#B6E880",
           "#FF97FF",
           "#FECB52"
          ],
          "font": {
           "color": "#2a3f5f"
          },
          "geo": {
           "bgcolor": "white",
           "lakecolor": "white",
           "landcolor": "#E5ECF6",
           "showlakes": true,
           "showland": true,
           "subunitcolor": "white"
          },
          "hoverlabel": {
           "align": "left"
          },
          "hovermode": "closest",
          "mapbox": {
           "style": "light"
          },
          "paper_bgcolor": "white",
          "plot_bgcolor": "#E5ECF6",
          "polar": {
           "angularaxis": {
            "gridcolor": "white",
            "linecolor": "white",
            "ticks": ""
           },
           "bgcolor": "#E5ECF6",
           "radialaxis": {
            "gridcolor": "white",
            "linecolor": "white",
            "ticks": ""
           }
          },
          "scene": {
           "xaxis": {
            "backgroundcolor": "#E5ECF6",
            "gridcolor": "white",
            "gridwidth": 2,
            "linecolor": "white",
            "showbackground": true,
            "ticks": "",
            "zerolinecolor": "white"
           },
           "yaxis": {
            "backgroundcolor": "#E5ECF6",
            "gridcolor": "white",
            "gridwidth": 2,
            "linecolor": "white",
            "showbackground": true,
            "ticks": "",
            "zerolinecolor": "white"
           },
           "zaxis": {
            "backgroundcolor": "#E5ECF6",
            "gridcolor": "white",
            "gridwidth": 2,
            "linecolor": "white",
            "showbackground": true,
            "ticks": "",
            "zerolinecolor": "white"
           }
          },
          "shapedefaults": {
           "line": {
            "color": "#2a3f5f"
           }
          },
          "ternary": {
           "aaxis": {
            "gridcolor": "white",
            "linecolor": "white",
            "ticks": ""
           },
           "baxis": {
            "gridcolor": "white",
            "linecolor": "white",
            "ticks": ""
           },
           "bgcolor": "#E5ECF6",
           "caxis": {
            "gridcolor": "white",
            "linecolor": "white",
            "ticks": ""
           }
          },
          "title": {
           "x": 0.05
          },
          "xaxis": {
           "automargin": true,
           "gridcolor": "white",
           "linecolor": "white",
           "ticks": "",
           "title": {
            "standoff": 15
           },
           "zerolinecolor": "white",
           "zerolinewidth": 2
          },
          "yaxis": {
           "automargin": true,
           "gridcolor": "white",
           "linecolor": "white",
           "ticks": "",
           "title": {
            "standoff": 15
           },
           "zerolinecolor": "white",
           "zerolinewidth": 2
          }
         }
        },
        "title": {
         "text": "Number of Correspondence"
        },
        "xaxis": {
         "autorange": true,
         "dtick": 1,
         "range": [
          1875.5,
          1920.5
         ],
         "tickangle": -45,
         "tickmode": "linear",
         "title": {
          "text": "Year"
         },
         "type": "linear"
        },
        "yaxis": {
         "autorange": true,
         "range": [
          0,
          1287.957894736842
         ],
         "showgrid": true,
         "title": {
          "text": "Count"
         },
         "type": "linear"
        }
       }
      },
      "image/png": "[encoded data removed]",
      "text/html": [
       "<div>                            <div id=\"8b627c54-6be4-42b7-89b8-c7781188e58f\" class=\"plotly-graph-div\" style=\"height:500px; width:100%;\"></div>            <script type=\"text/javascript\">                require([\"plotly\"], function(Plotly) {                    window.PLOTLYENV=window.PLOTLYENV || {};                                    if (document.getElementById(\"8b627c54-6be4-42b7-89b8-c7781188e58f\")) {                    Plotly.newPlot(                        \"8b627c54-6be4-42b7-89b8-c7781188e58f\",                        [{\"marker\":{\"color\":\"#619AC3\"},\"x\":[1876,1886,1887,1888,1889,1890,1891,1892,1893,1894,1895,1896,1897,1898,1899,1900,1901,1902,1903,1904,1905,1906,1907,1908,1909,1910,1911,1912,1913,1914,1915,1916,1917,1918,1919,1920],\"y\":[1,1.3,3.74,23.61,40.86,69.51,114.66,165.84,184.1,194.1,161.52,155.62,162.62,147.52,149.4,191.2,217.11,290.33,305.25,367.29,315.1,287.97,360.44,345.26,415.31,340.32,459.07,478.06,708.79,931.4,900.92,1013.03,1223.56,994.29,868.27,35.63],\"type\":\"bar\"}],                        {\"template\":{\"data\":{\"histogram2dcontour\":[{\"type\":\"histogram2dcontour\",\"colorbar\":{\"outlinewidth\":0,\"ticks\":\"\"},\"colorscale\":[[0.0,\"#0d0887\"],[0.1111111111111111,\"#46039f\"],[0.2222222222222222,\"#7201a8\"],[0.3333333333333333,\"#9c179e\"],[0.4444444444444444,\"#bd3786\"],[0.5555555555555556,\"#d8576b\"],[0.6666666666666666,\"#ed7953\"],[0.7777777777777778,\"#fb9f3a\"],[0.8888888888888888,\"#fdca26\"],[1.0,\"#f0f921\"]]}],\"choropleth\":[{\"type\":\"choropleth\",\"colorbar\":{\"outlinewidth\":0,\"ticks\":\"\"}}],\"histogram2d\":[{\"type\":\"histogram2d\",\"colorbar\":{\"outlinewidth\":0,\"ticks\":\"\"},\"colorscale\":[[0.0,\"#0d0887\"],[0.1111111111111111,\"#46039f\"],[0.2222222222222222,\"#7201a8\"],[0.3333333333333333,\"#9c179e\"],[0.4444444444444444,\"#bd3786\"],[0.5555555555555556,\"#d8576b\"],[0.6666666666666666,\"#ed7953\"],[0.7777777777777778,\"#fb9f3a\"],[0.8888888888888888,\"#fdca26\"],[1.0,\"#f0f921\"]]}],\"heatmap\":[{\"type\":\"heatmap\",\"colorbar\":{\"outlinewidth\":0,\"ticks\":\"\"},\"colorscale\":[[0.0,\"#0d0887\"],[0.1111111111111111,\"#46039f\"],[0.2222222222222222,\"#7201a8\"],[0.3333333333333333,\"#9c179e\"],[0.4444444444444444,\"#bd3786\"],[0.5555555555555556,\"#d8576b\"],[0.6666666666666666,\"#ed7953\"],[0.7777777777777778,\"#fb9f3a\"],[0.8888888888888888,\"#fdca26\"],[1.0,\"#f0f921\"]]}],\"heatmapgl\":[{\"type\":\"heatmapgl\",\"colorbar\":{\"outlinewidth\":0,\"ticks\":\"\"},\"colorscale\":[[0.0,\"#0d0887\"],[0.1111111111111111,\"#46039f\"],[0.2222222222222222,\"#7201a8\"],[0.3333333333333333,\"#9c179e\"],[0.4444444444444444,\"#bd3786\"],[0.5555555555555556,\"#d8576b\"],[0.6666666666666666,\"#ed7953\"],[0.7777777777777778,\"#fb9f3a\"],[0.8888888888888888,\"#fdca26\"],[1.0,\"#f0f921\"]]}],\"contourcarpet\":[{\"type\":\"contourcarpet\",\"colorbar\":{\"outlinewidth\":0,\"ticks\":\"\"}}],\"contour\":[{\"type\":\"contour\",\"colorbar\":{\"outlinewidth\":0,\"ticks\":\"\"},\"colorscale\":[[0.0,\"#0d0887\"],[0.1111111111111111,\"#46039f\"],[0.2222222222222222,\"#7201a8\"],[0.3333333333333333,\"#9c179e\"],[0.4444444444444444,\"#bd3786\"],[0.5555555555555556,\"#d8576b\"],[0.6666666666666666,\"#ed7953\"],[0.7777777777777778,\"#fb9f3a\"],[0.8888888888888888,\"#fdca26\"],[1.0,\"#f0f921\"]]}],\"surface\":[{\"type\":\"surface\",\"colorbar\":{\"outlinewidth\":0,\"ticks\":\"\"},\"colorscale\":[[0.0,\"#0d0887\"],[0.1111111111111111,\"#46039f\"],[0.2222222222222222,\"#7201a8\"],[0.3333333333333333,\"#9c179e\"],[0.4444444444444444,\"#bd3786\"],[0.5555555555555556,\"#d8576b\"],[0.6666666666666666,\"#ed7953\"],[0.7777777777777778,\"#fb9f3a\"],[0.8888888888888888,\"#fdca26\"],[1.0,\"#f0f921\"]]}],\"mesh3d\":[{\"type\":\"mesh3d\",\"colorbar\":{\"outlinewidth\":0,\"ticks\":\"\"}}],\"scatter\":[{\"fillpattern\":{\"fillmode\":\"overlay\",\"size\":10,\"solidity\":0.2},\"type\":\"scatter\"}],\"parcoords\":[{\"type\":\"parcoords\",\"line\":{\"colorbar\":{\"outlinewidth\":0,\"ticks\":\"\"}}}],\"scatterpolargl\":[{\"type\":\"scatterpolargl\",\"marker\":{\"colorbar\":{\"outlinewidth\":0,\"ticks\":\"\"}}}],\"bar\":[{\"error_x\":{\"color\":\"#2a3f5f\"},\"error_y\":{\"color\":\"#2a3f5f\"},\"marker\":{\"line\":{\"color\":\"#E5ECF6\",\"width\":0.5},\"pattern\":{\"fillmode\":\"overlay\",\"size\":10,\"solidity\":0.2}},\"type\":\"bar\"}],\"scattergeo\":[{\"type\":\"scattergeo\",\"marker\":{\"colorbar\":{\"outlinewidth\":0,\"ticks\":\"\"}}}],\"scatterpolar\":[{\"type\":\"scatterpolar\",\"marker\":{\"colorbar\":{\"outlinewidth\":0,\"ticks\":\"\"}}}],\"histogram\":[{\"marker\":{\"pattern\":{\"fillmode\":\"overlay\",\"size\":10,\"solidity\":0.2}},\"type\":\"histogram\"}],\"scattergl\":[{\"type\":\"scattergl\",\"marker\":{\"colorbar\":{\"outlinewidth\":0,\"ticks\":\"\"}}}],\"scatter3d\":[{\"type\":\"scatter3d\",\"line\":{\"colorbar\":{\"outlinewidth\":0,\"ticks\":\"\"}},\"marker\":{\"colorbar\":{\"outlinewidth\":0,\"ticks\":\"\"}}}],\"scattermapbox\":[{\"type\":\"scattermapbox\",\"marker\":{\"colorbar\":{\"outlinewidth\":0,\"ticks\":\"\"}}}],\"scatterternary\":[{\"type\":\"scatterternary\",\"marker\":{\"colorbar\":{\"outlinewidth\":0,\"ticks\":\"\"}}}],\"scattercarpet\":[{\"type\":\"scattercarpet\",\"marker\":{\"colorbar\":{\"outlinewidth\":0,\"ticks\":\"\"}}}],\"carpet\":[{\"aaxis\":{\"endlinecolor\":\"#2a3f5f\",\"gridcolor\":\"white\",\"linecolor\":\"white\",\"minorgridcolor\":\"white\",\"startlinecolor\":\"#2a3f5f\"},\"baxis\":{\"endlinecolor\":\"#2a3f5f\",\"gridcolor\":\"white\",\"linecolor\":\"white\",\"minorgridcolor\":\"white\",\"startlinecolor\":\"#2a3f5f\"},\"type\":\"carpet\"}],\"table\":[{\"cells\":{\"fill\":{\"color\":\"#EBF0F8\"},\"line\":{\"color\":\"white\"}},\"header\":{\"fill\":{\"color\":\"#C8D4E3\"},\"line\":{\"color\":\"white\"}},\"type\":\"table\"}],\"barpolar\":[{\"marker\":{\"line\":{\"color\":\"#E5ECF6\",\"width\":0.5},\"pattern\":{\"fillmode\":\"overlay\",\"size\":10,\"solidity\":0.2}},\"type\":\"barpolar\"}],\"pie\":[{\"automargin\":true,\"type\":\"pie\"}]},\"layout\":{\"autotypenumbers\":\"strict\",\"colorway\":[\"#636efa\",\"#EF553B\",\"#00cc96\",\"#ab63fa\",\"#FFA15A\",\"#19d3f3\",\"#FF6692\",\"#B6E880\",\"#FF97FF\",\"#FECB52\"],\"font\":{\"color\":\"#2a3f5f\"},\"hovermode\":\"closest\",\"hoverlabel\":{\"align\":\"left\"},\"paper_bgcolor\":\"white\",\"plot_bgcolor\":\"#E5ECF6\",\"polar\":{\"bgcolor\":\"#E5ECF6\",\"angularaxis\":{\"gridcolor\":\"white\",\"linecolor\":\"white\",\"ticks\":\"\"},\"radialaxis\":{\"gridcolor\":\"white\",\"linecolor\":\"white\",\"ticks\":\"\"}},\"ternary\":{\"bgcolor\":\"#E5ECF6\",\"aaxis\":{\"gridcolor\":\"white\",\"linecolor\":\"white\",\"ticks\":\"\"},\"baxis\":{\"gridcolor\":\"white\",\"linecolor\":\"white\",\"ticks\":\"\"},\"caxis\":{\"gridcolor\":\"white\",\"linecolor\":\"white\",\"ticks\":\"\"}},\"coloraxis\":{\"colorbar\":{\"outlinewidth\":0,\"ticks\":\"\"}},\"colorscale\":{\"sequential\":[[0.0,\"#0d0887\"],[0.1111111111111111,\"#46039f\"],[0.2222222222222222,\"#7201a8\"],[0.3333333333333333,\"#9c179e\"],[0.4444444444444444,\"#bd3786\"],[0.5555555555555556,\"#d8576b\"],[0.6666666666666666,\"#ed7953\"],[0.7777777777777778,\"#fb9f3a\"],[0.8888888888888888,\"#fdca26\"],[1.0,\"#f0f921\"]],\"sequentialminus\":[[0.0,\"#0d0887\"],[0.1111111111111111,\"#46039f\"],[0.2222222222222222,\"#7201a8\"],[0.3333333333333333,\"#9c179e\"],[0.4444444444444444,\"#bd3786\"],[0.5555555555555556,\"#d8576b\"],[0.6666666666666666,\"#ed7953\"],[0.7777777777777778,\"#fb9f3a\"],[0.8888888888888888,\"#fdca26\"],[1.0,\"#f0f921\"]],\"diverging\":[[0,\"#8e0152\"],[0.1,\"#c51b7d\"],[0.2,\"#de77ae\"],[0.3,\"#f1b6da\"],[0.4,\"#fde0ef\"],[0.5,\"#f7f7f7\"],[0.6,\"#e6f5d0\"],[0.7,\"#b8e186\"],[0.8,\"#7fbc41\"],[0.9,\"#4d9221\"],[1,\"#276419\"]]},\"xaxis\":{\"gridcolor\":\"white\",\"linecolor\":\"white\",\"ticks\":\"\",\"title\":{\"standoff\":15},\"zerolinecolor\":\"white\",\"automargin\":true,\"zerolinewidth\":2},\"yaxis\":{\"gridcolor\":\"white\",\"linecolor\":\"white\",\"ticks\":\"\",\"title\":{\"standoff\":15},\"zerolinecolor\":\"white\",\"automargin\":true,\"zerolinewidth\":2},\"scene\":{\"xaxis\":{\"backgroundcolor\":\"#E5ECF6\",\"gridcolor\":\"white\",\"linecolor\":\"white\",\"showbackground\":true,\"ticks\":\"\",\"zerolinecolor\":\"white\",\"gridwidth\":2},\"yaxis\":{\"backgroundcolor\":\"#E5ECF6\",\"gridcolor\":\"white\",\"linecolor\":\"white\",\"showbackground\":true,\"ticks\":\"\",\"zerolinecolor\":\"white\",\"gridwidth\":2},\"zaxis\":{\"backgroundcolor\":\"#E5ECF6\",\"gridcolor\":\"white\",\"linecolor\":\"white\",\"showbackground\":true,\"ticks\":\"\",\"zerolinecolor\":\"white\",\"gridwidth\":2}},\"shapedefaults\":{\"line\":{\"color\":\"#2a3f5f\"}},\"annotationdefaults\":{\"arrowcolor\":\"#2a3f5f\",\"arrowhead\":0,\"arrowwidth\":1},\"geo\":{\"bgcolor\":\"white\",\"landcolor\":\"#E5ECF6\",\"subunitcolor\":\"white\",\"showland\":true,\"showlakes\":true,\"lakecolor\":\"white\"},\"title\":{\"x\":0.05},\"mapbox\":{\"style\":\"light\"}}},\"xaxis\":{\"title\":{\"text\":\"Year\"},\"tickangle\":-45,\"tickmode\":\"linear\",\"dtick\":1},\"yaxis\":{\"title\":{\"text\":\"Count\"},\"showgrid\":true},\"title\":{\"text\":\"Number of Correspondence\"},\"plot_bgcolor\":\"#E5ECF6\",\"height\":500},                        {\"responsive\": true}                    ).then(function(){\n",
       "                            \n",
       "var gd = document.getElementById('8b627c54-6be4-42b7-89b8-c7781188e58f');\n",
       "var x = new MutationObserver(function (mutations, observer) {{\n",
       "        var display = window.getComputedStyle(gd).display;\n",
       "        if (!display || display === 'none') {{\n",
       "            console.log([gd, 'removed!']);\n",
       "            Plotly.purge(gd);\n",
       "            observer.disconnect();\n",
       "        }}\n",
       "}});\n",
       "\n",
       "// Listen for the removal of the full notebook cells\n",
       "var notebookContainer = gd.closest('#notebook-container');\n",
       "if (notebookContainer) {{\n",
       "    x.observe(notebookContainer, {childList: true});\n",
       "}}\n",
       "\n",
       "// Listen for the clearing of the current output cell\n",
       "var outputEl = gd.closest('.output');\n",
       "if (outputEl) {{\n",
       "    x.observe(outputEl, {childList: true});\n",
       "}}\n",
       "\n",
       "                        })                };                });            </script>        </div>"
      ]
     },
     "metadata": {},
     "output_type": "display_data"
    }
   ],
   "source": [
    "import plotly.graph_objects as go\n",
    "\n",
    "\n",
    "# 提取键和值\n",
    "years = sorted(list(result.keys()))\n",
    "counts = [result[year] for year in years]\n",
    "# 创建条形图\n",
    "fig = go.Figure(data=[go.Bar(x=years, y=counts, marker_color='#619AC3')])\n",
    "\n",
    "# 添加标题和标签\n",
    "fig.update_layout(\n",
    "    title='Number of Correspondence',\n",
    "    xaxis_title='Year',\n",
    "    yaxis_title='Count',\n",
    "    xaxis_tickangle=-45,\n",
    "    xaxis=dict(\n",
    "        tickmode='linear',  # 确保所有年份都显示\n",
    "        dtick=1  # 每个刻度之间的间隔为1\n",
    "    ),\n",
    "    yaxis=dict(\n",
    "        showgrid=True  # 显示y轴网格线\n",
    "    ),\n",
    "    template='plotly',  # 使用默认模板，不使用白色主题\n",
    "    plot_bgcolor='#E5ECF6',  # 设置背景颜色为浅蓝色\n",
    "    height=500  # 设置图形高度为500\n",
    ")\n",
    "\n",
    "\n",
    "fig.show()"
   ]
  },
  {
   "cell_type": "markdown",
   "id": "1c550491-48df-4cc1-93f8-f2fd93fc755f",
   "metadata": {},
   "source": [
    "#### the Gender of Correspondents"
   ]
  },
  {
   "cell_type": "code",
   "execution_count": 19,
   "id": "c0b5af51-0f56-4a5b-b837-6c7e379d7a34",
   "metadata": {},
   "outputs": [
    {
     "data": {
      "text/plain": [
       "'unique_names.xlsx'"
      ]
     },
     "execution_count": 19,
     "metadata": {},
     "output_type": "execute_result"
    }
   ],
   "source": [
    "import pandas as pd\n",
    "import gender_guesser.detector as gender\n",
    "\n",
    "# 创建一个 Detector 对象\n",
    "gd = gender.Detector()\n",
    "\n",
    "# 读取 Excel 文件\n",
    "input_file_path = 'Correspondence.xlsx'\n",
    "df = pd.read_excel(input_file_path)\n",
    "\n",
    "# extarct unique value\n",
    "unique_names = df['name'].drop_duplicates()\n",
    "\n",
    "# 创建一个新的 DataFrame 只包含唯一的 'Name' 列\n",
    "df_unique_names = pd.DataFrame(unique_names, columns=['name'])\n",
    "\n",
    "# 将唯一值写入新的 Excel 文件\n",
    "output_file_path = 'unique_names.xlsx'\n",
    "df_unique_names.to_excel(output_file_path, index=False)\n",
    "\n",
    "output_file_path\n"
   ]
  },
  {
   "cell_type": "code",
   "execution_count": 25,
   "id": "799dc0d0-6873-4bb6-ac5b-fbf78a3f883a",
   "metadata": {},
   "outputs": [
    {
     "name": "stdout",
     "output_type": "stream",
     "text": [
      "                              name             Last Name\n",
      "0             Abbott, Holker, 1904                Abbott\n",
      "1           Abe Shojiro, 1911-1913           Abe Shojiro\n",
      "2          Abrams, Alfred W., 1919                Abrams\n",
      "3  Adachi Kiroku (足立喜六), 1911-1913  Adachi Kiroku (足立喜六)\n",
      "4               Adler, Elmer, 1915                 Adler\n"
     ]
    }
   ],
   "source": [
    "\n",
    "df = pd.read_excel(output_file_path)\n",
    "\n",
    "# extract content before comma in column 'First Name' \n",
    "df['Last Name'] = df['name'].str.split(',').str[0]\n",
    "\n",
    "\n",
    "print(df.head())\n",
    "\n"
   ]
  },
  {
   "cell_type": "code",
   "execution_count": 27,
   "id": "db92da31-452e-4db6-9f1f-fc8b7d96da06",
   "metadata": {},
   "outputs": [
    {
     "name": "stdout",
     "output_type": "stream",
     "text": [
      "                              name             Last Name Possible First Name\n",
      "0             Abbott, Holker, 1904                Abbott              Holker\n",
      "1           Abe Shojiro, 1911-1913           Abe Shojiro                   -\n",
      "2          Abrams, Alfred W., 1919                Abrams           Alfred W.\n",
      "3  Adachi Kiroku (足立喜六), 1911-1913  Adachi Kiroku (足立喜六)                   -\n",
      "4               Adler, Elmer, 1915                 Adler               Elmer\n"
     ]
    }
   ],
   "source": [
    "# Remove the part after the Last Name and strip out any numbers, then place the result into the Possible First Name column.\n",
    "df['Possible First Name'] = df['name'].str.split(',').str[1].str.replace('\\d+', '', regex=True).str.strip()\n",
    "\n",
    "# show the first five rows\n",
    "print(df.head())\n",
    "\n",
    "# df.to_excel('Names in Letters.xlsx', index=False)"
   ]
  },
  {
   "cell_type": "code",
   "execution_count": 28,
   "id": "61dc7aa5-61ef-46f9-8f55-9d5af6473004",
   "metadata": {},
   "outputs": [
    {
     "name": "stdout",
     "output_type": "stream",
     "text": [
      "Gender\n",
      "male             286\n",
      "Unknown          152\n",
      "female            49\n",
      "andy               6\n",
      "mostly_female      4\n",
      "mostly_male        2\n",
      "Name: count, dtype: int64\n"
     ]
    }
   ],
   "source": [
    "def get_gender(names):\n",
    "    genders = []\n",
    "    for name in names:\n",
    "        \n",
    "        # deal with special cases\n",
    "        if ' ' in name or '.' in name:\n",
    "            \n",
    "            # split name with whitespace or period and detect gender one by one\n",
    "            name_parts = name.replace('.', '').split(' ')\n",
    "            for part in name_parts:\n",
    "                gender = gd.get_gender(part)\n",
    "                if gender != \"unknown\":\n",
    "                    genders.append(gender)\n",
    "        \n",
    "        else:\n",
    "            # if it is regular, show the gender directly\n",
    "            gender = gd.get_gender(name)\n",
    "            if gender != \"unknown\":\n",
    "                genders.append(gender)\n",
    "    if genders:\n",
    "        # delete repeated values in genders\n",
    "        genders = list(set(genders))\n",
    "        # if there is only one elemnt return it， otherwise return \"Unknown\"\n",
    "        return genders[0] if len(genders) == 1 else \"Unknown\"\n",
    "    return \"Unknown\"\n",
    "\n",
    "# apply the function and creat a new 'Gender_Three' column\n",
    "df['Gender'] = df['Possible First Name'].str.split(' ').apply(get_gender)\n",
    "\n",
    "# calculate number of differnet value of 'Gender' column\n",
    "gender_counts = df['Gender'].value_counts()\n",
    "\n",
    "# show the result\n",
    "print(gender_counts)"
   ]
  },
  {
   "cell_type": "code",
   "execution_count": 30,
   "id": "8dcf03af-1add-4e45-a25e-4366dcfbc348",
   "metadata": {},
   "outputs": [],
   "source": [
    "df.to_excel('Names of Correspondents.xlsx', index=False)"
   ]
  },
  {
   "cell_type": "code",
   "execution_count": null,
   "id": "3129562c-9a26-4ab0-8d09-58a7d4176d81",
   "metadata": {},
   "outputs": [],
   "source": [
    "# Sort out names manually\n",
    "# Mori, Sosen H\n",
    "# Adachi Kiroku (足立六喜)\n",
    "# Lee Van Ching (Li Wenqing 李文卿)\n",
    "# McClure, J. Rosser, Mrs.\n",
    "# Moore, R.E. "
   ]
  },
  {
   "cell_type": "code",
   "execution_count": 48,
   "id": "ff5741f7-065b-4837-a13b-050f5b94fadf",
   "metadata": {},
   "outputs": [
    {
     "name": "stdout",
     "output_type": "stream",
     "text": [
      "Gender_sorted\n",
      "male       341\n",
      "Unknown     66\n",
      "female      62\n",
      "Group       30\n",
      "Name: count, dtype: int64\n"
     ]
    }
   ],
   "source": [
    "# read the file\n",
    "df = pd.read_excel('Names of Correspondents with Gender.xlsx')\n",
    "\n",
    "# calculate number of differnet value of 'Gender' column\n",
    "gender_counts = df['Gender_sorted'].value_counts()\n",
    "\n",
    "# show the result\n",
    "print(gender_counts)"
   ]
  },
  {
   "cell_type": "code",
   "execution_count": 54,
   "id": "549f23a6-4680-4c3c-8f8e-40e6ef71797c",
   "metadata": {},
   "outputs": [
    {
     "data": {
      "application/vnd.plotly.v1+json": {
       "config": {
        "plotlyServerURL": "https://plot.ly"
       },
       "data": [
        {
         "domain": {
          "x": [
           0,
           1
          ],
          "y": [
           0,
           1
          ]
         },
         "hole": 0.3,
         "hovertemplate": "Gender_sorted=%{label}<br>value=%{value}<extra></extra>",
         "labels": [
          "male",
          "Unknown",
          "female",
          "Group"
         ],
         "legendgroup": "",
         "name": "",
         "showlegend": true,
         "textfont": {
          "color": "black"
         },
         "textinfo": "percent+label",
         "texttemplate": "%{label}: %{percent:.2%}",
         "type": "pie",
         "values": [
          341,
          66,
          62,
          30
         ]
        }
       ],
       "layout": {
        "height": 600,
        "legend": {
         "tracegroupgap": 0
        },
        "margin": {
         "t": 60
        },
        "piecolorway": [
         "#8FB2C9",
         "#F7DA94",
         "#2B73AF",
         "#93D5DC"
        ],
        "template": {
         "data": {
          "bar": [
           {
            "error_x": {
             "color": "#2a3f5f"
            },
            "error_y": {
             "color": "#2a3f5f"
            },
            "marker": {
             "line": {
              "color": "#E5ECF6",
              "width": 0.5
             },
             "pattern": {
              "fillmode": "overlay",
              "size": 10,
              "solidity": 0.2
             }
            },
            "type": "bar"
           }
          ],
          "barpolar": [
           {
            "marker": {
             "line": {
              "color": "#E5ECF6",
              "width": 0.5
             },
             "pattern": {
              "fillmode": "overlay",
              "size": 10,
              "solidity": 0.2
             }
            },
            "type": "barpolar"
           }
          ],
          "carpet": [
           {
            "aaxis": {
             "endlinecolor": "#2a3f5f",
             "gridcolor": "white",
             "linecolor": "white",
             "minorgridcolor": "white",
             "startlinecolor": "#2a3f5f"
            },
            "baxis": {
             "endlinecolor": "#2a3f5f",
             "gridcolor": "white",
             "linecolor": "white",
             "minorgridcolor": "white",
             "startlinecolor": "#2a3f5f"
            },
            "type": "carpet"
           }
          ],
          "choropleth": [
           {
            "colorbar": {
             "outlinewidth": 0,
             "ticks": ""
            },
            "type": "choropleth"
           }
          ],
          "contour": [
           {
            "colorbar": {
             "outlinewidth": 0,
             "ticks": ""
            },
            "colorscale": [
             [
              0,
              "#0d0887"
             ],
             [
              0.1111111111111111,
              "#46039f"
             ],
             [
              0.2222222222222222,
              "#7201a8"
             ],
             [
              0.3333333333333333,
              "#9c179e"
             ],
             [
              0.4444444444444444,
              "#bd3786"
             ],
             [
              0.5555555555555556,
              "#d8576b"
             ],
             [
              0.6666666666666666,
              "#ed7953"
             ],
             [
              0.7777777777777778,
              "#fb9f3a"
             ],
             [
              0.8888888888888888,
              "#fdca26"
             ],
             [
              1,
              "#f0f921"
             ]
            ],
            "type": "contour"
           }
          ],
          "contourcarpet": [
           {
            "colorbar": {
             "outlinewidth": 0,
             "ticks": ""
            },
            "type": "contourcarpet"
           }
          ],
          "heatmap": [
           {
            "colorbar": {
             "outlinewidth": 0,
             "ticks": ""
            },
            "colorscale": [
             [
              0,
              "#0d0887"
             ],
             [
              0.1111111111111111,
              "#46039f"
             ],
             [
              0.2222222222222222,
              "#7201a8"
             ],
             [
              0.3333333333333333,
              "#9c179e"
             ],
             [
              0.4444444444444444,
              "#bd3786"
             ],
             [
              0.5555555555555556,
              "#d8576b"
             ],
             [
              0.6666666666666666,
              "#ed7953"
             ],
             [
              0.7777777777777778,
              "#fb9f3a"
             ],
             [
              0.8888888888888888,
              "#fdca26"
             ],
             [
              1,
              "#f0f921"
             ]
            ],
            "type": "heatmap"
           }
          ],
          "heatmapgl": [
           {
            "colorbar": {
             "outlinewidth": 0,
             "ticks": ""
            },
            "colorscale": [
             [
              0,
              "#0d0887"
             ],
             [
              0.1111111111111111,
              "#46039f"
             ],
             [
              0.2222222222222222,
              "#7201a8"
             ],
             [
              0.3333333333333333,
              "#9c179e"
             ],
             [
              0.4444444444444444,
              "#bd3786"
             ],
             [
              0.5555555555555556,
              "#d8576b"
             ],
             [
              0.6666666666666666,
              "#ed7953"
             ],
             [
              0.7777777777777778,
              "#fb9f3a"
             ],
             [
              0.8888888888888888,
              "#fdca26"
             ],
             [
              1,
              "#f0f921"
             ]
            ],
            "type": "heatmapgl"
           }
          ],
          "histogram": [
           {
            "marker": {
             "pattern": {
              "fillmode": "overlay",
              "size": 10,
              "solidity": 0.2
             }
            },
            "type": "histogram"
           }
          ],
          "histogram2d": [
           {
            "colorbar": {
             "outlinewidth": 0,
             "ticks": ""
            },
            "colorscale": [
             [
              0,
              "#0d0887"
             ],
             [
              0.1111111111111111,
              "#46039f"
             ],
             [
              0.2222222222222222,
              "#7201a8"
             ],
             [
              0.3333333333333333,
              "#9c179e"
             ],
             [
              0.4444444444444444,
              "#bd3786"
             ],
             [
              0.5555555555555556,
              "#d8576b"
             ],
             [
              0.6666666666666666,
              "#ed7953"
             ],
             [
              0.7777777777777778,
              "#fb9f3a"
             ],
             [
              0.8888888888888888,
              "#fdca26"
             ],
             [
              1,
              "#f0f921"
             ]
            ],
            "type": "histogram2d"
           }
          ],
          "histogram2dcontour": [
           {
            "colorbar": {
             "outlinewidth": 0,
             "ticks": ""
            },
            "colorscale": [
             [
              0,
              "#0d0887"
             ],
             [
              0.1111111111111111,
              "#46039f"
             ],
             [
              0.2222222222222222,
              "#7201a8"
             ],
             [
              0.3333333333333333,
              "#9c179e"
             ],
             [
              0.4444444444444444,
              "#bd3786"
             ],
             [
              0.5555555555555556,
              "#d8576b"
             ],
             [
              0.6666666666666666,
              "#ed7953"
             ],
             [
              0.7777777777777778,
              "#fb9f3a"
             ],
             [
              0.8888888888888888,
              "#fdca26"
             ],
             [
              1,
              "#f0f921"
             ]
            ],
            "type": "histogram2dcontour"
           }
          ],
          "mesh3d": [
           {
            "colorbar": {
             "outlinewidth": 0,
             "ticks": ""
            },
            "type": "mesh3d"
           }
          ],
          "parcoords": [
           {
            "line": {
             "colorbar": {
              "outlinewidth": 0,
              "ticks": ""
             }
            },
            "type": "parcoords"
           }
          ],
          "pie": [
           {
            "automargin": true,
            "type": "pie"
           }
          ],
          "scatter": [
           {
            "fillpattern": {
             "fillmode": "overlay",
             "size": 10,
             "solidity": 0.2
            },
            "type": "scatter"
           }
          ],
          "scatter3d": [
           {
            "line": {
             "colorbar": {
              "outlinewidth": 0,
              "ticks": ""
             }
            },
            "marker": {
             "colorbar": {
              "outlinewidth": 0,
              "ticks": ""
             }
            },
            "type": "scatter3d"
           }
          ],
          "scattercarpet": [
           {
            "marker": {
             "colorbar": {
              "outlinewidth": 0,
              "ticks": ""
             }
            },
            "type": "scattercarpet"
           }
          ],
          "scattergeo": [
           {
            "marker": {
             "colorbar": {
              "outlinewidth": 0,
              "ticks": ""
             }
            },
            "type": "scattergeo"
           }
          ],
          "scattergl": [
           {
            "marker": {
             "colorbar": {
              "outlinewidth": 0,
              "ticks": ""
             }
            },
            "type": "scattergl"
           }
          ],
          "scattermapbox": [
           {
            "marker": {
             "colorbar": {
              "outlinewidth": 0,
              "ticks": ""
             }
            },
            "type": "scattermapbox"
           }
          ],
          "scatterpolar": [
           {
            "marker": {
             "colorbar": {
              "outlinewidth": 0,
              "ticks": ""
             }
            },
            "type": "scatterpolar"
           }
          ],
          "scatterpolargl": [
           {
            "marker": {
             "colorbar": {
              "outlinewidth": 0,
              "ticks": ""
             }
            },
            "type": "scatterpolargl"
           }
          ],
          "scatterternary": [
           {
            "marker": {
             "colorbar": {
              "outlinewidth": 0,
              "ticks": ""
             }
            },
            "type": "scatterternary"
           }
          ],
          "surface": [
           {
            "colorbar": {
             "outlinewidth": 0,
             "ticks": ""
            },
            "colorscale": [
             [
              0,
              "#0d0887"
             ],
             [
              0.1111111111111111,
              "#46039f"
             ],
             [
              0.2222222222222222,
              "#7201a8"
             ],
             [
              0.3333333333333333,
              "#9c179e"
             ],
             [
              0.4444444444444444,
              "#bd3786"
             ],
             [
              0.5555555555555556,
              "#d8576b"
             ],
             [
              0.6666666666666666,
              "#ed7953"
             ],
             [
              0.7777777777777778,
              "#fb9f3a"
             ],
             [
              0.8888888888888888,
              "#fdca26"
             ],
             [
              1,
              "#f0f921"
             ]
            ],
            "type": "surface"
           }
          ],
          "table": [
           {
            "cells": {
             "fill": {
              "color": "#EBF0F8"
             },
             "line": {
              "color": "white"
             }
            },
            "header": {
             "fill": {
              "color": "#C8D4E3"
             },
             "line": {
              "color": "white"
             }
            },
            "type": "table"
           }
          ]
         },
         "layout": {
          "annotationdefaults": {
           "arrowcolor": "#2a3f5f",
           "arrowhead": 0,
           "arrowwidth": 1
          },
          "autotypenumbers": "strict",
          "coloraxis": {
           "colorbar": {
            "outlinewidth": 0,
            "ticks": ""
           }
          },
          "colorscale": {
           "diverging": [
            [
             0,
             "#8e0152"
            ],
            [
             0.1,
             "#c51b7d"
            ],
            [
             0.2,
             "#de77ae"
            ],
            [
             0.3,
             "#f1b6da"
            ],
            [
             0.4,
             "#fde0ef"
            ],
            [
             0.5,
             "#f7f7f7"
            ],
            [
             0.6,
             "#e6f5d0"
            ],
            [
             0.7,
             "#b8e186"
            ],
            [
             0.8,
             "#7fbc41"
            ],
            [
             0.9,
             "#4d9221"
            ],
            [
             1,
             "#276419"
            ]
           ],
           "sequential": [
            [
             0,
             "#0d0887"
            ],
            [
             0.1111111111111111,
             "#46039f"
            ],
            [
             0.2222222222222222,
             "#7201a8"
            ],
            [
             0.3333333333333333,
             "#9c179e"
            ],
            [
             0.4444444444444444,
             "#bd3786"
            ],
            [
             0.5555555555555556,
             "#d8576b"
            ],
            [
             0.6666666666666666,
             "#ed7953"
            ],
            [
             0.7777777777777778,
             "#fb9f3a"
            ],
            [
             0.8888888888888888,
             "#fdca26"
            ],
            [
             1,
             "#f0f921"
            ]
           ],
           "sequentialminus": [
            [
             0,
             "#0d0887"
            ],
            [
             0.1111111111111111,
             "#46039f"
            ],
            [
             0.2222222222222222,
             "#7201a8"
            ],
            [
             0.3333333333333333,
             "#9c179e"
            ],
            [
             0.4444444444444444,
             "#bd3786"
            ],
            [
             0.5555555555555556,
             "#d8576b"
            ],
            [
             0.6666666666666666,
             "#ed7953"
            ],
            [
             0.7777777777777778,
             "#fb9f3a"
            ],
            [
             0.8888888888888888,
             "#fdca26"
            ],
            [
             1,
             "#f0f921"
            ]
           ]
          },
          "colorway": [
           "#636efa",
           "#EF553B",
           "#00cc96",
           "#ab63fa",
           "#FFA15A",
           "#19d3f3",
           "#FF6692",
           "#B6E880",
           "#FF97FF",
           "#FECB52"
          ],
          "font": {
           "color": "#2a3f5f"
          },
          "geo": {
           "bgcolor": "white",
           "lakecolor": "white",
           "landcolor": "#E5ECF6",
           "showlakes": true,
           "showland": true,
           "subunitcolor": "white"
          },
          "hoverlabel": {
           "align": "left"
          },
          "hovermode": "closest",
          "mapbox": {
           "style": "light"
          },
          "paper_bgcolor": "white",
          "plot_bgcolor": "#E5ECF6",
          "polar": {
           "angularaxis": {
            "gridcolor": "white",
            "linecolor": "white",
            "ticks": ""
           },
           "bgcolor": "#E5ECF6",
           "radialaxis": {
            "gridcolor": "white",
            "linecolor": "white",
            "ticks": ""
           }
          },
          "scene": {
           "xaxis": {
            "backgroundcolor": "#E5ECF6",
            "gridcolor": "white",
            "gridwidth": 2,
            "linecolor": "white",
            "showbackground": true,
            "ticks": "",
            "zerolinecolor": "white"
           },
           "yaxis": {
            "backgroundcolor": "#E5ECF6",
            "gridcolor": "white",
            "gridwidth": 2,
            "linecolor": "white",
            "showbackground": true,
            "ticks": "",
            "zerolinecolor": "white"
           },
           "zaxis": {
            "backgroundcolor": "#E5ECF6",
            "gridcolor": "white",
            "gridwidth": 2,
            "linecolor": "white",
            "showbackground": true,
            "ticks": "",
            "zerolinecolor": "white"
           }
          },
          "shapedefaults": {
           "line": {
            "color": "#2a3f5f"
           }
          },
          "ternary": {
           "aaxis": {
            "gridcolor": "white",
            "linecolor": "white",
            "ticks": ""
           },
           "baxis": {
            "gridcolor": "white",
            "linecolor": "white",
            "ticks": ""
           },
           "bgcolor": "#E5ECF6",
           "caxis": {
            "gridcolor": "white",
            "linecolor": "white",
            "ticks": ""
           }
          },
          "title": {
           "x": 0.05
          },
          "xaxis": {
           "automargin": true,
           "gridcolor": "white",
           "linecolor": "white",
           "ticks": "",
           "title": {
            "standoff": 15
           },
           "zerolinecolor": "white",
           "zerolinewidth": 2
          },
          "yaxis": {
           "automargin": true,
           "gridcolor": "white",
           "linecolor": "white",
           "ticks": "",
           "title": {
            "standoff": 15
           },
           "zerolinecolor": "white",
           "zerolinewidth": 2
          }
         }
        },
        "title": {
         "text": "Distribution of Gender"
        },
        "width": 800
       }
      },
      "image/png": "[encoded data removed]",
      "text/html": [
       "<div>                            <div id=\"60fb0c74-9cbb-4730-b8de-34a5c2210c7c\" class=\"plotly-graph-div\" style=\"height:600px; width:800px;\"></div>            <script type=\"text/javascript\">                require([\"plotly\"], function(Plotly) {                    window.PLOTLYENV=window.PLOTLYENV || {};                                    if (document.getElementById(\"60fb0c74-9cbb-4730-b8de-34a5c2210c7c\")) {                    Plotly.newPlot(                        \"60fb0c74-9cbb-4730-b8de-34a5c2210c7c\",                        [{\"domain\":{\"x\":[0.0,1.0],\"y\":[0.0,1.0]},\"hovertemplate\":\"Gender_sorted=%{label}<br>value=%{value}<extra></extra>\",\"labels\":[\"male\",\"Unknown\",\"female\",\"Group\"],\"legendgroup\":\"\",\"name\":\"\",\"showlegend\":true,\"values\":[341,66,62,30],\"type\":\"pie\",\"textfont\":{\"color\":\"black\"},\"hole\":0.3,\"textinfo\":\"percent+label\",\"texttemplate\":\"%{label}: %{percent:.2%}\"}],                        {\"template\":{\"data\":{\"histogram2dcontour\":[{\"type\":\"histogram2dcontour\",\"colorbar\":{\"outlinewidth\":0,\"ticks\":\"\"},\"colorscale\":[[0.0,\"#0d0887\"],[0.1111111111111111,\"#46039f\"],[0.2222222222222222,\"#7201a8\"],[0.3333333333333333,\"#9c179e\"],[0.4444444444444444,\"#bd3786\"],[0.5555555555555556,\"#d8576b\"],[0.6666666666666666,\"#ed7953\"],[0.7777777777777778,\"#fb9f3a\"],[0.8888888888888888,\"#fdca26\"],[1.0,\"#f0f921\"]]}],\"choropleth\":[{\"type\":\"choropleth\",\"colorbar\":{\"outlinewidth\":0,\"ticks\":\"\"}}],\"histogram2d\":[{\"type\":\"histogram2d\",\"colorbar\":{\"outlinewidth\":0,\"ticks\":\"\"},\"colorscale\":[[0.0,\"#0d0887\"],[0.1111111111111111,\"#46039f\"],[0.2222222222222222,\"#7201a8\"],[0.3333333333333333,\"#9c179e\"],[0.4444444444444444,\"#bd3786\"],[0.5555555555555556,\"#d8576b\"],[0.6666666666666666,\"#ed7953\"],[0.7777777777777778,\"#fb9f3a\"],[0.8888888888888888,\"#fdca26\"],[1.0,\"#f0f921\"]]}],\"heatmap\":[{\"type\":\"heatmap\",\"colorbar\":{\"outlinewidth\":0,\"ticks\":\"\"},\"colorscale\":[[0.0,\"#0d0887\"],[0.1111111111111111,\"#46039f\"],[0.2222222222222222,\"#7201a8\"],[0.3333333333333333,\"#9c179e\"],[0.4444444444444444,\"#bd3786\"],[0.5555555555555556,\"#d8576b\"],[0.6666666666666666,\"#ed7953\"],[0.7777777777777778,\"#fb9f3a\"],[0.8888888888888888,\"#fdca26\"],[1.0,\"#f0f921\"]]}],\"heatmapgl\":[{\"type\":\"heatmapgl\",\"colorbar\":{\"outlinewidth\":0,\"ticks\":\"\"},\"colorscale\":[[0.0,\"#0d0887\"],[0.1111111111111111,\"#46039f\"],[0.2222222222222222,\"#7201a8\"],[0.3333333333333333,\"#9c179e\"],[0.4444444444444444,\"#bd3786\"],[0.5555555555555556,\"#d8576b\"],[0.6666666666666666,\"#ed7953\"],[0.7777777777777778,\"#fb9f3a\"],[0.8888888888888888,\"#fdca26\"],[1.0,\"#f0f921\"]]}],\"contourcarpet\":[{\"type\":\"contourcarpet\",\"colorbar\":{\"outlinewidth\":0,\"ticks\":\"\"}}],\"contour\":[{\"type\":\"contour\",\"colorbar\":{\"outlinewidth\":0,\"ticks\":\"\"},\"colorscale\":[[0.0,\"#0d0887\"],[0.1111111111111111,\"#46039f\"],[0.2222222222222222,\"#7201a8\"],[0.3333333333333333,\"#9c179e\"],[0.4444444444444444,\"#bd3786\"],[0.5555555555555556,\"#d8576b\"],[0.6666666666666666,\"#ed7953\"],[0.7777777777777778,\"#fb9f3a\"],[0.8888888888888888,\"#fdca26\"],[1.0,\"#f0f921\"]]}],\"surface\":[{\"type\":\"surface\",\"colorbar\":{\"outlinewidth\":0,\"ticks\":\"\"},\"colorscale\":[[0.0,\"#0d0887\"],[0.1111111111111111,\"#46039f\"],[0.2222222222222222,\"#7201a8\"],[0.3333333333333333,\"#9c179e\"],[0.4444444444444444,\"#bd3786\"],[0.5555555555555556,\"#d8576b\"],[0.6666666666666666,\"#ed7953\"],[0.7777777777777778,\"#fb9f3a\"],[0.8888888888888888,\"#fdca26\"],[1.0,\"#f0f921\"]]}],\"mesh3d\":[{\"type\":\"mesh3d\",\"colorbar\":{\"outlinewidth\":0,\"ticks\":\"\"}}],\"scatter\":[{\"fillpattern\":{\"fillmode\":\"overlay\",\"size\":10,\"solidity\":0.2},\"type\":\"scatter\"}],\"parcoords\":[{\"type\":\"parcoords\",\"line\":{\"colorbar\":{\"outlinewidth\":0,\"ticks\":\"\"}}}],\"scatterpolargl\":[{\"type\":\"scatterpolargl\",\"marker\":{\"colorbar\":{\"outlinewidth\":0,\"ticks\":\"\"}}}],\"bar\":[{\"error_x\":{\"color\":\"#2a3f5f\"},\"error_y\":{\"color\":\"#2a3f5f\"},\"marker\":{\"line\":{\"color\":\"#E5ECF6\",\"width\":0.5},\"pattern\":{\"fillmode\":\"overlay\",\"size\":10,\"solidity\":0.2}},\"type\":\"bar\"}],\"scattergeo\":[{\"type\":\"scattergeo\",\"marker\":{\"colorbar\":{\"outlinewidth\":0,\"ticks\":\"\"}}}],\"scatterpolar\":[{\"type\":\"scatterpolar\",\"marker\":{\"colorbar\":{\"outlinewidth\":0,\"ticks\":\"\"}}}],\"histogram\":[{\"marker\":{\"pattern\":{\"fillmode\":\"overlay\",\"size\":10,\"solidity\":0.2}},\"type\":\"histogram\"}],\"scattergl\":[{\"type\":\"scattergl\",\"marker\":{\"colorbar\":{\"outlinewidth\":0,\"ticks\":\"\"}}}],\"scatter3d\":[{\"type\":\"scatter3d\",\"line\":{\"colorbar\":{\"outlinewidth\":0,\"ticks\":\"\"}},\"marker\":{\"colorbar\":{\"outlinewidth\":0,\"ticks\":\"\"}}}],\"scattermapbox\":[{\"type\":\"scattermapbox\",\"marker\":{\"colorbar\":{\"outlinewidth\":0,\"ticks\":\"\"}}}],\"scatterternary\":[{\"type\":\"scatterternary\",\"marker\":{\"colorbar\":{\"outlinewidth\":0,\"ticks\":\"\"}}}],\"scattercarpet\":[{\"type\":\"scattercarpet\",\"marker\":{\"colorbar\":{\"outlinewidth\":0,\"ticks\":\"\"}}}],\"carpet\":[{\"aaxis\":{\"endlinecolor\":\"#2a3f5f\",\"gridcolor\":\"white\",\"linecolor\":\"white\",\"minorgridcolor\":\"white\",\"startlinecolor\":\"#2a3f5f\"},\"baxis\":{\"endlinecolor\":\"#2a3f5f\",\"gridcolor\":\"white\",\"linecolor\":\"white\",\"minorgridcolor\":\"white\",\"startlinecolor\":\"#2a3f5f\"},\"type\":\"carpet\"}],\"table\":[{\"cells\":{\"fill\":{\"color\":\"#EBF0F8\"},\"line\":{\"color\":\"white\"}},\"header\":{\"fill\":{\"color\":\"#C8D4E3\"},\"line\":{\"color\":\"white\"}},\"type\":\"table\"}],\"barpolar\":[{\"marker\":{\"line\":{\"color\":\"#E5ECF6\",\"width\":0.5},\"pattern\":{\"fillmode\":\"overlay\",\"size\":10,\"solidity\":0.2}},\"type\":\"barpolar\"}],\"pie\":[{\"automargin\":true,\"type\":\"pie\"}]},\"layout\":{\"autotypenumbers\":\"strict\",\"colorway\":[\"#636efa\",\"#EF553B\",\"#00cc96\",\"#ab63fa\",\"#FFA15A\",\"#19d3f3\",\"#FF6692\",\"#B6E880\",\"#FF97FF\",\"#FECB52\"],\"font\":{\"color\":\"#2a3f5f\"},\"hovermode\":\"closest\",\"hoverlabel\":{\"align\":\"left\"},\"paper_bgcolor\":\"white\",\"plot_bgcolor\":\"#E5ECF6\",\"polar\":{\"bgcolor\":\"#E5ECF6\",\"angularaxis\":{\"gridcolor\":\"white\",\"linecolor\":\"white\",\"ticks\":\"\"},\"radialaxis\":{\"gridcolor\":\"white\",\"linecolor\":\"white\",\"ticks\":\"\"}},\"ternary\":{\"bgcolor\":\"#E5ECF6\",\"aaxis\":{\"gridcolor\":\"white\",\"linecolor\":\"white\",\"ticks\":\"\"},\"baxis\":{\"gridcolor\":\"white\",\"linecolor\":\"white\",\"ticks\":\"\"},\"caxis\":{\"gridcolor\":\"white\",\"linecolor\":\"white\",\"ticks\":\"\"}},\"coloraxis\":{\"colorbar\":{\"outlinewidth\":0,\"ticks\":\"\"}},\"colorscale\":{\"sequential\":[[0.0,\"#0d0887\"],[0.1111111111111111,\"#46039f\"],[0.2222222222222222,\"#7201a8\"],[0.3333333333333333,\"#9c179e\"],[0.4444444444444444,\"#bd3786\"],[0.5555555555555556,\"#d8576b\"],[0.6666666666666666,\"#ed7953\"],[0.7777777777777778,\"#fb9f3a\"],[0.8888888888888888,\"#fdca26\"],[1.0,\"#f0f921\"]],\"sequentialminus\":[[0.0,\"#0d0887\"],[0.1111111111111111,\"#46039f\"],[0.2222222222222222,\"#7201a8\"],[0.3333333333333333,\"#9c179e\"],[0.4444444444444444,\"#bd3786\"],[0.5555555555555556,\"#d8576b\"],[0.6666666666666666,\"#ed7953\"],[0.7777777777777778,\"#fb9f3a\"],[0.8888888888888888,\"#fdca26\"],[1.0,\"#f0f921\"]],\"diverging\":[[0,\"#8e0152\"],[0.1,\"#c51b7d\"],[0.2,\"#de77ae\"],[0.3,\"#f1b6da\"],[0.4,\"#fde0ef\"],[0.5,\"#f7f7f7\"],[0.6,\"#e6f5d0\"],[0.7,\"#b8e186\"],[0.8,\"#7fbc41\"],[0.9,\"#4d9221\"],[1,\"#276419\"]]},\"xaxis\":{\"gridcolor\":\"white\",\"linecolor\":\"white\",\"ticks\":\"\",\"title\":{\"standoff\":15},\"zerolinecolor\":\"white\",\"automargin\":true,\"zerolinewidth\":2},\"yaxis\":{\"gridcolor\":\"white\",\"linecolor\":\"white\",\"ticks\":\"\",\"title\":{\"standoff\":15},\"zerolinecolor\":\"white\",\"automargin\":true,\"zerolinewidth\":2},\"scene\":{\"xaxis\":{\"backgroundcolor\":\"#E5ECF6\",\"gridcolor\":\"white\",\"linecolor\":\"white\",\"showbackground\":true,\"ticks\":\"\",\"zerolinecolor\":\"white\",\"gridwidth\":2},\"yaxis\":{\"backgroundcolor\":\"#E5ECF6\",\"gridcolor\":\"white\",\"linecolor\":\"white\",\"showbackground\":true,\"ticks\":\"\",\"zerolinecolor\":\"white\",\"gridwidth\":2},\"zaxis\":{\"backgroundcolor\":\"#E5ECF6\",\"gridcolor\":\"white\",\"linecolor\":\"white\",\"showbackground\":true,\"ticks\":\"\",\"zerolinecolor\":\"white\",\"gridwidth\":2}},\"shapedefaults\":{\"line\":{\"color\":\"#2a3f5f\"}},\"annotationdefaults\":{\"arrowcolor\":\"#2a3f5f\",\"arrowhead\":0,\"arrowwidth\":1},\"geo\":{\"bgcolor\":\"white\",\"landcolor\":\"#E5ECF6\",\"subunitcolor\":\"white\",\"showland\":true,\"showlakes\":true,\"lakecolor\":\"white\"},\"title\":{\"x\":0.05},\"mapbox\":{\"style\":\"light\"}}},\"legend\":{\"tracegroupgap\":0},\"margin\":{\"t\":60},\"piecolorway\":[\"#8FB2C9\",\"#F7DA94\",\"#2B73AF\",\"#93D5DC\"],\"title\":{\"text\":\"Distribution of Gender\"},\"height\":600,\"width\":800},                        {\"responsive\": true}                    ).then(function(){\n",
       "                            \n",
       "var gd = document.getElementById('60fb0c74-9cbb-4730-b8de-34a5c2210c7c');\n",
       "var x = new MutationObserver(function (mutations, observer) {{\n",
       "        var display = window.getComputedStyle(gd).display;\n",
       "        if (!display || display === 'none') {{\n",
       "            console.log([gd, 'removed!']);\n",
       "            Plotly.purge(gd);\n",
       "            observer.disconnect();\n",
       "        }}\n",
       "}});\n",
       "\n",
       "// Listen for the removal of the full notebook cells\n",
       "var notebookContainer = gd.closest('#notebook-container');\n",
       "if (notebookContainer) {{\n",
       "    x.observe(notebookContainer, {childList: true});\n",
       "}}\n",
       "\n",
       "// Listen for the clearing of the current output cell\n",
       "var outputEl = gd.closest('.output');\n",
       "if (outputEl) {{\n",
       "    x.observe(outputEl, {childList: true});\n",
       "}}\n",
       "\n",
       "                        })                };                });            </script>        </div>"
      ]
     },
     "metadata": {},
     "output_type": "display_data"
    }
   ],
   "source": [
    "import pandas as pd\n",
    "import plotly.express as px\n",
    "\n",
    "\n",
    "# caculate for each gender\n",
    "gender_counts = df['Gender_sorted'].value_counts()\n",
    "\n",
    "# craete the chart and define the colors\n",
    "fig = px.pie(gender_counts, values=gender_counts.values, names=gender_counts.index, \n",
    "             color_discrete_sequence=['#8FB2C9','#F7DA94','#2B73AF','#93D5DC'])\n",
    "\n",
    "# define the texts\n",
    "fig.update_traces(\n",
    "    textinfo='percent+label',\n",
    "    textfont=dict(color='black'),\n",
    "    hole=0.3,\n",
    "    texttemplate='%{label}: %{percent:.2%}'\n",
    ")\n",
    "\n",
    "# layout\n",
    "fig.update_layout(\n",
    "    title='Distribution of Gender',\n",
    "    height=600, \n",
    "    width=800\n",
    ")\n",
    "\n",
    "# show the chart\n",
    "fig.show()\n"
   ]
  },
  {
   "cell_type": "markdown",
   "id": "be7791fc-1ddd-4935-9b08-6db470bf7eda",
   "metadata": {},
   "source": [
    "#### Word Cloud"
   ]
  },
  {
   "cell_type": "code",
   "execution_count": null,
   "id": "6dfedef8-3984-4b0c-b8be-263fe30dbb99",
   "metadata": {},
   "outputs": [],
   "source": []
  },
  {
   "cell_type": "code",
   "execution_count": null,
   "id": "50bde736-c9d8-47ea-a03c-50ca551bfc8a",
   "metadata": {},
   "outputs": [],
   "source": []
  },
  {
   "cell_type": "code",
   "execution_count": 10,
   "id": "a7a29852-e42a-4a3b-afe6-c793eda00824",
   "metadata": {},
   "outputs": [
    {
     "data": {
      "application/vnd.plotly.v1+json": {
       "config": {
        "plotlyServerURL": "https://plot.ly"
       },
       "data": [
        {
         "hovertemplate": "<b>%{hovertext}</b><br><br>Name=%{x}<br>Number of Pages=%{marker.size}<br>Time Dimension Count=%{marker.color}<extra></extra>",
         "hovertext": [
          "Hecker, Frank J., Col.",
          "Tryon, Dwight William",
          "Church, Frederick Stuart, 1888-1915, undated",
          "Thayer, Abbott Handerson",
          "Warring, Joseph Stephens",
          "Dewing, Thomas Wilmer, 1891-1917, undated",
          "Walcott, Charles D.",
          "Platt, Charles Adams",
          "Gookin, Frederick William",
          "McCormick, Frederick",
          "Yue, Seaouke (You Xiaoxi; 游筱溪)",
          "Yamanaka and Company",
          "Wong, K. T. (Wang Jiantang; 王鑑堂)",
          "Bixby, William K.",
          "Fenollosa, Ernest Ferdinand",
          "Kingsley, Elbridge",
          "Kelekian, Dikran G.",
          "Bosch-Reitz, Sigisbert Chretien",
          "Whistler, James McNeill",
          "Moore, Charles",
          "Livingstone, W.A.",
          "Thayer, Emma B.",
          "Laufer, Berthold",
          "Saint-Gaudens, Augusta, Augustus, and Homer",
          "Marchant, William",
          "Matsuki, Bunkio (Bunkyo; 松木文恭)",
          "Art Institute of Chicago",
          "Worrell, W.H.",
          "Rathbun, Richard",
          "Lien, Hui Ch'ing, Collection",
          "Ferguson, John C.",
          "Currie, Cameron, 1901-1919, undated",
          "Kennedy, John M.",
          "Li, Chi-ch'un",
          "Peters, Samuel T.",
          "Draper, Dr. George, 1916-1918, undated",
          "Way, Thomas R., Jr.",
          "Bell, Hamilton",
          "Obach and Company",
          "Kobayashi Bunshichi (小林文七)",
          "Knoedler, M., and Company",
          "University of Michigan",
          "Binyon, Laurence",
          "Canfield, Richard Albert",
          "Rice, Richard A.",
          "Alger, George W.",
          "Langley, Samuel Pierpont",
          "Kevorkian, Hagop",
          "Backhouse, Edmund",
          "Bahr, A. W.",
          "Trask, John E.D.",
          "Beatty, John W.",
          "Forbes, Edward",
          "Hamilton, Alexander",
          "Marcopoli, Vincenzo",
          "Nan, Ming-yuan (南明远)",
          "Pecorini, Daniele",
          "Graham, William",
          "Lodge, John Ellerton",
          "Siren, Osvald",
          "Biele, Charles F., and Sons Company",
          "Hanna, Henry Bathurst, Col.",
          "Japan Society (New York)",
          "Mann, Frederick W.",
          "Metcalf, Willard Leroy",
          "Meyer, Agnes Elizabeth Ernst",
          "Barr, Eva",
          "Woolley, Clarence M.",
          "Breck, Joseph",
          "Keppel, Frederick",
          "Whiting, Frederick Allen",
          "Parke, Davis and Company",
          "Nahman, Maurice",
          "Chun, Chik-yu (Chun Tong)",
          "Churchill, Alfred V.",
          "Fenollosa, Mary McNeil Scott",
          "Dan, Ino",
          "Melchers, Gari",
          "Duret, Theodore",
          "Pang, Yuan-chi (Pang Yuanji; 龐元濟)",
          "Harshe, Robert B.",
          "Storm van's Gravensande, Carel Nicholass",
          "West Point, U. S. Military Academy",
          "Kershaw, Francis S.",
          "Coleman, Charles C.",
          "Allen, Horace N.",
          "Roosevelt, Theodore",
          "Morse, Charles J.",
          "Ross, Denman W.",
          "Tse, Tsan Tsai",
          "Guaranty Trust Company (New York)",
          "Matsuki, Kihachiro (松木喜八郎)",
          "Portland Art Association",
          "Wunderlich, H., and Company",
          "Warner, Lorraine d'O.",
          "Whistler, Beatrix Godwin",
          "Clark, Emory W., 1916-1919",
          "Conger, Sarah Pike",
          "Creelman, Alice B.",
          "Clearwater, A. T.",
          "Society of American Artists",
          "Koechlin, Raymond",
          "Lee Van Ching (Li Wenqing 李文卿)",
          "Berenson, Bernard",
          "Plumb, Helen",
          "Walcott, Frances M., Mrs.",
          "McGrath, C.D.",
          "Migeon, Gaston",
          "Orange, J.",
          "Bok, Edward",
          "Hanford, John",
          "Cowan, John J.",
          "Adachi Kiroku (足立喜六)",
          "Jerome, Thomas Spencer",
          "Mansfield, Howard",
          "Donaldson, John M.",
          "Meredith, Howard G.",
          "Freer, Charles Weisgerber",
          "Stanton, Anna Whistler",
          "Ma, S.",
          "Vigouroux, J.",
          "Gallatin, Albert E.",
          "Johnson, Robert Underwood",
          "Hirth, Friederich",
          "Carroll, Dana H.",
          "Thomson, D. Croal",
          "Franke, Ida M.",
          "Gellatly, John",
          "Foster, Frederick E.",
          "Masuda, Takashi (益田孝)",
          "Kuki, Ryuichi, Baron (九鬼 隆一)",
          "Turner, Percy Moore",
          "Newberry, Truman H.",
          "Sarton, George",
          "Pier, Garrett C.",
          "Weber, William C.",
          "Guest, Grace Dunham",
          "Browne, Archibald, 1918, undated",
          "Tomkinson, Michael",
          "Chapman, Alfred",
          "Dow, Arthur Wesley",
          "Osborn, Chase S.",
          "Bacher, Otto H.",
          "Hobson, R. L. (Robert Lockhart)",
          "Fairchild, Marion Bell",
          "Hara, Tomitaro",
          "Hayashi, Aisaku (林愛作)",
          "Perzynski, Friedrich",
          "Eyre, Laurence",
          "Bahr, Peter J.",
          "Gottheil, Richard",
          "Sickert, Walter, 1905, 1912, undated",
          "Holmes, William Henry",
          "Laiyuan Co.",
          "Carus, Paul",
          "Jameson, James",
          "Kalebdjian Frères",
          "Demarest, W.H.S.",
          "White, J. Martin",
          "Kita, T.",
          "Hayashi, S.",
          "Hoggan, Frances Elizabeth",
          "Homma, K.",
          "Pang, Tszu-ch'en",
          "Yamamoto, H.R.",
          "Couling, Samuel",
          "Clark, Arthur B.",
          "Van Dyke, John C.",
          "d'Ardenne de Tizac, Henri",
          "Bendann, David",
          "Bone, Karl",
          "Embden, Oscar",
          "Manship, Paul",
          "Makino, Katsuji (牧野克次)",
          "Ravenel, William deC.",
          "Bishop, Carl Whiting",
          "Carroll, Mitchell",
          "Thayer, Gerald H.",
          "Schulze, Otto, & Co.",
          "Hara, Zenichiro",
          "Gunn, Chu Su",
          "Caffin, Charles H.",
          "Millard, George",
          "Gordon, George Bryon",
          "Hollington, Richard D.",
          "Evans, William T.",
          "Yardley, F.C.",
          "Robinson, Edward",
          "Hinckley, Frank E.",
          "Townsend, James B.",
          "Rogerson, Beth",
          "Witherspoon, A. S.",
          "Wright, Helen",
          "Foord, John",
          "Madjar, Vitali",
          "Masaki, Naohiko (正木直彦)",
          "Campbell, Colin, Lord",
          "Potter, Ashton",
          "Ely, Theodore N.",
          "Coomaraswamy, Ananda",
          "Butler, Hamilton",
          "Parmelee, James",
          "Denby, Charles",
          "Draper, Dorothy",
          "Robinson, Vincent, and Company, Ltd.",
          "Mori, Sosen H.",
          "Mallon, Paul",
          "Van Derlip, John R.",
          "Munsterberg, Oskar",
          "People's State Bank (Detroit)",
          "Karlbeck, Orvar",
          "Katen, K.",
          "Pardo, Roberto S.",
          "Zug, George Breed",
          "Chase, William Merritt, 1889-1891, undated",
          "Braun, W.A.",
          "Graves, Andrew",
          "Hedley, John",
          "Gorham Company Architectural Bronze",
          "Cortissoz, Royal",
          "Cassell, James C.",
          "Ayscough, Florence",
          "Bacher, Mary H.",
          "Ficke, Arthur Davison",
          "Alexander, W. C.",
          "Kuroda, Takuma (黒田, 太久馬)",
          "Thayer, Gladys",
          "Greene, Belle da Costa",
          "McKibbon, Emily",
          "McMillan, Philip H.",
          "Morrison, Arthur",
          "Bynner, Witter",
          "LaFarge, C. Grant",
          "Gottschalk, E.",
          "Warring, Grace K.",
          "Boisseree, L.H.H.",
          "Laurvik, J. Nilsen",
          "Ledyard, Henry B.",
          "Seamen, Frank",
          "Schilling, Alexander",
          "Fenning, John",
          "Rosenbach, A.S.W.",
          "Abe Shojiro",
          "Pennock, James W.",
          "Happer, J.S.",
          "Havemeyer, Louisine Waldron Elder",
          "Dattari, Giovanni",
          "Moore, R.E.",
          "Hultman, J.E.",
          "Allen, Edgar Pierce, 1913-1914, undated",
          "Depuy, E. Cora",
          "Andrews, Robert H.",
          "Heaton, W.J.",
          "Parish-Watson, M.",
          "Cust, Henry",
          "Robinson and Farr",
          "Whibley, Ethel",
          "Fischer, V.G.",
          "Burnett, Vivian",
          "Burrell, William",
          "Dowdeswell, C. W.",
          "Trevor, John B.",
          "Hoyt, H.W.",
          "Liu, D.K.",
          "Dan, Takuma (團 琢磨)",
          "Oberlin College",
          "Ohan, N.",
          "Dallam, Samuel Field",
          "Bing, Siegfried",
          "Angell, Bodman, and Turner",
          "Way, A.E.",
          "Stokes, Anson Phelps",
          "Art Association of Indianapolis",
          "Kaneko, K.",
          "Eliot, Charles",
          "Baldwin, Frank Conger",
          "Bauer-Folsom Company",
          "Straight, Willard",
          "Detroit Museum of Art",
          "Collison, Harry",
          "Rea, Paul M.",
          "Reid, Alexander",
          "Marshall, Seth",
          "de Ricci, Seymour",
          "Cowsill, Arthur",
          "Cassidy, Gerald",
          "Marshall, Seth, Mrs.",
          "Seligmann, Jacques",
          "Humphreys, Alexander C.",
          "Hwang, Chung-huei",
          "Kast, Ludwig",
          "Klare, H. William",
          "Wilson, Harry L., Mrs.",
          "American Express Company",
          "Hoi, Yung",
          "Jackson, Elmer E.",
          "Alger, Russell A., Senator",
          "Kunz, George F.",
          "Bell, William",
          "Tabbagh Freres et Cie",
          "Hull, Edward S., Jr.",
          "Yoshio Fujii, undated",
          "Goodrich, C.F.",
          "Lindsay-Brown Insurance Bureau",
          "Brooks, Alexander",
          "Sage, Cornelia Bentley",
          "Williamson, George C.",
          "Nuila, J.M.",
          "Wolf, Henry",
          "Day, Olive I.",
          "Bruyns, T. Mirzen, Mrs.",
          "Berenson, Mary",
          "Paterson, R.W.",
          "Benedite, Leonce",
          "Sachs, Paul J.",
          "Toledo Museum",
          "Peterson, Frederick",
          "Bing, Marcel",
          "Bland, J.O.P.",
          "Takayanagi, Tozo",
          "Pratt, William, Mrs.",
          "Randall, Davies",
          "Calvert, George C.",
          "Studd, Arthur",
          "Morse, Edward Sylvester",
          "Sanders, William B.",
          "Howland, Henry R.",
          "Corey, Newton J.",
          "Dickinson, J. M.",
          "Hall, Elizabeth W.",
          "Ford, John",
          "Michael, M. J.",
          "Harris, William",
          "Hamilton, George",
          "Hughett, Marvin",
          "Dent, V.",
          "Hamilton, Anita Sargent",
          "Montross, Newman E.",
          "Krom, Jane",
          "Kelly, Ernest A.",
          "Keresy, James F.",
          "Webb, William, undated",
          "Roullier, Albert",
          "Fischer, Michel",
          "Eyre, Wilson, Jr.",
          "Watson, J., & Son",
          "Robins, William",
          "Sumitomo, K.",
          "Balken, Edward Duff",
          "Burlage, Katharine",
          "Wallace, A.W., and Company",
          "Rand, E.K.",
          "Brush, George de Forest",
          "Boynton, Herbert E.",
          "Brown, Bolton Coit",
          "Sanders, J. Kent",
          "Vanderbilt, George W.",
          "Hauss, Edward A.",
          "Gale, Walter",
          "Getty, Alice",
          "Beaham, Grace Hecker",
          "Shah, Syed Bahadur",
          "Bradstreet, John S.",
          "Kohlmann, A.R.",
          "Konantz, Emma",
          "Larkin, Frederick J.",
          "Kurtz, Charles M.",
          "Lane, John",
          "Street, Julian",
          "White, Stanford",
          "Hartmann, Sadakichi",
          "Wickenden, Robert",
          "Joy, Henry B.",
          "Naobayashi, Keiyen (直林敬園)",
          "Nichols, Rose Standish, undated",
          "North, Ernest Dressel",
          "Minnigerode, C. Powell",
          "Miller, Sydney T.",
          "Cust, Nina",
          "Cox, Stafford M.",
          "Parker, Margaret Watson",
          "Dyar, Clara",
          "Donaldson, Bruce",
          "Peabody, J. Endicott",
          "Anderzon, E. A.",
          "Streng, Mary",
          "McMillan, James, Senator",
          "Willys, John N.",
          "Pewabic Pottery",
          "McKim, Charles F.",
          "Abrams, Alfred W.",
          "Koch, Theodore Wesley",
          "Williams, Max",
          "Williams, E.",
          "Kirby, Gustavus T.",
          "Knabenschue, Samuel S.",
          "Williams, Charles Whiting",
          "Arabi, Ali",
          "Alder, W. Brooke",
          "Hughes, Katherine",
          "Zimmerman, Frederick A.",
          "Truesdale, Melville W.",
          "Williams, Charles F.",
          "Adler, Elmer",
          "Yendall, Edith",
          "Takahashi, G.",
          "Winter, Jefferson",
          "Bell, Alexander Graham",
          "Key, John R.",
          "Beisel, Anne Franke, 1914 August 14",
          "Beavan, John",
          "Wurmb, Baron, undated",
          "Ito, S.",
          "Khan, Mirza Ali-Kuli",
          "Bagley, John N.",
          "Williams, Rose Sickler, undated",
          "Battersea, Cyril, Lord, undated",
          "Woodruff, Frederick W.",
          "Wada, Hikojiro (和田彦次郎)",
          "Barrington, Lewis",
          "Keena, James T.",
          "Banks, Edgar J.",
          "Johnstone, J.H.",
          "Hoornbeek, L.",
          "Abbott, Holker",
          "Lane, Gardiner Martin",
          "Cliff, V. D.",
          "MacMonnies, Frederick",
          "Fletcher, Louise H.",
          "Butler, Nicholas Murray",
          "Rhoades, Katharine Nash",
          "Esen, Gustavus",
          "Enjoji, Y.",
          "Purcell, W.",
          "Pong, T. C.",
          "Chalfin, Paul",
          "Cole, Alphaeus Philemon",
          "Fuller, George A.",
          "Collin de Plancy, Victor",
          "Mechlin, Leila",
          "Mehta, Fateh lal",
          "Metropolitan Museum of Art",
          "Millet, Francis D.",
          "Deming, Zell Hart",
          "Murphy, J. Francis",
          "Denby, Edwin",
          "Munsterberg, Hugo",
          "Foote, Frederick J.",
          "Fairbairns, W. H.",
          "Schneider, A.K.",
          "Spreckels, A.B., Mrs.",
          "Singh, Harry",
          "Sotheby, Wilkinson, and Hodge",
          "Singer, Isador",
          "Shugio, Hiromichi (執行弘道)",
          "Speight, E.E.",
          "Sherman, Frederic Fairchild",
          "Seitz, Don C.",
          "Stevens, Henry Glover",
          "Blashfield, Edwin Howland",
          "Leland, Wilfred C.",
          "Seaver, Mrs.",
          "Mott, Charles Stewart",
          "Hawkins, Edward M.",
          "Coykendall, S.D.",
          "Alger, Frederick M.",
          "Michigan Central Railroad Co.",
          "Dennison, Walter, Mrs.",
          "Patten, William",
          "Peabody Academy of Science",
          "Wolf, Herbert W.",
          "Dunthorne, Robert",
          "Blake, James H. W., Mrs.",
          "Lansing, J.H.",
          "Moore, William, Mrs.",
          "Theobald, H.S.",
          "Hogarth, David",
          "Pond, Ashley",
          "Thibaudeau, A.W.",
          "Boynton, H.G.",
          "Low, W., undated",
          "Lowell, A. Lawrence",
          "Fletcher, Richard",
          "Manachy, Lorenzo Y.",
          "Goodrich, Henry W.",
          "Khayet, Azeez",
          "Rhen, Frank K. M.",
          "Swift, Charles M.",
          "Harrison, Charles C.",
          "Kennedy and Company, 1914 November",
          "Avery, Samuel Putnam",
          "Elba, Khamis G.",
          "Beltramini and Rush",
          "McClure, J. Rosser, Mrs.",
          "Egbert, James C.",
          "Pope, Arthur Upham",
          "Sanders, Henry A., undated",
          "Dennison, Walter"
         ],
         "legendgroup": "",
         "marker": {
          "color": [
           26,
           31,
           28,
           28,
           18,
           27,
           12,
           8,
           9,
           7,
           3,
           25,
           5,
           24,
           7,
           8,
           17,
           5,
           11,
           8,
           5,
           29,
           8,
           14,
           18,
           13,
           6,
           6,
           14,
           1,
           6,
           19,
           14,
           2,
           6,
           3,
           7,
           6,
           6,
           5,
           20,
           8,
           11,
           13,
           29,
           6,
           4,
           2,
           3,
           6,
           4,
           24,
           2,
           1,
           3,
           11,
           5,
           2,
           4,
           2,
           3,
           2,
           5,
           4,
           3,
           8,
           9,
           5,
           5,
           18,
           3,
           6,
           1,
           4,
           5,
           8,
           2,
           12,
           11,
           8,
           9,
           20,
           3,
           6,
           12,
           1,
           9,
           1,
           8,
           2,
           4,
           4,
           1,
           21,
           5,
           13,
           1,
           1,
           1,
           3,
           1,
           3,
           5,
           1,
           1,
           1,
           2,
           15,
           5,
           1,
           2,
           4,
           3,
           4,
           13,
           5,
           7,
           7,
           5,
           2,
           2,
           7,
           6,
           7,
           3,
           6,
           5,
           3,
           4,
           7,
           4,
           1,
           7,
           1,
           1,
           1,
           1,
           1,
           10,
           15,
           6,
           1,
           18,
           2,
           1,
           10,
           5,
           1,
           1,
           1,
           1,
           1,
           2,
           1,
           3,
           10,
           6,
           4,
           7,
           6,
           2,
           2,
           1,
           5,
           1,
           1,
           5,
           1,
           1,
           13,
           2,
           1,
           2,
           1,
           1,
           1,
           1,
           1,
           2,
           1,
           1,
           1,
           1,
           4,
           1,
           15,
           1,
           6,
           1,
           1,
           2,
           1,
           1,
           2,
           1,
           2,
           2,
           1,
           5,
           2,
           1,
           3,
           1,
           1,
           1,
           1,
           1,
           4,
           2,
           3,
           1,
           2,
           2,
           8,
           3,
           1,
           2,
           4,
           1,
           1,
           1,
           1,
           8,
           1,
           1,
           1,
           1,
           2,
           1,
           1,
           2,
           1,
           6,
           1,
           1,
           1,
           2,
           3,
           1,
           2,
           1,
           1,
           3,
           2,
           1,
           4,
           3,
           6,
           1,
           2,
           1,
           1,
           1,
           1,
           2,
           1,
           8,
           1,
           1,
           1,
           1,
           1,
           1,
           2,
           2,
           8,
           2,
           1,
           3,
           6,
           1,
           1,
           1,
           1,
           2,
           1,
           1,
           1,
           3,
           1,
           1,
           1,
           1,
           1,
           1,
           1,
           4,
           1,
           2,
           2,
           2,
           2,
           1,
           1,
           1,
           1,
           4,
           4,
           2,
           1,
           1,
           0,
           1,
           1,
           1,
           1,
           1,
           1,
           4,
           1,
           1,
           1,
           1,
           1,
           3,
           1,
           3,
           1,
           1,
           3,
           1,
           1,
           1,
           5,
           17,
           1,
           1,
           1,
           1,
           1,
           1,
           3,
           1,
           4,
           1,
           2,
           1,
           13,
           1,
           1,
           1,
           0,
           1,
           1,
           1,
           1,
           1,
           2,
           1,
           1,
           1,
           1,
           1,
           1,
           1,
           1,
           1,
           1,
           1,
           1,
           1,
           1,
           1,
           1,
           1,
           1,
           1,
           1,
           1,
           6,
           15,
           1,
           1,
           1,
           0,
           1,
           2,
           1,
           1,
           1,
           1,
           1,
           1,
           1,
           1,
           1,
           1,
           1,
           1,
           1,
           1,
           1,
           1,
           1,
           1,
           1,
           1,
           1,
           1,
           1,
           1,
           1,
           1,
           1,
           1,
           1,
           1,
           1,
           1,
           1,
           1,
           0,
           1,
           1,
           1,
           0,
           0,
           1,
           1,
           1,
           2,
           1,
           1,
           1,
           1,
           1,
           1,
           1,
           1,
           1,
           1,
           1,
           1,
           1,
           1,
           1,
           1,
           1,
           1,
           1,
           1,
           1,
           1,
           1,
           1,
           1,
           1,
           1,
           1,
           1,
           1,
           1,
           1,
           1,
           1,
           1,
           1,
           1,
           1,
           1,
           1,
           1,
           1,
           1,
           1,
           1,
           1,
           1,
           1,
           1,
           1,
           1,
           1,
           1,
           1,
           1,
           1,
           1,
           1,
           1,
           0,
           1,
           1,
           1,
           1,
           1,
           1,
           1,
           1,
           1,
           1,
           1,
           1,
           1,
           1,
           1,
           0,
           1
          ],
          "coloraxis": "coloraxis",
          "size": [
           978,
           634,
           586,
           568,
           497,
           398,
           356,
           253,
           244,
           235,
           212,
           183,
           177,
           165,
           147,
           143,
           128,
           127,
           125,
           116,
           115,
           114,
           101,
           99,
           96,
           92,
           90,
           88,
           84,
           81,
           79,
           79,
           72,
           69,
           67,
           65,
           64,
           63,
           63,
           62,
           62,
           60,
           60,
           57,
           53,
           49,
           49,
           47,
           47,
           47,
           46,
           43,
           43,
           41,
           41,
           41,
           40,
           39,
           39,
           37,
           37,
           37,
           37,
           35,
           35,
           34,
           34,
           34,
           33,
           32,
           31,
           30,
           30,
           30,
           30,
           30,
           30,
           29,
           29,
           29,
           28,
           28,
           28,
           28,
           27,
           27,
           26,
           25,
           25,
           25,
           24,
           24,
           24,
           24,
           24,
           24,
           23,
           23,
           23,
           22,
           22,
           22,
           22,
           21,
           21,
           21,
           21,
           21,
           20,
           20,
           20,
           20,
           20,
           20,
           20,
           19,
           19,
           19,
           18,
           18,
           18,
           18,
           18,
           18,
           17,
           17,
           17,
           17,
           17,
           16,
           16,
           16,
           16,
           16,
           16,
           16,
           16,
           15,
           15,
           15,
           15,
           14,
           14,
           14,
           14,
           14,
           13,
           13,
           13,
           13,
           13,
           12,
           12,
           12,
           12,
           12,
           12,
           12,
           12,
           12,
           11,
           11,
           11,
           11,
           11,
           11,
           11,
           11,
           11,
           11,
           11,
           11,
           11,
           11,
           10,
           10,
           10,
           10,
           10,
           10,
           10,
           10,
           10,
           10,
           10,
           10,
           10,
           10,
           9,
           9,
           9,
           9,
           9,
           9,
           9,
           9,
           9,
           9,
           9,
           9,
           9,
           9,
           9,
           9,
           8,
           8,
           8,
           8,
           8,
           8,
           8,
           8,
           8,
           8,
           8,
           8,
           8,
           8,
           8,
           8,
           8,
           8,
           8,
           8,
           8,
           7,
           7,
           7,
           7,
           7,
           7,
           7,
           7,
           7,
           7,
           7,
           7,
           7,
           7,
           7,
           7,
           7,
           7,
           7,
           7,
           7,
           7,
           7,
           7,
           7,
           7,
           7,
           7,
           7,
           7,
           7,
           7,
           6,
           6,
           6,
           6,
           6,
           6,
           6,
           6,
           6,
           6,
           6,
           6,
           6,
           6,
           6,
           6,
           6,
           6,
           6,
           6,
           6,
           6,
           5,
           5,
           5,
           5,
           5,
           5,
           5,
           5,
           5,
           5,
           5,
           5,
           5,
           5,
           5,
           5,
           5,
           5,
           5,
           5,
           5,
           5,
           5,
           5,
           5,
           5,
           5,
           4,
           4,
           4,
           4,
           4,
           4,
           4,
           4,
           4,
           4,
           4,
           4,
           4,
           4,
           4,
           4,
           4,
           4,
           4,
           4,
           4,
           4,
           4,
           4,
           4,
           4,
           4,
           4,
           4,
           4,
           4,
           4,
           4,
           4,
           3,
           3,
           3,
           3,
           3,
           3,
           3,
           3,
           3,
           3,
           3,
           3,
           3,
           3,
           3,
           3,
           3,
           3,
           3,
           3,
           3,
           3,
           3,
           3,
           3,
           3,
           3,
           3,
           3,
           3,
           3,
           3,
           3,
           3,
           3,
           3,
           3,
           3,
           3,
           3,
           3,
           3,
           3,
           3,
           3,
           3,
           3,
           3,
           3,
           3,
           2,
           2,
           2,
           2,
           2,
           2,
           2,
           2,
           2,
           2,
           2,
           2,
           2,
           2,
           2,
           2,
           2,
           2,
           2,
           2,
           2,
           2,
           2,
           2,
           2,
           2,
           2,
           2,
           2,
           2,
           2,
           2,
           2,
           2,
           2,
           2,
           2,
           2,
           2,
           2,
           2,
           2,
           2,
           2,
           2,
           2,
           2,
           2,
           2,
           2,
           2,
           2,
           2,
           2,
           2,
           2,
           2,
           2,
           2,
           2,
           2,
           2,
           2,
           2,
           2,
           2,
           2,
           2,
           2,
           2,
           2,
           2,
           2,
           1,
           1,
           1,
           1,
           1,
           1,
           1,
           1,
           1,
           1,
           1,
           1,
           1,
           1,
           1,
           1,
           1,
           1,
           1,
           1,
           1,
           1,
           1,
           1,
           1,
           1,
           1,
           1,
           1,
           1,
           1,
           1,
           1,
           1,
           1
          ],
          "sizemode": "area",
          "sizeref": 0.27166666666666667,
          "symbol": "circle"
         },
         "mode": "markers",
         "name": "",
         "orientation": "v",
         "showlegend": false,
         "type": "scatter",
         "x": [
          "Hecker, Frank J., Col.",
          "Tryon, Dwight William",
          "Church, Frederick Stuart, 1888-1915, undated",
          "Thayer, Abbott Handerson",
          "Warring, Joseph Stephens",
          "Dewing, Thomas Wilmer, 1891-1917, undated",
          "Walcott, Charles D.",
          "Platt, Charles Adams",
          "Gookin, Frederick William",
          "McCormick, Frederick",
          "Yue, Seaouke (You Xiaoxi; 游筱溪)",
          "Yamanaka and Company",
          "Wong, K. T. (Wang Jiantang; 王鑑堂)",
          "Bixby, William K.",
          "Fenollosa, Ernest Ferdinand",
          "Kingsley, Elbridge",
          "Kelekian, Dikran G.",
          "Bosch-Reitz, Sigisbert Chretien",
          "Whistler, James McNeill",
          "Moore, Charles",
          "Livingstone, W.A.",
          "Thayer, Emma B.",
          "Laufer, Berthold",
          "Saint-Gaudens, Augusta, Augustus, and Homer",
          "Marchant, William",
          "Matsuki, Bunkio (Bunkyo; 松木文恭)",
          "Art Institute of Chicago",
          "Worrell, W.H.",
          "Rathbun, Richard",
          "Lien, Hui Ch'ing, Collection",
          "Ferguson, John C.",
          "Currie, Cameron, 1901-1919, undated",
          "Kennedy, John M.",
          "Li, Chi-ch'un",
          "Peters, Samuel T.",
          "Draper, Dr. George, 1916-1918, undated",
          "Way, Thomas R., Jr.",
          "Bell, Hamilton",
          "Obach and Company",
          "Kobayashi Bunshichi (小林文七)",
          "Knoedler, M., and Company",
          "University of Michigan",
          "Binyon, Laurence",
          "Canfield, Richard Albert",
          "Rice, Richard A.",
          "Alger, George W.",
          "Langley, Samuel Pierpont",
          "Kevorkian, Hagop",
          "Backhouse, Edmund",
          "Bahr, A. W.",
          "Trask, John E.D.",
          "Beatty, John W.",
          "Forbes, Edward",
          "Hamilton, Alexander",
          "Marcopoli, Vincenzo",
          "Nan, Ming-yuan (南明远)",
          "Pecorini, Daniele",
          "Graham, William",
          "Lodge, John Ellerton",
          "Siren, Osvald",
          "Biele, Charles F., and Sons Company",
          "Hanna, Henry Bathurst, Col.",
          "Japan Society (New York)",
          "Mann, Frederick W.",
          "Metcalf, Willard Leroy",
          "Meyer, Agnes Elizabeth Ernst",
          "Barr, Eva",
          "Woolley, Clarence M.",
          "Breck, Joseph",
          "Keppel, Frederick",
          "Whiting, Frederick Allen",
          "Parke, Davis and Company",
          "Nahman, Maurice",
          "Chun, Chik-yu (Chun Tong)",
          "Churchill, Alfred V.",
          "Fenollosa, Mary McNeil Scott",
          "Dan, Ino",
          "Melchers, Gari",
          "Duret, Theodore",
          "Pang, Yuan-chi (Pang Yuanji; 龐元濟)",
          "Harshe, Robert B.",
          "Storm van's Gravensande, Carel Nicholass",
          "West Point, U. S. Military Academy",
          "Kershaw, Francis S.",
          "Coleman, Charles C.",
          "Allen, Horace N.",
          "Roosevelt, Theodore",
          "Morse, Charles J.",
          "Ross, Denman W.",
          "Tse, Tsan Tsai",
          "Guaranty Trust Company (New York)",
          "Matsuki, Kihachiro (松木喜八郎)",
          "Portland Art Association",
          "Wunderlich, H., and Company",
          "Warner, Lorraine d'O.",
          "Whistler, Beatrix Godwin",
          "Clark, Emory W., 1916-1919",
          "Conger, Sarah Pike",
          "Creelman, Alice B.",
          "Clearwater, A. T.",
          "Society of American Artists",
          "Koechlin, Raymond",
          "Lee Van Ching (Li Wenqing 李文卿)",
          "Berenson, Bernard",
          "Plumb, Helen",
          "Walcott, Frances M., Mrs.",
          "McGrath, C.D.",
          "Migeon, Gaston",
          "Orange, J.",
          "Bok, Edward",
          "Hanford, John",
          "Cowan, John J.",
          "Adachi Kiroku (足立喜六)",
          "Jerome, Thomas Spencer",
          "Mansfield, Howard",
          "Donaldson, John M.",
          "Meredith, Howard G.",
          "Freer, Charles Weisgerber",
          "Stanton, Anna Whistler",
          "Ma, S.",
          "Vigouroux, J.",
          "Gallatin, Albert E.",
          "Johnson, Robert Underwood",
          "Hirth, Friederich",
          "Carroll, Dana H.",
          "Thomson, D. Croal",
          "Franke, Ida M.",
          "Gellatly, John",
          "Foster, Frederick E.",
          "Masuda, Takashi (益田孝)",
          "Kuki, Ryuichi, Baron (九鬼 隆一)",
          "Turner, Percy Moore",
          "Newberry, Truman H.",
          "Sarton, George",
          "Pier, Garrett C.",
          "Weber, William C.",
          "Guest, Grace Dunham",
          "Browne, Archibald, 1918, undated",
          "Tomkinson, Michael",
          "Chapman, Alfred",
          "Dow, Arthur Wesley",
          "Osborn, Chase S.",
          "Bacher, Otto H.",
          "Hobson, R. L. (Robert Lockhart)",
          "Fairchild, Marion Bell",
          "Hara, Tomitaro",
          "Hayashi, Aisaku (林愛作)",
          "Perzynski, Friedrich",
          "Eyre, Laurence",
          "Bahr, Peter J.",
          "Gottheil, Richard",
          "Sickert, Walter, 1905, 1912, undated",
          "Holmes, William Henry",
          "Laiyuan Co.",
          "Carus, Paul",
          "Jameson, James",
          "Kalebdjian Frères",
          "Demarest, W.H.S.",
          "White, J. Martin",
          "Kita, T.",
          "Hayashi, S.",
          "Hoggan, Frances Elizabeth",
          "Homma, K.",
          "Pang, Tszu-ch'en",
          "Yamamoto, H.R.",
          "Couling, Samuel",
          "Clark, Arthur B.",
          "Van Dyke, John C.",
          "d'Ardenne de Tizac, Henri",
          "Bendann, David",
          "Bone, Karl",
          "Embden, Oscar",
          "Manship, Paul",
          "Makino, Katsuji (牧野克次)",
          "Ravenel, William deC.",
          "Bishop, Carl Whiting",
          "Carroll, Mitchell",
          "Thayer, Gerald H.",
          "Schulze, Otto, & Co.",
          "Hara, Zenichiro",
          "Gunn, Chu Su",
          "Caffin, Charles H.",
          "Millard, George",
          "Gordon, George Bryon",
          "Hollington, Richard D.",
          "Evans, William T.",
          "Yardley, F.C.",
          "Robinson, Edward",
          "Hinckley, Frank E.",
          "Townsend, James B.",
          "Rogerson, Beth",
          "Witherspoon, A. S.",
          "Wright, Helen",
          "Foord, John",
          "Madjar, Vitali",
          "Masaki, Naohiko (正木直彦)",
          "Campbell, Colin, Lord",
          "Potter, Ashton",
          "Ely, Theodore N.",
          "Coomaraswamy, Ananda",
          "Butler, Hamilton",
          "Parmelee, James",
          "Denby, Charles",
          "Draper, Dorothy",
          "Robinson, Vincent, and Company, Ltd.",
          "Mori, Sosen H.",
          "Mallon, Paul",
          "Van Derlip, John R.",
          "Munsterberg, Oskar",
          "People's State Bank (Detroit)",
          "Karlbeck, Orvar",
          "Katen, K.",
          "Pardo, Roberto S.",
          "Zug, George Breed",
          "Chase, William Merritt, 1889-1891, undated",
          "Braun, W.A.",
          "Graves, Andrew",
          "Hedley, John",
          "Gorham Company Architectural Bronze",
          "Cortissoz, Royal",
          "Cassell, James C.",
          "Ayscough, Florence",
          "Bacher, Mary H.",
          "Ficke, Arthur Davison",
          "Alexander, W. C.",
          "Kuroda, Takuma (黒田, 太久馬)",
          "Thayer, Gladys",
          "Greene, Belle da Costa",
          "McKibbon, Emily",
          "McMillan, Philip H.",
          "Morrison, Arthur",
          "Bynner, Witter",
          "LaFarge, C. Grant",
          "Gottschalk, E.",
          "Warring, Grace K.",
          "Boisseree, L.H.H.",
          "Laurvik, J. Nilsen",
          "Ledyard, Henry B.",
          "Seamen, Frank",
          "Schilling, Alexander",
          "Fenning, John",
          "Rosenbach, A.S.W.",
          "Abe Shojiro",
          "Pennock, James W.",
          "Happer, J.S.",
          "Havemeyer, Louisine Waldron Elder",
          "Dattari, Giovanni",
          "Moore, R.E.",
          "Hultman, J.E.",
          "Allen, Edgar Pierce, 1913-1914, undated",
          "Depuy, E. Cora",
          "Andrews, Robert H.",
          "Heaton, W.J.",
          "Parish-Watson, M.",
          "Cust, Henry",
          "Robinson and Farr",
          "Whibley, Ethel",
          "Fischer, V.G.",
          "Burnett, Vivian",
          "Burrell, William",
          "Dowdeswell, C. W.",
          "Trevor, John B.",
          "Hoyt, H.W.",
          "Liu, D.K.",
          "Dan, Takuma (團 琢磨)",
          "Oberlin College",
          "Ohan, N.",
          "Dallam, Samuel Field",
          "Bing, Siegfried",
          "Angell, Bodman, and Turner",
          "Way, A.E.",
          "Stokes, Anson Phelps",
          "Art Association of Indianapolis",
          "Kaneko, K.",
          "Eliot, Charles",
          "Baldwin, Frank Conger",
          "Bauer-Folsom Company",
          "Straight, Willard",
          "Detroit Museum of Art",
          "Collison, Harry",
          "Rea, Paul M.",
          "Reid, Alexander",
          "Marshall, Seth",
          "de Ricci, Seymour",
          "Cowsill, Arthur",
          "Cassidy, Gerald",
          "Marshall, Seth, Mrs.",
          "Seligmann, Jacques",
          "Humphreys, Alexander C.",
          "Hwang, Chung-huei",
          "Kast, Ludwig",
          "Klare, H. William",
          "Wilson, Harry L., Mrs.",
          "American Express Company",
          "Hoi, Yung",
          "Jackson, Elmer E.",
          "Alger, Russell A., Senator",
          "Kunz, George F.",
          "Bell, William",
          "Tabbagh Freres et Cie",
          "Hull, Edward S., Jr.",
          "Yoshio Fujii, undated",
          "Goodrich, C.F.",
          "Lindsay-Brown Insurance Bureau",
          "Brooks, Alexander",
          "Sage, Cornelia Bentley",
          "Williamson, George C.",
          "Nuila, J.M.",
          "Wolf, Henry",
          "Day, Olive I.",
          "Bruyns, T. Mirzen, Mrs.",
          "Berenson, Mary",
          "Paterson, R.W.",
          "Benedite, Leonce",
          "Sachs, Paul J.",
          "Toledo Museum",
          "Peterson, Frederick",
          "Bing, Marcel",
          "Bland, J.O.P.",
          "Takayanagi, Tozo",
          "Pratt, William, Mrs.",
          "Randall, Davies",
          "Calvert, George C.",
          "Studd, Arthur",
          "Morse, Edward Sylvester",
          "Sanders, William B.",
          "Howland, Henry R.",
          "Corey, Newton J.",
          "Dickinson, J. M.",
          "Hall, Elizabeth W.",
          "Ford, John",
          "Michael, M. J.",
          "Harris, William",
          "Hamilton, George",
          "Hughett, Marvin",
          "Dent, V.",
          "Hamilton, Anita Sargent",
          "Montross, Newman E.",
          "Krom, Jane",
          "Kelly, Ernest A.",
          "Keresy, James F.",
          "Webb, William, undated",
          "Roullier, Albert",
          "Fischer, Michel",
          "Eyre, Wilson, Jr.",
          "Watson, J., & Son",
          "Robins, William",
          "Sumitomo, K.",
          "Balken, Edward Duff",
          "Burlage, Katharine",
          "Wallace, A.W., and Company",
          "Rand, E.K.",
          "Brush, George de Forest",
          "Boynton, Herbert E.",
          "Brown, Bolton Coit",
          "Sanders, J. Kent",
          "Vanderbilt, George W.",
          "Hauss, Edward A.",
          "Gale, Walter",
          "Getty, Alice",
          "Beaham, Grace Hecker",
          "Shah, Syed Bahadur",
          "Bradstreet, John S.",
          "Kohlmann, A.R.",
          "Konantz, Emma",
          "Larkin, Frederick J.",
          "Kurtz, Charles M.",
          "Lane, John",
          "Street, Julian",
          "White, Stanford",
          "Hartmann, Sadakichi",
          "Wickenden, Robert",
          "Joy, Henry B.",
          "Naobayashi, Keiyen (直林敬園)",
          "Nichols, Rose Standish, undated",
          "North, Ernest Dressel",
          "Minnigerode, C. Powell",
          "Miller, Sydney T.",
          "Cust, Nina",
          "Cox, Stafford M.",
          "Parker, Margaret Watson",
          "Dyar, Clara",
          "Donaldson, Bruce",
          "Peabody, J. Endicott",
          "Anderzon, E. A.",
          "Streng, Mary",
          "McMillan, James, Senator",
          "Willys, John N.",
          "Pewabic Pottery",
          "McKim, Charles F.",
          "Abrams, Alfred W.",
          "Koch, Theodore Wesley",
          "Williams, Max",
          "Williams, E.",
          "Kirby, Gustavus T.",
          "Knabenschue, Samuel S.",
          "Williams, Charles Whiting",
          "Arabi, Ali",
          "Alder, W. Brooke",
          "Hughes, Katherine",
          "Zimmerman, Frederick A.",
          "Truesdale, Melville W.",
          "Williams, Charles F.",
          "Adler, Elmer",
          "Yendall, Edith",
          "Takahashi, G.",
          "Winter, Jefferson",
          "Bell, Alexander Graham",
          "Key, John R.",
          "Beisel, Anne Franke, 1914 August 14",
          "Beavan, John",
          "Wurmb, Baron, undated",
          "Ito, S.",
          "Khan, Mirza Ali-Kuli",
          "Bagley, John N.",
          "Williams, Rose Sickler, undated",
          "Battersea, Cyril, Lord, undated",
          "Woodruff, Frederick W.",
          "Wada, Hikojiro (和田彦次郎)",
          "Barrington, Lewis",
          "Keena, James T.",
          "Banks, Edgar J.",
          "Johnstone, J.H.",
          "Hoornbeek, L.",
          "Abbott, Holker",
          "Lane, Gardiner Martin",
          "Cliff, V. D.",
          "MacMonnies, Frederick",
          "Fletcher, Louise H.",
          "Butler, Nicholas Murray",
          "Rhoades, Katharine Nash",
          "Esen, Gustavus",
          "Enjoji, Y.",
          "Purcell, W.",
          "Pong, T. C.",
          "Chalfin, Paul",
          "Cole, Alphaeus Philemon",
          "Fuller, George A.",
          "Collin de Plancy, Victor",
          "Mechlin, Leila",
          "Mehta, Fateh lal",
          "Metropolitan Museum of Art",
          "Millet, Francis D.",
          "Deming, Zell Hart",
          "Murphy, J. Francis",
          "Denby, Edwin",
          "Munsterberg, Hugo",
          "Foote, Frederick J.",
          "Fairbairns, W. H.",
          "Schneider, A.K.",
          "Spreckels, A.B., Mrs.",
          "Singh, Harry",
          "Sotheby, Wilkinson, and Hodge",
          "Singer, Isador",
          "Shugio, Hiromichi (執行弘道)",
          "Speight, E.E.",
          "Sherman, Frederic Fairchild",
          "Seitz, Don C.",
          "Stevens, Henry Glover",
          "Blashfield, Edwin Howland",
          "Leland, Wilfred C.",
          "Seaver, Mrs.",
          "Mott, Charles Stewart",
          "Hawkins, Edward M.",
          "Coykendall, S.D.",
          "Alger, Frederick M.",
          "Michigan Central Railroad Co.",
          "Dennison, Walter, Mrs.",
          "Patten, William",
          "Peabody Academy of Science",
          "Wolf, Herbert W.",
          "Dunthorne, Robert",
          "Blake, James H. W., Mrs.",
          "Lansing, J.H.",
          "Moore, William, Mrs.",
          "Theobald, H.S.",
          "Hogarth, David",
          "Pond, Ashley",
          "Thibaudeau, A.W.",
          "Boynton, H.G.",
          "Low, W., undated",
          "Lowell, A. Lawrence",
          "Fletcher, Richard",
          "Manachy, Lorenzo Y.",
          "Goodrich, Henry W.",
          "Khayet, Azeez",
          "Rhen, Frank K. M.",
          "Swift, Charles M.",
          "Harrison, Charles C.",
          "Kennedy and Company, 1914 November",
          "Avery, Samuel Putnam",
          "Elba, Khamis G.",
          "Beltramini and Rush",
          "McClure, J. Rosser, Mrs.",
          "Egbert, James C.",
          "Pope, Arthur Upham",
          "Sanders, Henry A., undated",
          "Dennison, Walter"
         ],
         "xaxis": "x",
         "y": [
          978,
          634,
          586,
          568,
          497,
          398,
          356,
          253,
          244,
          235,
          212,
          183,
          177,
          165,
          147,
          143,
          128,
          127,
          125,
          116,
          115,
          114,
          101,
          99,
          96,
          92,
          90,
          88,
          84,
          81,
          79,
          79,
          72,
          69,
          67,
          65,
          64,
          63,
          63,
          62,
          62,
          60,
          60,
          57,
          53,
          49,
          49,
          47,
          47,
          47,
          46,
          43,
          43,
          41,
          41,
          41,
          40,
          39,
          39,
          37,
          37,
          37,
          37,
          35,
          35,
          34,
          34,
          34,
          33,
          32,
          31,
          30,
          30,
          30,
          30,
          30,
          30,
          29,
          29,
          29,
          28,
          28,
          28,
          28,
          27,
          27,
          26,
          25,
          25,
          25,
          24,
          24,
          24,
          24,
          24,
          24,
          23,
          23,
          23,
          22,
          22,
          22,
          22,
          21,
          21,
          21,
          21,
          21,
          20,
          20,
          20,
          20,
          20,
          20,
          20,
          19,
          19,
          19,
          18,
          18,
          18,
          18,
          18,
          18,
          17,
          17,
          17,
          17,
          17,
          16,
          16,
          16,
          16,
          16,
          16,
          16,
          16,
          15,
          15,
          15,
          15,
          14,
          14,
          14,
          14,
          14,
          13,
          13,
          13,
          13,
          13,
          12,
          12,
          12,
          12,
          12,
          12,
          12,
          12,
          12,
          11,
          11,
          11,
          11,
          11,
          11,
          11,
          11,
          11,
          11,
          11,
          11,
          11,
          11,
          10,
          10,
          10,
          10,
          10,
          10,
          10,
          10,
          10,
          10,
          10,
          10,
          10,
          10,
          9,
          9,
          9,
          9,
          9,
          9,
          9,
          9,
          9,
          9,
          9,
          9,
          9,
          9,
          9,
          9,
          8,
          8,
          8,
          8,
          8,
          8,
          8,
          8,
          8,
          8,
          8,
          8,
          8,
          8,
          8,
          8,
          8,
          8,
          8,
          8,
          8,
          7,
          7,
          7,
          7,
          7,
          7,
          7,
          7,
          7,
          7,
          7,
          7,
          7,
          7,
          7,
          7,
          7,
          7,
          7,
          7,
          7,
          7,
          7,
          7,
          7,
          7,
          7,
          7,
          7,
          7,
          7,
          7,
          6,
          6,
          6,
          6,
          6,
          6,
          6,
          6,
          6,
          6,
          6,
          6,
          6,
          6,
          6,
          6,
          6,
          6,
          6,
          6,
          6,
          6,
          5,
          5,
          5,
          5,
          5,
          5,
          5,
          5,
          5,
          5,
          5,
          5,
          5,
          5,
          5,
          5,
          5,
          5,
          5,
          5,
          5,
          5,
          5,
          5,
          5,
          5,
          5,
          4,
          4,
          4,
          4,
          4,
          4,
          4,
          4,
          4,
          4,
          4,
          4,
          4,
          4,
          4,
          4,
          4,
          4,
          4,
          4,
          4,
          4,
          4,
          4,
          4,
          4,
          4,
          4,
          4,
          4,
          4,
          4,
          4,
          4,
          3,
          3,
          3,
          3,
          3,
          3,
          3,
          3,
          3,
          3,
          3,
          3,
          3,
          3,
          3,
          3,
          3,
          3,
          3,
          3,
          3,
          3,
          3,
          3,
          3,
          3,
          3,
          3,
          3,
          3,
          3,
          3,
          3,
          3,
          3,
          3,
          3,
          3,
          3,
          3,
          3,
          3,
          3,
          3,
          3,
          3,
          3,
          3,
          3,
          3,
          2,
          2,
          2,
          2,
          2,
          2,
          2,
          2,
          2,
          2,
          2,
          2,
          2,
          2,
          2,
          2,
          2,
          2,
          2,
          2,
          2,
          2,
          2,
          2,
          2,
          2,
          2,
          2,
          2,
          2,
          2,
          2,
          2,
          2,
          2,
          2,
          2,
          2,
          2,
          2,
          2,
          2,
          2,
          2,
          2,
          2,
          2,
          2,
          2,
          2,
          2,
          2,
          2,
          2,
          2,
          2,
          2,
          2,
          2,
          2,
          2,
          2,
          2,
          2,
          2,
          2,
          2,
          2,
          2,
          2,
          2,
          2,
          2,
          1,
          1,
          1,
          1,
          1,
          1,
          1,
          1,
          1,
          1,
          1,
          1,
          1,
          1,
          1,
          1,
          1,
          1,
          1,
          1,
          1,
          1,
          1,
          1,
          1,
          1,
          1,
          1,
          1,
          1,
          1,
          1,
          1,
          1,
          1
         ],
         "yaxis": "y"
        }
       ],
       "layout": {
        "autosize": true,
        "coloraxis": {
         "cmax": 31,
         "cmin": 0,
         "colorbar": {
          "title": {
           "text": "Time Dimension Count"
          }
         },
         "colorscale": [
          [
           0,
           "#144A74"
          ],
          [
           0.5,
           "#619AC3"
          ],
          [
           1,
           "#D0DFE6"
          ]
         ]
        },
        "hoverlabel": {
         "bgcolor": "white",
         "font": {
          "size": 12
         }
        },
        "legend": {
         "itemsizing": "constant",
         "tracegroupgap": 0
        },
        "plot_bgcolor": "#E5ECF6",
        "template": {
         "data": {
          "bar": [
           {
            "error_x": {
             "color": "#2a3f5f"
            },
            "error_y": {
             "color": "#2a3f5f"
            },
            "marker": {
             "line": {
              "color": "#E5ECF6",
              "width": 0.5
             },
             "pattern": {
              "fillmode": "overlay",
              "size": 10,
              "solidity": 0.2
             }
            },
            "type": "bar"
           }
          ],
          "barpolar": [
           {
            "marker": {
             "line": {
              "color": "#E5ECF6",
              "width": 0.5
             },
             "pattern": {
              "fillmode": "overlay",
              "size": 10,
              "solidity": 0.2
             }
            },
            "type": "barpolar"
           }
          ],
          "carpet": [
           {
            "aaxis": {
             "endlinecolor": "#2a3f5f",
             "gridcolor": "white",
             "linecolor": "white",
             "minorgridcolor": "white",
             "startlinecolor": "#2a3f5f"
            },
            "baxis": {
             "endlinecolor": "#2a3f5f",
             "gridcolor": "white",
             "linecolor": "white",
             "minorgridcolor": "white",
             "startlinecolor": "#2a3f5f"
            },
            "type": "carpet"
           }
          ],
          "choropleth": [
           {
            "colorbar": {
             "outlinewidth": 0,
             "ticks": ""
            },
            "type": "choropleth"
           }
          ],
          "contour": [
           {
            "colorbar": {
             "outlinewidth": 0,
             "ticks": ""
            },
            "colorscale": [
             [
              0,
              "#0d0887"
             ],
             [
              0.1111111111111111,
              "#46039f"
             ],
             [
              0.2222222222222222,
              "#7201a8"
             ],
             [
              0.3333333333333333,
              "#9c179e"
             ],
             [
              0.4444444444444444,
              "#bd3786"
             ],
             [
              0.5555555555555556,
              "#d8576b"
             ],
             [
              0.6666666666666666,
              "#ed7953"
             ],
             [
              0.7777777777777778,
              "#fb9f3a"
             ],
             [
              0.8888888888888888,
              "#fdca26"
             ],
             [
              1,
              "#f0f921"
             ]
            ],
            "type": "contour"
           }
          ],
          "contourcarpet": [
           {
            "colorbar": {
             "outlinewidth": 0,
             "ticks": ""
            },
            "type": "contourcarpet"
           }
          ],
          "heatmap": [
           {
            "colorbar": {
             "outlinewidth": 0,
             "ticks": ""
            },
            "colorscale": [
             [
              0,
              "#0d0887"
             ],
             [
              0.1111111111111111,
              "#46039f"
             ],
             [
              0.2222222222222222,
              "#7201a8"
             ],
             [
              0.3333333333333333,
              "#9c179e"
             ],
             [
              0.4444444444444444,
              "#bd3786"
             ],
             [
              0.5555555555555556,
              "#d8576b"
             ],
             [
              0.6666666666666666,
              "#ed7953"
             ],
             [
              0.7777777777777778,
              "#fb9f3a"
             ],
             [
              0.8888888888888888,
              "#fdca26"
             ],
             [
              1,
              "#f0f921"
             ]
            ],
            "type": "heatmap"
           }
          ],
          "heatmapgl": [
           {
            "colorbar": {
             "outlinewidth": 0,
             "ticks": ""
            },
            "colorscale": [
             [
              0,
              "#0d0887"
             ],
             [
              0.1111111111111111,
              "#46039f"
             ],
             [
              0.2222222222222222,
              "#7201a8"
             ],
             [
              0.3333333333333333,
              "#9c179e"
             ],
             [
              0.4444444444444444,
              "#bd3786"
             ],
             [
              0.5555555555555556,
              "#d8576b"
             ],
             [
              0.6666666666666666,
              "#ed7953"
             ],
             [
              0.7777777777777778,
              "#fb9f3a"
             ],
             [
              0.8888888888888888,
              "#fdca26"
             ],
             [
              1,
              "#f0f921"
             ]
            ],
            "type": "heatmapgl"
           }
          ],
          "histogram": [
           {
            "marker": {
             "pattern": {
              "fillmode": "overlay",
              "size": 10,
              "solidity": 0.2
             }
            },
            "type": "histogram"
           }
          ],
          "histogram2d": [
           {
            "colorbar": {
             "outlinewidth": 0,
             "ticks": ""
            },
            "colorscale": [
             [
              0,
              "#0d0887"
             ],
             [
              0.1111111111111111,
              "#46039f"
             ],
             [
              0.2222222222222222,
              "#7201a8"
             ],
             [
              0.3333333333333333,
              "#9c179e"
             ],
             [
              0.4444444444444444,
              "#bd3786"
             ],
             [
              0.5555555555555556,
              "#d8576b"
             ],
             [
              0.6666666666666666,
              "#ed7953"
             ],
             [
              0.7777777777777778,
              "#fb9f3a"
             ],
             [
              0.8888888888888888,
              "#fdca26"
             ],
             [
              1,
              "#f0f921"
             ]
            ],
            "type": "histogram2d"
           }
          ],
          "histogram2dcontour": [
           {
            "colorbar": {
             "outlinewidth": 0,
             "ticks": ""
            },
            "colorscale": [
             [
              0,
              "#0d0887"
             ],
             [
              0.1111111111111111,
              "#46039f"
             ],
             [
              0.2222222222222222,
              "#7201a8"
             ],
             [
              0.3333333333333333,
              "#9c179e"
             ],
             [
              0.4444444444444444,
              "#bd3786"
             ],
             [
              0.5555555555555556,
              "#d8576b"
             ],
             [
              0.6666666666666666,
              "#ed7953"
             ],
             [
              0.7777777777777778,
              "#fb9f3a"
             ],
             [
              0.8888888888888888,
              "#fdca26"
             ],
             [
              1,
              "#f0f921"
             ]
            ],
            "type": "histogram2dcontour"
           }
          ],
          "mesh3d": [
           {
            "colorbar": {
             "outlinewidth": 0,
             "ticks": ""
            },
            "type": "mesh3d"
           }
          ],
          "parcoords": [
           {
            "line": {
             "colorbar": {
              "outlinewidth": 0,
              "ticks": ""
             }
            },
            "type": "parcoords"
           }
          ],
          "pie": [
           {
            "automargin": true,
            "type": "pie"
           }
          ],
          "scatter": [
           {
            "fillpattern": {
             "fillmode": "overlay",
             "size": 10,
             "solidity": 0.2
            },
            "type": "scatter"
           }
          ],
          "scatter3d": [
           {
            "line": {
             "colorbar": {
              "outlinewidth": 0,
              "ticks": ""
             }
            },
            "marker": {
             "colorbar": {
              "outlinewidth": 0,
              "ticks": ""
             }
            },
            "type": "scatter3d"
           }
          ],
          "scattercarpet": [
           {
            "marker": {
             "colorbar": {
              "outlinewidth": 0,
              "ticks": ""
             }
            },
            "type": "scattercarpet"
           }
          ],
          "scattergeo": [
           {
            "marker": {
             "colorbar": {
              "outlinewidth": 0,
              "ticks": ""
             }
            },
            "type": "scattergeo"
           }
          ],
          "scattergl": [
           {
            "marker": {
             "colorbar": {
              "outlinewidth": 0,
              "ticks": ""
             }
            },
            "type": "scattergl"
           }
          ],
          "scattermapbox": [
           {
            "marker": {
             "colorbar": {
              "outlinewidth": 0,
              "ticks": ""
             }
            },
            "type": "scattermapbox"
           }
          ],
          "scatterpolar": [
           {
            "marker": {
             "colorbar": {
              "outlinewidth": 0,
              "ticks": ""
             }
            },
            "type": "scatterpolar"
           }
          ],
          "scatterpolargl": [
           {
            "marker": {
             "colorbar": {
              "outlinewidth": 0,
              "ticks": ""
             }
            },
            "type": "scatterpolargl"
           }
          ],
          "scatterternary": [
           {
            "marker": {
             "colorbar": {
              "outlinewidth": 0,
              "ticks": ""
             }
            },
            "type": "scatterternary"
           }
          ],
          "surface": [
           {
            "colorbar": {
             "outlinewidth": 0,
             "ticks": ""
            },
            "colorscale": [
             [
              0,
              "#0d0887"
             ],
             [
              0.1111111111111111,
              "#46039f"
             ],
             [
              0.2222222222222222,
              "#7201a8"
             ],
             [
              0.3333333333333333,
              "#9c179e"
             ],
             [
              0.4444444444444444,
              "#bd3786"
             ],
             [
              0.5555555555555556,
              "#d8576b"
             ],
             [
              0.6666666666666666,
              "#ed7953"
             ],
             [
              0.7777777777777778,
              "#fb9f3a"
             ],
             [
              0.8888888888888888,
              "#fdca26"
             ],
             [
              1,
              "#f0f921"
             ]
            ],
            "type": "surface"
           }
          ],
          "table": [
           {
            "cells": {
             "fill": {
              "color": "#EBF0F8"
             },
             "line": {
              "color": "white"
             }
            },
            "header": {
             "fill": {
              "color": "#C8D4E3"
             },
             "line": {
              "color": "white"
             }
            },
            "type": "table"
           }
          ]
         },
         "layout": {
          "annotationdefaults": {
           "arrowcolor": "#2a3f5f",
           "arrowhead": 0,
           "arrowwidth": 1
          },
          "autotypenumbers": "strict",
          "coloraxis": {
           "colorbar": {
            "outlinewidth": 0,
            "ticks": ""
           }
          },
          "colorscale": {
           "diverging": [
            [
             0,
             "#8e0152"
            ],
            [
             0.1,
             "#c51b7d"
            ],
            [
             0.2,
             "#de77ae"
            ],
            [
             0.3,
             "#f1b6da"
            ],
            [
             0.4,
             "#fde0ef"
            ],
            [
             0.5,
             "#f7f7f7"
            ],
            [
             0.6,
             "#e6f5d0"
            ],
            [
             0.7,
             "#b8e186"
            ],
            [
             0.8,
             "#7fbc41"
            ],
            [
             0.9,
             "#4d9221"
            ],
            [
             1,
             "#276419"
            ]
           ],
           "sequential": [
            [
             0,
             "#0d0887"
            ],
            [
             0.1111111111111111,
             "#46039f"
            ],
            [
             0.2222222222222222,
             "#7201a8"
            ],
            [
             0.3333333333333333,
             "#9c179e"
            ],
            [
             0.4444444444444444,
             "#bd3786"
            ],
            [
             0.5555555555555556,
             "#d8576b"
            ],
            [
             0.6666666666666666,
             "#ed7953"
            ],
            [
             0.7777777777777778,
             "#fb9f3a"
            ],
            [
             0.8888888888888888,
             "#fdca26"
            ],
            [
             1,
             "#f0f921"
            ]
           ],
           "sequentialminus": [
            [
             0,
             "#0d0887"
            ],
            [
             0.1111111111111111,
             "#46039f"
            ],
            [
             0.2222222222222222,
             "#7201a8"
            ],
            [
             0.3333333333333333,
             "#9c179e"
            ],
            [
             0.4444444444444444,
             "#bd3786"
            ],
            [
             0.5555555555555556,
             "#d8576b"
            ],
            [
             0.6666666666666666,
             "#ed7953"
            ],
            [
             0.7777777777777778,
             "#fb9f3a"
            ],
            [
             0.8888888888888888,
             "#fdca26"
            ],
            [
             1,
             "#f0f921"
            ]
           ]
          },
          "colorway": [
           "#636efa",
           "#EF553B",
           "#00cc96",
           "#ab63fa",
           "#FFA15A",
           "#19d3f3",
           "#FF6692",
           "#B6E880",
           "#FF97FF",
           "#FECB52"
          ],
          "font": {
           "color": "#2a3f5f"
          },
          "geo": {
           "bgcolor": "white",
           "lakecolor": "white",
           "landcolor": "#E5ECF6",
           "showlakes": true,
           "showland": true,
           "subunitcolor": "white"
          },
          "hoverlabel": {
           "align": "left"
          },
          "hovermode": "closest",
          "mapbox": {
           "style": "light"
          },
          "paper_bgcolor": "white",
          "plot_bgcolor": "#E5ECF6",
          "polar": {
           "angularaxis": {
            "gridcolor": "white",
            "linecolor": "white",
            "ticks": ""
           },
           "bgcolor": "#E5ECF6",
           "radialaxis": {
            "gridcolor": "white",
            "linecolor": "white",
            "ticks": ""
           }
          },
          "scene": {
           "xaxis": {
            "backgroundcolor": "#E5ECF6",
            "gridcolor": "white",
            "gridwidth": 2,
            "linecolor": "white",
            "showbackground": true,
            "ticks": "",
            "zerolinecolor": "white"
           },
           "yaxis": {
            "backgroundcolor": "#E5ECF6",
            "gridcolor": "white",
            "gridwidth": 2,
            "linecolor": "white",
            "showbackground": true,
            "ticks": "",
            "zerolinecolor": "white"
           },
           "zaxis": {
            "backgroundcolor": "#E5ECF6",
            "gridcolor": "white",
            "gridwidth": 2,
            "linecolor": "white",
            "showbackground": true,
            "ticks": "",
            "zerolinecolor": "white"
           }
          },
          "shapedefaults": {
           "line": {
            "color": "#2a3f5f"
           }
          },
          "ternary": {
           "aaxis": {
            "gridcolor": "white",
            "linecolor": "white",
            "ticks": ""
           },
           "baxis": {
            "gridcolor": "white",
            "linecolor": "white",
            "ticks": ""
           },
           "bgcolor": "#E5ECF6",
           "caxis": {
            "gridcolor": "white",
            "linecolor": "white",
            "ticks": ""
           }
          },
          "title": {
           "x": 0.05
          },
          "xaxis": {
           "automargin": true,
           "gridcolor": "white",
           "linecolor": "white",
           "ticks": "",
           "title": {
            "standoff": 15
           },
           "zerolinecolor": "white",
           "zerolinewidth": 2
          },
          "yaxis": {
           "automargin": true,
           "gridcolor": "white",
           "linecolor": "white",
           "ticks": "",
           "title": {
            "standoff": 15
           },
           "zerolinecolor": "white",
           "zerolinewidth": 2
          }
         }
        },
        "title": {
         "text": "Letter Page Count and Time Span"
        },
        "xaxis": {
         "anchor": "y",
         "autorange": true,
         "domain": [
          0,
          1
         ],
         "gridcolor": "lightgray",
         "linecolor": "white",
         "linewidth": 1,
         "range": [
          -63.454561980304526,
          528.7507676742503
         ],
         "showgrid": true,
         "tickmode": "array",
         "ticktext": [],
         "tickvals": [],
         "title": {
          "text": "Name"
         },
         "type": "category"
        },
        "yaxis": {
         "anchor": "x",
         "autorange": true,
         "domain": [
          0,
          1
         ],
         "gridcolor": "lightgray",
         "linecolor": "white",
         "linewidth": 1,
         "range": [
          -70.5825568103662,
          1182.1121873710422
         ],
         "showgrid": true,
         "title": {
          "text": "Number of Pages"
         },
         "type": "linear"
        }
       }
      },
      "image/png": "[encoded data removed]",
      "text/html": [
       "<div>                            <div id=\"8510d5f7-8ead-47da-811a-8095dab9dbc9\" class=\"plotly-graph-div\" style=\"height:600px; width:100%;\"></div>            <script type=\"text/javascript\">                require([\"plotly\"], function(Plotly) {                    window.PLOTLYENV=window.PLOTLYENV || {};                                    if (document.getElementById(\"8510d5f7-8ead-47da-811a-8095dab9dbc9\")) {                    Plotly.newPlot(                        \"8510d5f7-8ead-47da-811a-8095dab9dbc9\",                        [{\"hovertemplate\":\"<b>%{hovertext}</b><br><br>Name=%{x}<br>Number of Pages=%{marker.size}<br>Time Dimension Count=%{marker.color}<extra></extra>\",\"hovertext\":[\"Hecker, Frank J., Col.\",\"Tryon, Dwight William\",\"Church, Frederick Stuart, 1888-1915, undated\",\"Thayer, Abbott Handerson\",\"Warring, Joseph Stephens\",\"Dewing, Thomas Wilmer, 1891-1917, undated\",\"Walcott, Charles D.\",\"Platt, Charles Adams\",\"Gookin, Frederick William\",\"McCormick, Frederick\",\"Yue, Seaouke (You Xiaoxi; \\u6e38\\u7b71\\u6eaa)\",\"Yamanaka and Company\",\"Wong, K. T. (Wang Jiantang; \\u738b\\u9451\\u5802)\",\"Bixby, William K.\",\"Fenollosa, Ernest Ferdinand\",\"Kingsley, Elbridge\",\"Kelekian, Dikran G.\",\"Bosch-Reitz, Sigisbert Chretien\",\"Whistler, James McNeill\",\"Moore, Charles\",\"Livingstone, W.A.\",\"Thayer, Emma B.\",\"Laufer, Berthold\",\"Saint-Gaudens, Augusta, Augustus, and Homer\",\"Marchant, William\",\"Matsuki, Bunkio (Bunkyo; \\u677e\\u6728\\u6587\\u606d)\",\"Art Institute of Chicago\",\"Worrell, W.H.\",\"Rathbun, Richard\",\"Lien, Hui Ch'ing, Collection\",\"Ferguson, John C.\",\"Currie, Cameron, 1901-1919, undated\",\"Kennedy, John M.\",\"Li, Chi-ch'un\",\"Peters, Samuel T.\",\"Draper, Dr. George, 1916-1918, undated\",\"Way, Thomas R., Jr.\",\"Bell, Hamilton\",\"Obach and Company\",\"Kobayashi Bunshichi (\\u5c0f\\u6797\\u6587\\u4e03)\",\"Knoedler, M., and Company\",\"University of Michigan\",\"Binyon, Laurence\",\"Canfield, Richard Albert\",\"Rice, Richard A.\",\"Alger, George W.\",\"Langley, Samuel Pierpont\",\"Kevorkian, Hagop\",\"Backhouse, Edmund\",\"Bahr, A. W.\",\"Trask, John E.D.\",\"Beatty, John W.\",\"Forbes, Edward\",\"Hamilton, Alexander\",\"Marcopoli, Vincenzo\",\"Nan, Ming-yuan (\\u5357\\u660e\\u8fdc)\",\"Pecorini, Daniele\",\"Graham, William\",\"Lodge, John Ellerton\",\"Siren, Osvald\",\"Biele, Charles F., and Sons Company\",\"Hanna, Henry Bathurst, Col.\",\"Japan Society (New York)\",\"Mann, Frederick W.\",\"Metcalf, Willard Leroy\",\"Meyer, Agnes Elizabeth Ernst\",\"Barr, Eva\",\"Woolley, Clarence M.\",\"Breck, Joseph\",\"Keppel, Frederick\",\"Whiting, Frederick Allen\",\"Parke, Davis and Company\",\"Nahman, Maurice\",\"Chun, Chik-yu (Chun Tong)\",\"Churchill, Alfred V.\",\"Fenollosa, Mary McNeil Scott\",\"Dan, Ino\",\"Melchers, Gari\",\"Duret, Theodore\",\"Pang, Yuan-chi (Pang Yuanji; \\u9f90\\u5143\\u6fdf)\",\"Harshe, Robert B.\",\"Storm van's Gravensande, Carel Nicholass\",\"West Point, U. S. Military Academy\",\"Kershaw, Francis S.\",\"Coleman, Charles C.\",\"Allen, Horace N.\",\"Roosevelt, Theodore\",\"Morse, Charles J.\",\"Ross, Denman W.\",\"Tse, Tsan Tsai\",\"Guaranty Trust Company (New York)\",\"Matsuki, Kihachiro (\\u677e\\u6728\\u559c\\u516b\\u90ce)\",\"Portland Art Association\",\"Wunderlich, H., and Company\",\"Warner, Lorraine d'O.\",\"Whistler, Beatrix Godwin\",\"Clark, Emory W., 1916-1919\",\"Conger, Sarah Pike\",\"Creelman, Alice B.\",\"Clearwater, A. T.\",\"Society of American Artists\",\"Koechlin, Raymond\",\"Lee Van Ching (Li Wenqing \\u674e\\u6587\\u537f)\",\"Berenson, Bernard\",\"Plumb, Helen\",\"Walcott, Frances M., Mrs.\",\"McGrath, C.D.\",\"Migeon, Gaston\",\"Orange, J.\",\"Bok, Edward\",\"Hanford, John\",\"Cowan, John J.\",\"Adachi Kiroku (\\u8db3\\u7acb\\u559c\\u516d)\",\"Jerome, Thomas Spencer\",\"Mansfield, Howard\",\"Donaldson, John M.\",\"Meredith, Howard G.\",\"Freer, Charles Weisgerber\",\"Stanton, Anna Whistler\",\"Ma, S.\",\"Vigouroux, J.\",\"Gallatin, Albert E.\",\"Johnson, Robert Underwood\",\"Hirth, Friederich\",\"Carroll, Dana H.\",\"Thomson, D. Croal\",\"Franke, Ida M.\",\"Gellatly, John\",\"Foster, Frederick E.\",\"Masuda, Takashi (\\u76ca\\u7530\\u5b5d)\",\"Kuki, Ryuichi, Baron (\\u4e5d\\u9b3c \\u9686\\u4e00)\",\"Turner, Percy Moore\",\"Newberry, Truman H.\",\"Sarton, George\",\"Pier, Garrett C.\",\"Weber, William C.\",\"Guest, Grace Dunham\",\"Browne, Archibald, 1918, undated\",\"Tomkinson, Michael\",\"Chapman, Alfred\",\"Dow, Arthur Wesley\",\"Osborn, Chase S.\",\"Bacher, Otto H.\",\"Hobson, R. L. (Robert Lockhart)\",\"Fairchild, Marion Bell\",\"Hara, Tomitaro\",\"Hayashi, Aisaku (\\u6797\\u611b\\u4f5c)\",\"Perzynski, Friedrich\",\"Eyre, Laurence\",\"Bahr, Peter J.\",\"Gottheil, Richard\",\"Sickert, Walter, 1905, 1912, undated\",\"Holmes, William Henry\",\"Laiyuan Co.\",\"Carus, Paul\",\"Jameson, James\",\"Kalebdjian Fr\\u00e8res\",\"Demarest, W.H.S.\",\"White, J. Martin\",\"Kita, T.\",\"Hayashi, S.\",\"Hoggan, Frances Elizabeth\",\"Homma, K.\",\"Pang, Tszu-ch'en\",\"Yamamoto, H.R.\",\"Couling, Samuel\",\"Clark, Arthur B.\",\"Van Dyke, John C.\",\"d'Ardenne de Tizac, Henri\",\"Bendann, David\",\"Bone, Karl\",\"Embden, Oscar\",\"Manship, Paul\",\"Makino, Katsuji (\\u7267\\u91ce\\u514b\\u6b21)\",\"Ravenel, William deC.\",\"Bishop, Carl Whiting\",\"Carroll, Mitchell\",\"Thayer, Gerald H.\",\"Schulze, Otto, & Co.\",\"Hara, Zenichiro\",\"Gunn, Chu Su\",\"Caffin, Charles H.\",\"Millard, George\",\"Gordon, George Bryon\",\"Hollington, Richard D.\",\"Evans, William T.\",\"Yardley, F.C.\",\"Robinson, Edward\",\"Hinckley, Frank E.\",\"Townsend, James B.\",\"Rogerson, Beth\",\"Witherspoon, A. S.\",\"Wright, Helen\",\"Foord, John\",\"Madjar, Vitali\",\"Masaki, Naohiko (\\u6b63\\u6728\\u76f4\\u5f66)\",\"Campbell, Colin, Lord\",\"Potter, Ashton\",\"Ely, Theodore N.\",\"Coomaraswamy, Ananda\",\"Butler, Hamilton\",\"Parmelee, James\",\"Denby, Charles\",\"Draper, Dorothy\",\"Robinson, Vincent, and Company, Ltd.\",\"Mori, Sosen H.\",\"Mallon, Paul\",\"Van Derlip, John R.\",\"Munsterberg, Oskar\",\"People's State Bank (Detroit)\",\"Karlbeck, Orvar\",\"Katen, K.\",\"Pardo, Roberto S.\",\"Zug, George Breed\",\"Chase, William Merritt, 1889-1891, undated\",\"Braun, W.A.\",\"Graves, Andrew\",\"Hedley, John\",\"Gorham Company Architectural Bronze\",\"Cortissoz, Royal\",\"Cassell, James C.\",\"Ayscough, Florence\",\"Bacher, Mary H.\",\"Ficke, Arthur Davison\",\"Alexander, W. C.\",\"Kuroda, Takuma (\\u9ed2\\u7530, \\u592a\\u4e45\\u99ac)\",\"Thayer, Gladys\",\"Greene, Belle da Costa\",\"McKibbon, Emily\",\"McMillan, Philip H.\",\"Morrison, Arthur\",\"Bynner, Witter\",\"LaFarge, C. Grant\",\"Gottschalk, E.\",\"Warring, Grace K.\",\"Boisseree, L.H.H.\",\"Laurvik, J. Nilsen\",\"Ledyard, Henry B.\",\"Seamen, Frank\",\"Schilling, Alexander\",\"Fenning, John\",\"Rosenbach, A.S.W.\",\"Abe Shojiro\",\"Pennock, James W.\",\"Happer, J.S.\",\"Havemeyer, Louisine Waldron Elder\",\"Dattari, Giovanni\",\"Moore, R.E.\",\"Hultman, J.E.\",\"Allen, Edgar Pierce, 1913-1914, undated\",\"Depuy, E. Cora\",\"Andrews, Robert H.\",\"Heaton, W.J.\",\"Parish-Watson, M.\",\"Cust, Henry\",\"Robinson and Farr\",\"Whibley, Ethel\",\"Fischer, V.G.\",\"Burnett, Vivian\",\"Burrell, William\",\"Dowdeswell, C. W.\",\"Trevor, John B.\",\"Hoyt, H.W.\",\"Liu, D.K.\",\"Dan, Takuma (\\u5718 \\u7422\\u78e8)\",\"Oberlin College\",\"Ohan, N.\",\"Dallam, Samuel Field\",\"Bing, Siegfried\",\"Angell, Bodman, and Turner\",\"Way, A.E.\",\"Stokes, Anson Phelps\",\"Art Association of Indianapolis\",\"Kaneko, K.\",\"Eliot, Charles\",\"Baldwin, Frank Conger\",\"Bauer-Folsom Company\",\"Straight, Willard\",\"Detroit Museum of Art\",\"Collison, Harry\",\"Rea, Paul M.\",\"Reid, Alexander\",\"Marshall, Seth\",\"de Ricci, Seymour\",\"Cowsill, Arthur\",\"Cassidy, Gerald\",\"Marshall, Seth, Mrs.\",\"Seligmann, Jacques\",\"Humphreys, Alexander C.\",\"Hwang, Chung-huei\",\"Kast, Ludwig\",\"Klare, H. William\",\"Wilson, Harry L., Mrs.\",\"American Express Company\",\"Hoi, Yung\",\"Jackson, Elmer E.\",\"Alger, Russell A., Senator\",\"Kunz, George F.\",\"Bell, William\",\"Tabbagh Freres et Cie\",\"Hull, Edward S., Jr.\",\"Yoshio Fujii, undated\",\"Goodrich, C.F.\",\"Lindsay-Brown Insurance Bureau\",\"Brooks, Alexander\",\"Sage, Cornelia Bentley\",\"Williamson, George C.\",\"Nuila, J.M.\",\"Wolf, Henry\",\"Day, Olive I.\",\"Bruyns, T. Mirzen, Mrs.\",\"Berenson, Mary\",\"Paterson, R.W.\",\"Benedite, Leonce\",\"Sachs, Paul J.\",\"Toledo Museum\",\"Peterson, Frederick\",\"Bing, Marcel\",\"Bland, J.O.P.\",\"Takayanagi, Tozo\",\"Pratt, William, Mrs.\",\"Randall, Davies\",\"Calvert, George C.\",\"Studd, Arthur\",\"Morse, Edward Sylvester\",\"Sanders, William B.\",\"Howland, Henry R.\",\"Corey, Newton J.\",\"Dickinson, J. M.\",\"Hall, Elizabeth W.\",\"Ford, John\",\"Michael, M. J.\",\"Harris, William\",\"Hamilton, George\",\"Hughett, Marvin\",\"Dent, V.\",\"Hamilton, Anita Sargent\",\"Montross, Newman E.\",\"Krom, Jane\",\"Kelly, Ernest A.\",\"Keresy, James F.\",\"Webb, William, undated\",\"Roullier, Albert\",\"Fischer, Michel\",\"Eyre, Wilson, Jr.\",\"Watson, J., & Son\",\"Robins, William\",\"Sumitomo, K.\",\"Balken, Edward Duff\",\"Burlage, Katharine\",\"Wallace, A.W., and Company\",\"Rand, E.K.\",\"Brush, George de Forest\",\"Boynton, Herbert E.\",\"Brown, Bolton Coit\",\"Sanders, J. Kent\",\"Vanderbilt, George W.\",\"Hauss, Edward A.\",\"Gale, Walter\",\"Getty, Alice\",\"Beaham, Grace Hecker\",\"Shah, Syed Bahadur\",\"Bradstreet, John S.\",\"Kohlmann, A.R.\",\"Konantz, Emma\",\"Larkin, Frederick J.\",\"Kurtz, Charles M.\",\"Lane, John\",\"Street, Julian\",\"White, Stanford\",\"Hartmann, Sadakichi\",\"Wickenden, Robert\",\"Joy, Henry B.\",\"Naobayashi, Keiyen (\\u76f4\\u6797\\u656c\\u5712)\",\"Nichols, Rose Standish, undated\",\"North, Ernest Dressel\",\"Minnigerode, C. Powell\",\"Miller, Sydney T.\",\"Cust, Nina\",\"Cox, Stafford M.\",\"Parker, Margaret Watson\",\"Dyar, Clara\",\"Donaldson, Bruce\",\"Peabody, J. Endicott\",\"Anderzon, E. A.\",\"Streng, Mary\",\"McMillan, James, Senator\",\"Willys, John N.\",\"Pewabic Pottery\",\"McKim, Charles F.\",\"Abrams, Alfred W.\",\"Koch, Theodore Wesley\",\"Williams, Max\",\"Williams, E.\",\"Kirby, Gustavus T.\",\"Knabenschue, Samuel S.\",\"Williams, Charles Whiting\",\"Arabi, Ali\",\"Alder, W. Brooke\",\"Hughes, Katherine\",\"Zimmerman, Frederick A.\",\"Truesdale, Melville W.\",\"Williams, Charles F.\",\"Adler, Elmer\",\"Yendall, Edith\",\"Takahashi, G.\",\"Winter, Jefferson\",\"Bell, Alexander Graham\",\"Key, John R.\",\"Beisel, Anne Franke, 1914 August 14\",\"Beavan, John\",\"Wurmb, Baron, undated\",\"Ito, S.\",\"Khan, Mirza Ali-Kuli\",\"Bagley, John N.\",\"Williams, Rose Sickler, undated\",\"Battersea, Cyril, Lord, undated\",\"Woodruff, Frederick W.\",\"Wada, Hikojiro (\\u548c\\u7530\\u5f66\\u6b21\\u90ce)\",\"Barrington, Lewis\",\"Keena, James T.\",\"Banks, Edgar J.\",\"Johnstone, J.H.\",\"Hoornbeek, L.\",\"Abbott, Holker\",\"Lane, Gardiner Martin\",\"Cliff, V. D.\",\"MacMonnies, Frederick\",\"Fletcher, Louise H.\",\"Butler, Nicholas Murray\",\"Rhoades, Katharine Nash\",\"Esen, Gustavus\",\"Enjoji, Y.\",\"Purcell, W.\",\"Pong, T. C.\",\"Chalfin, Paul\",\"Cole, Alphaeus Philemon\",\"Fuller, George A.\",\"Collin de Plancy, Victor\",\"Mechlin, Leila\",\"Mehta, Fateh lal\",\"Metropolitan Museum of Art\",\"Millet, Francis D.\",\"Deming, Zell Hart\",\"Murphy, J. Francis\",\"Denby, Edwin\",\"Munsterberg, Hugo\",\"Foote, Frederick J.\",\"Fairbairns, W. H.\",\"Schneider, A.K.\",\"Spreckels, A.B., Mrs.\",\"Singh, Harry\",\"Sotheby, Wilkinson, and Hodge\",\"Singer, Isador\",\"Shugio, Hiromichi (\\u57f7\\u884c\\u5f18\\u9053)\",\"Speight, E.E.\",\"Sherman, Frederic Fairchild\",\"Seitz, Don C.\",\"Stevens, Henry Glover\",\"Blashfield, Edwin Howland\",\"Leland, Wilfred C.\",\"Seaver, Mrs.\",\"Mott, Charles Stewart\",\"Hawkins, Edward M.\",\"Coykendall, S.D.\",\"Alger, Frederick M.\",\"Michigan Central Railroad Co.\",\"Dennison, Walter, Mrs.\",\"Patten, William\",\"Peabody Academy of Science\",\"Wolf, Herbert W.\",\"Dunthorne, Robert\",\"Blake, James H. W., Mrs.\",\"Lansing, J.H.\",\"Moore, William, Mrs.\",\"Theobald, H.S.\",\"Hogarth, David\",\"Pond, Ashley\",\"Thibaudeau, A.W.\",\"Boynton, H.G.\",\"Low, W., undated\",\"Lowell, A. Lawrence\",\"Fletcher, Richard\",\"Manachy, Lorenzo Y.\",\"Goodrich, Henry W.\",\"Khayet, Azeez\",\"Rhen, Frank K. M.\",\"Swift, Charles M.\",\"Harrison, Charles C.\",\"Kennedy and Company, 1914 November\",\"Avery, Samuel Putnam\",\"Elba, Khamis G.\",\"Beltramini and Rush\",\"McClure, J. Rosser, Mrs.\",\"Egbert, James C.\",\"Pope, Arthur Upham\",\"Sanders, Henry A., undated\",\"Dennison, Walter\"],\"legendgroup\":\"\",\"marker\":{\"color\":[26,31,28,28,18,27,12,8,9,7,3,25,5,24,7,8,17,5,11,8,5,29,8,14,18,13,6,6,14,1,6,19,14,2,6,3,7,6,6,5,20,8,11,13,29,6,4,2,3,6,4,24,2,1,3,11,5,2,4,2,3,2,5,4,3,8,9,5,5,18,3,6,1,4,5,8,2,12,11,8,9,20,3,6,12,1,9,1,8,2,4,4,1,21,5,13,1,1,1,3,1,3,5,1,1,1,2,15,5,1,2,4,3,4,13,5,7,7,5,2,2,7,6,7,3,6,5,3,4,7,4,1,7,1,1,1,1,1,10,15,6,1,18,2,1,10,5,1,1,1,1,1,2,1,3,10,6,4,7,6,2,2,1,5,1,1,5,1,1,13,2,1,2,1,1,1,1,1,2,1,1,1,1,4,1,15,1,6,1,1,2,1,1,2,1,2,2,1,5,2,1,3,1,1,1,1,1,4,2,3,1,2,2,8,3,1,2,4,1,1,1,1,8,1,1,1,1,2,1,1,2,1,6,1,1,1,2,3,1,2,1,1,3,2,1,4,3,6,1,2,1,1,1,1,2,1,8,1,1,1,1,1,1,2,2,8,2,1,3,6,1,1,1,1,2,1,1,1,3,1,1,1,1,1,1,1,4,1,2,2,2,2,1,1,1,1,4,4,2,1,1,0,1,1,1,1,1,1,4,1,1,1,1,1,3,1,3,1,1,3,1,1,1,5,17,1,1,1,1,1,1,3,1,4,1,2,1,13,1,1,1,0,1,1,1,1,1,2,1,1,1,1,1,1,1,1,1,1,1,1,1,1,1,1,1,1,1,1,1,6,15,1,1,1,0,1,2,1,1,1,1,1,1,1,1,1,1,1,1,1,1,1,1,1,1,1,1,1,1,1,1,1,1,1,1,1,1,1,1,1,1,0,1,1,1,0,0,1,1,1,2,1,1,1,1,1,1,1,1,1,1,1,1,1,1,1,1,1,1,1,1,1,1,1,1,1,1,1,1,1,1,1,1,1,1,1,1,1,1,1,1,1,1,1,1,1,1,1,1,1,1,1,1,1,1,1,1,1,1,1,0,1,1,1,1,1,1,1,1,1,1,1,1,1,1,1,0,1],\"coloraxis\":\"coloraxis\",\"size\":[978,634,586,568,497,398,356,253,244,235,212,183,177,165,147,143,128,127,125,116,115,114,101,99,96,92,90,88,84,81,79,79,72,69,67,65,64,63,63,62,62,60,60,57,53,49,49,47,47,47,46,43,43,41,41,41,40,39,39,37,37,37,37,35,35,34,34,34,33,32,31,30,30,30,30,30,30,29,29,29,28,28,28,28,27,27,26,25,25,25,24,24,24,24,24,24,23,23,23,22,22,22,22,21,21,21,21,21,20,20,20,20,20,20,20,19,19,19,18,18,18,18,18,18,17,17,17,17,17,16,16,16,16,16,16,16,16,15,15,15,15,14,14,14,14,14,13,13,13,13,13,12,12,12,12,12,12,12,12,12,11,11,11,11,11,11,11,11,11,11,11,11,11,11,10,10,10,10,10,10,10,10,10,10,10,10,10,10,9,9,9,9,9,9,9,9,9,9,9,9,9,9,9,9,8,8,8,8,8,8,8,8,8,8,8,8,8,8,8,8,8,8,8,8,8,7,7,7,7,7,7,7,7,7,7,7,7,7,7,7,7,7,7,7,7,7,7,7,7,7,7,7,7,7,7,7,7,6,6,6,6,6,6,6,6,6,6,6,6,6,6,6,6,6,6,6,6,6,6,5,5,5,5,5,5,5,5,5,5,5,5,5,5,5,5,5,5,5,5,5,5,5,5,5,5,5,4,4,4,4,4,4,4,4,4,4,4,4,4,4,4,4,4,4,4,4,4,4,4,4,4,4,4,4,4,4,4,4,4,4,3,3,3,3,3,3,3,3,3,3,3,3,3,3,3,3,3,3,3,3,3,3,3,3,3,3,3,3,3,3,3,3,3,3,3,3,3,3,3,3,3,3,3,3,3,3,3,3,3,3,2,2,2,2,2,2,2,2,2,2,2,2,2,2,2,2,2,2,2,2,2,2,2,2,2,2,2,2,2,2,2,2,2,2,2,2,2,2,2,2,2,2,2,2,2,2,2,2,2,2,2,2,2,2,2,2,2,2,2,2,2,2,2,2,2,2,2,2,2,2,2,2,2,1,1,1,1,1,1,1,1,1,1,1,1,1,1,1,1,1,1,1,1,1,1,1,1,1,1,1,1,1,1,1,1,1,1,1],\"sizemode\":\"area\",\"sizeref\":0.27166666666666667,\"symbol\":\"circle\"},\"mode\":\"markers\",\"name\":\"\",\"orientation\":\"v\",\"showlegend\":false,\"x\":[\"Hecker, Frank J., Col.\",\"Tryon, Dwight William\",\"Church, Frederick Stuart, 1888-1915, undated\",\"Thayer, Abbott Handerson\",\"Warring, Joseph Stephens\",\"Dewing, Thomas Wilmer, 1891-1917, undated\",\"Walcott, Charles D.\",\"Platt, Charles Adams\",\"Gookin, Frederick William\",\"McCormick, Frederick\",\"Yue, Seaouke (You Xiaoxi; \\u6e38\\u7b71\\u6eaa)\",\"Yamanaka and Company\",\"Wong, K. T. (Wang Jiantang; \\u738b\\u9451\\u5802)\",\"Bixby, William K.\",\"Fenollosa, Ernest Ferdinand\",\"Kingsley, Elbridge\",\"Kelekian, Dikran G.\",\"Bosch-Reitz, Sigisbert Chretien\",\"Whistler, James McNeill\",\"Moore, Charles\",\"Livingstone, W.A.\",\"Thayer, Emma B.\",\"Laufer, Berthold\",\"Saint-Gaudens, Augusta, Augustus, and Homer\",\"Marchant, William\",\"Matsuki, Bunkio (Bunkyo; \\u677e\\u6728\\u6587\\u606d)\",\"Art Institute of Chicago\",\"Worrell, W.H.\",\"Rathbun, Richard\",\"Lien, Hui Ch'ing, Collection\",\"Ferguson, John C.\",\"Currie, Cameron, 1901-1919, undated\",\"Kennedy, John M.\",\"Li, Chi-ch'un\",\"Peters, Samuel T.\",\"Draper, Dr. George, 1916-1918, undated\",\"Way, Thomas R., Jr.\",\"Bell, Hamilton\",\"Obach and Company\",\"Kobayashi Bunshichi (\\u5c0f\\u6797\\u6587\\u4e03)\",\"Knoedler, M., and Company\",\"University of Michigan\",\"Binyon, Laurence\",\"Canfield, Richard Albert\",\"Rice, Richard A.\",\"Alger, George W.\",\"Langley, Samuel Pierpont\",\"Kevorkian, Hagop\",\"Backhouse, Edmund\",\"Bahr, A. W.\",\"Trask, John E.D.\",\"Beatty, John W.\",\"Forbes, Edward\",\"Hamilton, Alexander\",\"Marcopoli, Vincenzo\",\"Nan, Ming-yuan (\\u5357\\u660e\\u8fdc)\",\"Pecorini, Daniele\",\"Graham, William\",\"Lodge, John Ellerton\",\"Siren, Osvald\",\"Biele, Charles F., and Sons Company\",\"Hanna, Henry Bathurst, Col.\",\"Japan Society (New York)\",\"Mann, Frederick W.\",\"Metcalf, Willard Leroy\",\"Meyer, Agnes Elizabeth Ernst\",\"Barr, Eva\",\"Woolley, Clarence M.\",\"Breck, Joseph\",\"Keppel, Frederick\",\"Whiting, Frederick Allen\",\"Parke, Davis and Company\",\"Nahman, Maurice\",\"Chun, Chik-yu (Chun Tong)\",\"Churchill, Alfred V.\",\"Fenollosa, Mary McNeil Scott\",\"Dan, Ino\",\"Melchers, Gari\",\"Duret, Theodore\",\"Pang, Yuan-chi (Pang Yuanji; \\u9f90\\u5143\\u6fdf)\",\"Harshe, Robert B.\",\"Storm van's Gravensande, Carel Nicholass\",\"West Point, U. S. Military Academy\",\"Kershaw, Francis S.\",\"Coleman, Charles C.\",\"Allen, Horace N.\",\"Roosevelt, Theodore\",\"Morse, Charles J.\",\"Ross, Denman W.\",\"Tse, Tsan Tsai\",\"Guaranty Trust Company (New York)\",\"Matsuki, Kihachiro (\\u677e\\u6728\\u559c\\u516b\\u90ce)\",\"Portland Art Association\",\"Wunderlich, H., and Company\",\"Warner, Lorraine d'O.\",\"Whistler, Beatrix Godwin\",\"Clark, Emory W., 1916-1919\",\"Conger, Sarah Pike\",\"Creelman, Alice B.\",\"Clearwater, A. T.\",\"Society of American Artists\",\"Koechlin, Raymond\",\"Lee Van Ching (Li Wenqing \\u674e\\u6587\\u537f)\",\"Berenson, Bernard\",\"Plumb, Helen\",\"Walcott, Frances M., Mrs.\",\"McGrath, C.D.\",\"Migeon, Gaston\",\"Orange, J.\",\"Bok, Edward\",\"Hanford, John\",\"Cowan, John J.\",\"Adachi Kiroku (\\u8db3\\u7acb\\u559c\\u516d)\",\"Jerome, Thomas Spencer\",\"Mansfield, Howard\",\"Donaldson, John M.\",\"Meredith, Howard G.\",\"Freer, Charles Weisgerber\",\"Stanton, Anna Whistler\",\"Ma, S.\",\"Vigouroux, J.\",\"Gallatin, Albert E.\",\"Johnson, Robert Underwood\",\"Hirth, Friederich\",\"Carroll, Dana H.\",\"Thomson, D. Croal\",\"Franke, Ida M.\",\"Gellatly, John\",\"Foster, Frederick E.\",\"Masuda, Takashi (\\u76ca\\u7530\\u5b5d)\",\"Kuki, Ryuichi, Baron (\\u4e5d\\u9b3c \\u9686\\u4e00)\",\"Turner, Percy Moore\",\"Newberry, Truman H.\",\"Sarton, George\",\"Pier, Garrett C.\",\"Weber, William C.\",\"Guest, Grace Dunham\",\"Browne, Archibald, 1918, undated\",\"Tomkinson, Michael\",\"Chapman, Alfred\",\"Dow, Arthur Wesley\",\"Osborn, Chase S.\",\"Bacher, Otto H.\",\"Hobson, R. L. (Robert Lockhart)\",\"Fairchild, Marion Bell\",\"Hara, Tomitaro\",\"Hayashi, Aisaku (\\u6797\\u611b\\u4f5c)\",\"Perzynski, Friedrich\",\"Eyre, Laurence\",\"Bahr, Peter J.\",\"Gottheil, Richard\",\"Sickert, Walter, 1905, 1912, undated\",\"Holmes, William Henry\",\"Laiyuan Co.\",\"Carus, Paul\",\"Jameson, James\",\"Kalebdjian Fr\\u00e8res\",\"Demarest, W.H.S.\",\"White, J. Martin\",\"Kita, T.\",\"Hayashi, S.\",\"Hoggan, Frances Elizabeth\",\"Homma, K.\",\"Pang, Tszu-ch'en\",\"Yamamoto, H.R.\",\"Couling, Samuel\",\"Clark, Arthur B.\",\"Van Dyke, John C.\",\"d'Ardenne de Tizac, Henri\",\"Bendann, David\",\"Bone, Karl\",\"Embden, Oscar\",\"Manship, Paul\",\"Makino, Katsuji (\\u7267\\u91ce\\u514b\\u6b21)\",\"Ravenel, William deC.\",\"Bishop, Carl Whiting\",\"Carroll, Mitchell\",\"Thayer, Gerald H.\",\"Schulze, Otto, & Co.\",\"Hara, Zenichiro\",\"Gunn, Chu Su\",\"Caffin, Charles H.\",\"Millard, George\",\"Gordon, George Bryon\",\"Hollington, Richard D.\",\"Evans, William T.\",\"Yardley, F.C.\",\"Robinson, Edward\",\"Hinckley, Frank E.\",\"Townsend, James B.\",\"Rogerson, Beth\",\"Witherspoon, A. S.\",\"Wright, Helen\",\"Foord, John\",\"Madjar, Vitali\",\"Masaki, Naohiko (\\u6b63\\u6728\\u76f4\\u5f66)\",\"Campbell, Colin, Lord\",\"Potter, Ashton\",\"Ely, Theodore N.\",\"Coomaraswamy, Ananda\",\"Butler, Hamilton\",\"Parmelee, James\",\"Denby, Charles\",\"Draper, Dorothy\",\"Robinson, Vincent, and Company, Ltd.\",\"Mori, Sosen H.\",\"Mallon, Paul\",\"Van Derlip, John R.\",\"Munsterberg, Oskar\",\"People's State Bank (Detroit)\",\"Karlbeck, Orvar\",\"Katen, K.\",\"Pardo, Roberto S.\",\"Zug, George Breed\",\"Chase, William Merritt, 1889-1891, undated\",\"Braun, W.A.\",\"Graves, Andrew\",\"Hedley, John\",\"Gorham Company Architectural Bronze\",\"Cortissoz, Royal\",\"Cassell, James C.\",\"Ayscough, Florence\",\"Bacher, Mary H.\",\"Ficke, Arthur Davison\",\"Alexander, W. C.\",\"Kuroda, Takuma (\\u9ed2\\u7530, \\u592a\\u4e45\\u99ac)\",\"Thayer, Gladys\",\"Greene, Belle da Costa\",\"McKibbon, Emily\",\"McMillan, Philip H.\",\"Morrison, Arthur\",\"Bynner, Witter\",\"LaFarge, C. Grant\",\"Gottschalk, E.\",\"Warring, Grace K.\",\"Boisseree, L.H.H.\",\"Laurvik, J. Nilsen\",\"Ledyard, Henry B.\",\"Seamen, Frank\",\"Schilling, Alexander\",\"Fenning, John\",\"Rosenbach, A.S.W.\",\"Abe Shojiro\",\"Pennock, James W.\",\"Happer, J.S.\",\"Havemeyer, Louisine Waldron Elder\",\"Dattari, Giovanni\",\"Moore, R.E.\",\"Hultman, J.E.\",\"Allen, Edgar Pierce, 1913-1914, undated\",\"Depuy, E. Cora\",\"Andrews, Robert H.\",\"Heaton, W.J.\",\"Parish-Watson, M.\",\"Cust, Henry\",\"Robinson and Farr\",\"Whibley, Ethel\",\"Fischer, V.G.\",\"Burnett, Vivian\",\"Burrell, William\",\"Dowdeswell, C. W.\",\"Trevor, John B.\",\"Hoyt, H.W.\",\"Liu, D.K.\",\"Dan, Takuma (\\u5718 \\u7422\\u78e8)\",\"Oberlin College\",\"Ohan, N.\",\"Dallam, Samuel Field\",\"Bing, Siegfried\",\"Angell, Bodman, and Turner\",\"Way, A.E.\",\"Stokes, Anson Phelps\",\"Art Association of Indianapolis\",\"Kaneko, K.\",\"Eliot, Charles\",\"Baldwin, Frank Conger\",\"Bauer-Folsom Company\",\"Straight, Willard\",\"Detroit Museum of Art\",\"Collison, Harry\",\"Rea, Paul M.\",\"Reid, Alexander\",\"Marshall, Seth\",\"de Ricci, Seymour\",\"Cowsill, Arthur\",\"Cassidy, Gerald\",\"Marshall, Seth, Mrs.\",\"Seligmann, Jacques\",\"Humphreys, Alexander C.\",\"Hwang, Chung-huei\",\"Kast, Ludwig\",\"Klare, H. William\",\"Wilson, Harry L., Mrs.\",\"American Express Company\",\"Hoi, Yung\",\"Jackson, Elmer E.\",\"Alger, Russell A., Senator\",\"Kunz, George F.\",\"Bell, William\",\"Tabbagh Freres et Cie\",\"Hull, Edward S., Jr.\",\"Yoshio Fujii, undated\",\"Goodrich, C.F.\",\"Lindsay-Brown Insurance Bureau\",\"Brooks, Alexander\",\"Sage, Cornelia Bentley\",\"Williamson, George C.\",\"Nuila, J.M.\",\"Wolf, Henry\",\"Day, Olive I.\",\"Bruyns, T. Mirzen, Mrs.\",\"Berenson, Mary\",\"Paterson, R.W.\",\"Benedite, Leonce\",\"Sachs, Paul J.\",\"Toledo Museum\",\"Peterson, Frederick\",\"Bing, Marcel\",\"Bland, J.O.P.\",\"Takayanagi, Tozo\",\"Pratt, William, Mrs.\",\"Randall, Davies\",\"Calvert, George C.\",\"Studd, Arthur\",\"Morse, Edward Sylvester\",\"Sanders, William B.\",\"Howland, Henry R.\",\"Corey, Newton J.\",\"Dickinson, J. M.\",\"Hall, Elizabeth W.\",\"Ford, John\",\"Michael, M. J.\",\"Harris, William\",\"Hamilton, George\",\"Hughett, Marvin\",\"Dent, V.\",\"Hamilton, Anita Sargent\",\"Montross, Newman E.\",\"Krom, Jane\",\"Kelly, Ernest A.\",\"Keresy, James F.\",\"Webb, William, undated\",\"Roullier, Albert\",\"Fischer, Michel\",\"Eyre, Wilson, Jr.\",\"Watson, J., & Son\",\"Robins, William\",\"Sumitomo, K.\",\"Balken, Edward Duff\",\"Burlage, Katharine\",\"Wallace, A.W., and Company\",\"Rand, E.K.\",\"Brush, George de Forest\",\"Boynton, Herbert E.\",\"Brown, Bolton Coit\",\"Sanders, J. Kent\",\"Vanderbilt, George W.\",\"Hauss, Edward A.\",\"Gale, Walter\",\"Getty, Alice\",\"Beaham, Grace Hecker\",\"Shah, Syed Bahadur\",\"Bradstreet, John S.\",\"Kohlmann, A.R.\",\"Konantz, Emma\",\"Larkin, Frederick J.\",\"Kurtz, Charles M.\",\"Lane, John\",\"Street, Julian\",\"White, Stanford\",\"Hartmann, Sadakichi\",\"Wickenden, Robert\",\"Joy, Henry B.\",\"Naobayashi, Keiyen (\\u76f4\\u6797\\u656c\\u5712)\",\"Nichols, Rose Standish, undated\",\"North, Ernest Dressel\",\"Minnigerode, C. Powell\",\"Miller, Sydney T.\",\"Cust, Nina\",\"Cox, Stafford M.\",\"Parker, Margaret Watson\",\"Dyar, Clara\",\"Donaldson, Bruce\",\"Peabody, J. Endicott\",\"Anderzon, E. A.\",\"Streng, Mary\",\"McMillan, James, Senator\",\"Willys, John N.\",\"Pewabic Pottery\",\"McKim, Charles F.\",\"Abrams, Alfred W.\",\"Koch, Theodore Wesley\",\"Williams, Max\",\"Williams, E.\",\"Kirby, Gustavus T.\",\"Knabenschue, Samuel S.\",\"Williams, Charles Whiting\",\"Arabi, Ali\",\"Alder, W. Brooke\",\"Hughes, Katherine\",\"Zimmerman, Frederick A.\",\"Truesdale, Melville W.\",\"Williams, Charles F.\",\"Adler, Elmer\",\"Yendall, Edith\",\"Takahashi, G.\",\"Winter, Jefferson\",\"Bell, Alexander Graham\",\"Key, John R.\",\"Beisel, Anne Franke, 1914 August 14\",\"Beavan, John\",\"Wurmb, Baron, undated\",\"Ito, S.\",\"Khan, Mirza Ali-Kuli\",\"Bagley, John N.\",\"Williams, Rose Sickler, undated\",\"Battersea, Cyril, Lord, undated\",\"Woodruff, Frederick W.\",\"Wada, Hikojiro (\\u548c\\u7530\\u5f66\\u6b21\\u90ce)\",\"Barrington, Lewis\",\"Keena, James T.\",\"Banks, Edgar J.\",\"Johnstone, J.H.\",\"Hoornbeek, L.\",\"Abbott, Holker\",\"Lane, Gardiner Martin\",\"Cliff, V. D.\",\"MacMonnies, Frederick\",\"Fletcher, Louise H.\",\"Butler, Nicholas Murray\",\"Rhoades, Katharine Nash\",\"Esen, Gustavus\",\"Enjoji, Y.\",\"Purcell, W.\",\"Pong, T. C.\",\"Chalfin, Paul\",\"Cole, Alphaeus Philemon\",\"Fuller, George A.\",\"Collin de Plancy, Victor\",\"Mechlin, Leila\",\"Mehta, Fateh lal\",\"Metropolitan Museum of Art\",\"Millet, Francis D.\",\"Deming, Zell Hart\",\"Murphy, J. Francis\",\"Denby, Edwin\",\"Munsterberg, Hugo\",\"Foote, Frederick J.\",\"Fairbairns, W. H.\",\"Schneider, A.K.\",\"Spreckels, A.B., Mrs.\",\"Singh, Harry\",\"Sotheby, Wilkinson, and Hodge\",\"Singer, Isador\",\"Shugio, Hiromichi (\\u57f7\\u884c\\u5f18\\u9053)\",\"Speight, E.E.\",\"Sherman, Frederic Fairchild\",\"Seitz, Don C.\",\"Stevens, Henry Glover\",\"Blashfield, Edwin Howland\",\"Leland, Wilfred C.\",\"Seaver, Mrs.\",\"Mott, Charles Stewart\",\"Hawkins, Edward M.\",\"Coykendall, S.D.\",\"Alger, Frederick M.\",\"Michigan Central Railroad Co.\",\"Dennison, Walter, Mrs.\",\"Patten, William\",\"Peabody Academy of Science\",\"Wolf, Herbert W.\",\"Dunthorne, Robert\",\"Blake, James H. W., Mrs.\",\"Lansing, J.H.\",\"Moore, William, Mrs.\",\"Theobald, H.S.\",\"Hogarth, David\",\"Pond, Ashley\",\"Thibaudeau, A.W.\",\"Boynton, H.G.\",\"Low, W., undated\",\"Lowell, A. Lawrence\",\"Fletcher, Richard\",\"Manachy, Lorenzo Y.\",\"Goodrich, Henry W.\",\"Khayet, Azeez\",\"Rhen, Frank K. M.\",\"Swift, Charles M.\",\"Harrison, Charles C.\",\"Kennedy and Company, 1914 November\",\"Avery, Samuel Putnam\",\"Elba, Khamis G.\",\"Beltramini and Rush\",\"McClure, J. Rosser, Mrs.\",\"Egbert, James C.\",\"Pope, Arthur Upham\",\"Sanders, Henry A., undated\",\"Dennison, Walter\"],\"xaxis\":\"x\",\"y\":[978,634,586,568,497,398,356,253,244,235,212,183,177,165,147,143,128,127,125,116,115,114,101,99,96,92,90,88,84,81,79,79,72,69,67,65,64,63,63,62,62,60,60,57,53,49,49,47,47,47,46,43,43,41,41,41,40,39,39,37,37,37,37,35,35,34,34,34,33,32,31,30,30,30,30,30,30,29,29,29,28,28,28,28,27,27,26,25,25,25,24,24,24,24,24,24,23,23,23,22,22,22,22,21,21,21,21,21,20,20,20,20,20,20,20,19,19,19,18,18,18,18,18,18,17,17,17,17,17,16,16,16,16,16,16,16,16,15,15,15,15,14,14,14,14,14,13,13,13,13,13,12,12,12,12,12,12,12,12,12,11,11,11,11,11,11,11,11,11,11,11,11,11,11,10,10,10,10,10,10,10,10,10,10,10,10,10,10,9,9,9,9,9,9,9,9,9,9,9,9,9,9,9,9,8,8,8,8,8,8,8,8,8,8,8,8,8,8,8,8,8,8,8,8,8,7,7,7,7,7,7,7,7,7,7,7,7,7,7,7,7,7,7,7,7,7,7,7,7,7,7,7,7,7,7,7,7,6,6,6,6,6,6,6,6,6,6,6,6,6,6,6,6,6,6,6,6,6,6,5,5,5,5,5,5,5,5,5,5,5,5,5,5,5,5,5,5,5,5,5,5,5,5,5,5,5,4,4,4,4,4,4,4,4,4,4,4,4,4,4,4,4,4,4,4,4,4,4,4,4,4,4,4,4,4,4,4,4,4,4,3,3,3,3,3,3,3,3,3,3,3,3,3,3,3,3,3,3,3,3,3,3,3,3,3,3,3,3,3,3,3,3,3,3,3,3,3,3,3,3,3,3,3,3,3,3,3,3,3,3,2,2,2,2,2,2,2,2,2,2,2,2,2,2,2,2,2,2,2,2,2,2,2,2,2,2,2,2,2,2,2,2,2,2,2,2,2,2,2,2,2,2,2,2,2,2,2,2,2,2,2,2,2,2,2,2,2,2,2,2,2,2,2,2,2,2,2,2,2,2,2,2,2,1,1,1,1,1,1,1,1,1,1,1,1,1,1,1,1,1,1,1,1,1,1,1,1,1,1,1,1,1,1,1,1,1,1,1],\"yaxis\":\"y\",\"type\":\"scatter\"}],                        {\"template\":{\"data\":{\"histogram2dcontour\":[{\"type\":\"histogram2dcontour\",\"colorbar\":{\"outlinewidth\":0,\"ticks\":\"\"},\"colorscale\":[[0.0,\"#0d0887\"],[0.1111111111111111,\"#46039f\"],[0.2222222222222222,\"#7201a8\"],[0.3333333333333333,\"#9c179e\"],[0.4444444444444444,\"#bd3786\"],[0.5555555555555556,\"#d8576b\"],[0.6666666666666666,\"#ed7953\"],[0.7777777777777778,\"#fb9f3a\"],[0.8888888888888888,\"#fdca26\"],[1.0,\"#f0f921\"]]}],\"choropleth\":[{\"type\":\"choropleth\",\"colorbar\":{\"outlinewidth\":0,\"ticks\":\"\"}}],\"histogram2d\":[{\"type\":\"histogram2d\",\"colorbar\":{\"outlinewidth\":0,\"ticks\":\"\"},\"colorscale\":[[0.0,\"#0d0887\"],[0.1111111111111111,\"#46039f\"],[0.2222222222222222,\"#7201a8\"],[0.3333333333333333,\"#9c179e\"],[0.4444444444444444,\"#bd3786\"],[0.5555555555555556,\"#d8576b\"],[0.6666666666666666,\"#ed7953\"],[0.7777777777777778,\"#fb9f3a\"],[0.8888888888888888,\"#fdca26\"],[1.0,\"#f0f921\"]]}],\"heatmap\":[{\"type\":\"heatmap\",\"colorbar\":{\"outlinewidth\":0,\"ticks\":\"\"},\"colorscale\":[[0.0,\"#0d0887\"],[0.1111111111111111,\"#46039f\"],[0.2222222222222222,\"#7201a8\"],[0.3333333333333333,\"#9c179e\"],[0.4444444444444444,\"#bd3786\"],[0.5555555555555556,\"#d8576b\"],[0.6666666666666666,\"#ed7953\"],[0.7777777777777778,\"#fb9f3a\"],[0.8888888888888888,\"#fdca26\"],[1.0,\"#f0f921\"]]}],\"heatmapgl\":[{\"type\":\"heatmapgl\",\"colorbar\":{\"outlinewidth\":0,\"ticks\":\"\"},\"colorscale\":[[0.0,\"#0d0887\"],[0.1111111111111111,\"#46039f\"],[0.2222222222222222,\"#7201a8\"],[0.3333333333333333,\"#9c179e\"],[0.4444444444444444,\"#bd3786\"],[0.5555555555555556,\"#d8576b\"],[0.6666666666666666,\"#ed7953\"],[0.7777777777777778,\"#fb9f3a\"],[0.8888888888888888,\"#fdca26\"],[1.0,\"#f0f921\"]]}],\"contourcarpet\":[{\"type\":\"contourcarpet\",\"colorbar\":{\"outlinewidth\":0,\"ticks\":\"\"}}],\"contour\":[{\"type\":\"contour\",\"colorbar\":{\"outlinewidth\":0,\"ticks\":\"\"},\"colorscale\":[[0.0,\"#0d0887\"],[0.1111111111111111,\"#46039f\"],[0.2222222222222222,\"#7201a8\"],[0.3333333333333333,\"#9c179e\"],[0.4444444444444444,\"#bd3786\"],[0.5555555555555556,\"#d8576b\"],[0.6666666666666666,\"#ed7953\"],[0.7777777777777778,\"#fb9f3a\"],[0.8888888888888888,\"#fdca26\"],[1.0,\"#f0f921\"]]}],\"surface\":[{\"type\":\"surface\",\"colorbar\":{\"outlinewidth\":0,\"ticks\":\"\"},\"colorscale\":[[0.0,\"#0d0887\"],[0.1111111111111111,\"#46039f\"],[0.2222222222222222,\"#7201a8\"],[0.3333333333333333,\"#9c179e\"],[0.4444444444444444,\"#bd3786\"],[0.5555555555555556,\"#d8576b\"],[0.6666666666666666,\"#ed7953\"],[0.7777777777777778,\"#fb9f3a\"],[0.8888888888888888,\"#fdca26\"],[1.0,\"#f0f921\"]]}],\"mesh3d\":[{\"type\":\"mesh3d\",\"colorbar\":{\"outlinewidth\":0,\"ticks\":\"\"}}],\"scatter\":[{\"fillpattern\":{\"fillmode\":\"overlay\",\"size\":10,\"solidity\":0.2},\"type\":\"scatter\"}],\"parcoords\":[{\"type\":\"parcoords\",\"line\":{\"colorbar\":{\"outlinewidth\":0,\"ticks\":\"\"}}}],\"scatterpolargl\":[{\"type\":\"scatterpolargl\",\"marker\":{\"colorbar\":{\"outlinewidth\":0,\"ticks\":\"\"}}}],\"bar\":[{\"error_x\":{\"color\":\"#2a3f5f\"},\"error_y\":{\"color\":\"#2a3f5f\"},\"marker\":{\"line\":{\"color\":\"#E5ECF6\",\"width\":0.5},\"pattern\":{\"fillmode\":\"overlay\",\"size\":10,\"solidity\":0.2}},\"type\":\"bar\"}],\"scattergeo\":[{\"type\":\"scattergeo\",\"marker\":{\"colorbar\":{\"outlinewidth\":0,\"ticks\":\"\"}}}],\"scatterpolar\":[{\"type\":\"scatterpolar\",\"marker\":{\"colorbar\":{\"outlinewidth\":0,\"ticks\":\"\"}}}],\"histogram\":[{\"marker\":{\"pattern\":{\"fillmode\":\"overlay\",\"size\":10,\"solidity\":0.2}},\"type\":\"histogram\"}],\"scattergl\":[{\"type\":\"scattergl\",\"marker\":{\"colorbar\":{\"outlinewidth\":0,\"ticks\":\"\"}}}],\"scatter3d\":[{\"type\":\"scatter3d\",\"line\":{\"colorbar\":{\"outlinewidth\":0,\"ticks\":\"\"}},\"marker\":{\"colorbar\":{\"outlinewidth\":0,\"ticks\":\"\"}}}],\"scattermapbox\":[{\"type\":\"scattermapbox\",\"marker\":{\"colorbar\":{\"outlinewidth\":0,\"ticks\":\"\"}}}],\"scatterternary\":[{\"type\":\"scatterternary\",\"marker\":{\"colorbar\":{\"outlinewidth\":0,\"ticks\":\"\"}}}],\"scattercarpet\":[{\"type\":\"scattercarpet\",\"marker\":{\"colorbar\":{\"outlinewidth\":0,\"ticks\":\"\"}}}],\"carpet\":[{\"aaxis\":{\"endlinecolor\":\"#2a3f5f\",\"gridcolor\":\"white\",\"linecolor\":\"white\",\"minorgridcolor\":\"white\",\"startlinecolor\":\"#2a3f5f\"},\"baxis\":{\"endlinecolor\":\"#2a3f5f\",\"gridcolor\":\"white\",\"linecolor\":\"white\",\"minorgridcolor\":\"white\",\"startlinecolor\":\"#2a3f5f\"},\"type\":\"carpet\"}],\"table\":[{\"cells\":{\"fill\":{\"color\":\"#EBF0F8\"},\"line\":{\"color\":\"white\"}},\"header\":{\"fill\":{\"color\":\"#C8D4E3\"},\"line\":{\"color\":\"white\"}},\"type\":\"table\"}],\"barpolar\":[{\"marker\":{\"line\":{\"color\":\"#E5ECF6\",\"width\":0.5},\"pattern\":{\"fillmode\":\"overlay\",\"size\":10,\"solidity\":0.2}},\"type\":\"barpolar\"}],\"pie\":[{\"automargin\":true,\"type\":\"pie\"}]},\"layout\":{\"autotypenumbers\":\"strict\",\"colorway\":[\"#636efa\",\"#EF553B\",\"#00cc96\",\"#ab63fa\",\"#FFA15A\",\"#19d3f3\",\"#FF6692\",\"#B6E880\",\"#FF97FF\",\"#FECB52\"],\"font\":{\"color\":\"#2a3f5f\"},\"hovermode\":\"closest\",\"hoverlabel\":{\"align\":\"left\"},\"paper_bgcolor\":\"white\",\"plot_bgcolor\":\"#E5ECF6\",\"polar\":{\"bgcolor\":\"#E5ECF6\",\"angularaxis\":{\"gridcolor\":\"white\",\"linecolor\":\"white\",\"ticks\":\"\"},\"radialaxis\":{\"gridcolor\":\"white\",\"linecolor\":\"white\",\"ticks\":\"\"}},\"ternary\":{\"bgcolor\":\"#E5ECF6\",\"aaxis\":{\"gridcolor\":\"white\",\"linecolor\":\"white\",\"ticks\":\"\"},\"baxis\":{\"gridcolor\":\"white\",\"linecolor\":\"white\",\"ticks\":\"\"},\"caxis\":{\"gridcolor\":\"white\",\"linecolor\":\"white\",\"ticks\":\"\"}},\"coloraxis\":{\"colorbar\":{\"outlinewidth\":0,\"ticks\":\"\"}},\"colorscale\":{\"sequential\":[[0.0,\"#0d0887\"],[0.1111111111111111,\"#46039f\"],[0.2222222222222222,\"#7201a8\"],[0.3333333333333333,\"#9c179e\"],[0.4444444444444444,\"#bd3786\"],[0.5555555555555556,\"#d8576b\"],[0.6666666666666666,\"#ed7953\"],[0.7777777777777778,\"#fb9f3a\"],[0.8888888888888888,\"#fdca26\"],[1.0,\"#f0f921\"]],\"sequentialminus\":[[0.0,\"#0d0887\"],[0.1111111111111111,\"#46039f\"],[0.2222222222222222,\"#7201a8\"],[0.3333333333333333,\"#9c179e\"],[0.4444444444444444,\"#bd3786\"],[0.5555555555555556,\"#d8576b\"],[0.6666666666666666,\"#ed7953\"],[0.7777777777777778,\"#fb9f3a\"],[0.8888888888888888,\"#fdca26\"],[1.0,\"#f0f921\"]],\"diverging\":[[0,\"#8e0152\"],[0.1,\"#c51b7d\"],[0.2,\"#de77ae\"],[0.3,\"#f1b6da\"],[0.4,\"#fde0ef\"],[0.5,\"#f7f7f7\"],[0.6,\"#e6f5d0\"],[0.7,\"#b8e186\"],[0.8,\"#7fbc41\"],[0.9,\"#4d9221\"],[1,\"#276419\"]]},\"xaxis\":{\"gridcolor\":\"white\",\"linecolor\":\"white\",\"ticks\":\"\",\"title\":{\"standoff\":15},\"zerolinecolor\":\"white\",\"automargin\":true,\"zerolinewidth\":2},\"yaxis\":{\"gridcolor\":\"white\",\"linecolor\":\"white\",\"ticks\":\"\",\"title\":{\"standoff\":15},\"zerolinecolor\":\"white\",\"automargin\":true,\"zerolinewidth\":2},\"scene\":{\"xaxis\":{\"backgroundcolor\":\"#E5ECF6\",\"gridcolor\":\"white\",\"linecolor\":\"white\",\"showbackground\":true,\"ticks\":\"\",\"zerolinecolor\":\"white\",\"gridwidth\":2},\"yaxis\":{\"backgroundcolor\":\"#E5ECF6\",\"gridcolor\":\"white\",\"linecolor\":\"white\",\"showbackground\":true,\"ticks\":\"\",\"zerolinecolor\":\"white\",\"gridwidth\":2},\"zaxis\":{\"backgroundcolor\":\"#E5ECF6\",\"gridcolor\":\"white\",\"linecolor\":\"white\",\"showbackground\":true,\"ticks\":\"\",\"zerolinecolor\":\"white\",\"gridwidth\":2}},\"shapedefaults\":{\"line\":{\"color\":\"#2a3f5f\"}},\"annotationdefaults\":{\"arrowcolor\":\"#2a3f5f\",\"arrowhead\":0,\"arrowwidth\":1},\"geo\":{\"bgcolor\":\"white\",\"landcolor\":\"#E5ECF6\",\"subunitcolor\":\"white\",\"showland\":true,\"showlakes\":true,\"lakecolor\":\"white\"},\"title\":{\"x\":0.05},\"mapbox\":{\"style\":\"light\"}}},\"xaxis\":{\"anchor\":\"y\",\"domain\":[0.0,1.0],\"title\":{\"text\":\"Name\"},\"showgrid\":true,\"gridcolor\":\"lightgray\",\"linecolor\":\"white\",\"linewidth\":1,\"tickmode\":\"array\",\"tickvals\":[],\"ticktext\":[]},\"yaxis\":{\"anchor\":\"x\",\"domain\":[0.0,1.0],\"title\":{\"text\":\"Number of Pages\"},\"showgrid\":true,\"gridcolor\":\"lightgray\",\"linecolor\":\"white\",\"linewidth\":1},\"coloraxis\":{\"colorbar\":{\"title\":{\"text\":\"Time Dimension Count\"}},\"colorscale\":[[0.0,\"#144A74\"],[0.5,\"#619AC3\"],[1.0,\"#D0DFE6\"]],\"cmin\":0,\"cmax\":31},\"legend\":{\"tracegroupgap\":0,\"itemsizing\":\"constant\"},\"title\":{\"text\":\"Letter Page Count and Time Span\"},\"hoverlabel\":{\"font\":{\"size\":12},\"bgcolor\":\"white\"},\"height\":600,\"plot_bgcolor\":\"#E5ECF6\"},                        {\"responsive\": true}                    ).then(function(){\n",
       "                            \n",
       "var gd = document.getElementById('8510d5f7-8ead-47da-811a-8095dab9dbc9');\n",
       "var x = new MutationObserver(function (mutations, observer) {{\n",
       "        var display = window.getComputedStyle(gd).display;\n",
       "        if (!display || display === 'none') {{\n",
       "            console.log([gd, 'removed!']);\n",
       "            Plotly.purge(gd);\n",
       "            observer.disconnect();\n",
       "        }}\n",
       "}});\n",
       "\n",
       "// Listen for the removal of the full notebook cells\n",
       "var notebookContainer = gd.closest('#notebook-container');\n",
       "if (notebookContainer) {{\n",
       "    x.observe(notebookContainer, {childList: true});\n",
       "}}\n",
       "\n",
       "// Listen for the clearing of the current output cell\n",
       "var outputEl = gd.closest('.output');\n",
       "if (outputEl) {{\n",
       "    x.observe(outputEl, {childList: true});\n",
       "}}\n",
       "\n",
       "                        })                };                });            </script>        </div>"
      ]
     },
     "metadata": {},
     "output_type": "display_data"
    }
   ],
   "source": [
    "import pandas as pd\n",
    "import plotly.express as px\n",
    "\n",
    "\n",
    "df = pd.read_excel('temp_ret_two.xlsx')\n",
    "\n",
    "# Function to calculate time dimension count\n",
    "def calculate_time_dimension(years):\n",
    "    if pd.isna(years):\n",
    "        return 0\n",
    "    elif '-' in years:\n",
    "        try:\n",
    "            start, end = map(int, years.split('-'))\n",
    "            return end - start + 1  # Include both start and end years\n",
    "        except ValueError:\n",
    "            return 1  # Handle cases where years are not in proper format\n",
    "    else:\n",
    "        try:\n",
    "            int(years)  # Check if years can be converted to int\n",
    "            return 1    # Single year if no range detected\n",
    "        except ValueError:\n",
    "            return 0    # Handle cases where year is not numeric\n",
    "\n",
    "# Calculate time dimension count for each unique Name\n",
    "name_years = df.groupby('Name')['Year'].apply(lambda x: calculate_time_dimension(x.iloc[0])).reset_index()\n",
    "name_years.columns = ['Name', 'time_dimension_count']\n",
    "\n",
    "# Count number of messages sent by each person\n",
    "name_counts = df['Name'].value_counts().reset_index()\n",
    "name_counts.columns = ['Name', 'message_count']\n",
    "\n",
    "# Merge message count and time dimension count data\n",
    "name_data = pd.merge(name_counts, name_years, on='Name', how='left')\n",
    "\n",
    "# Create bubble chart using Plotly Express\n",
    "fig = px.scatter(name_data, x='Name', y='message_count', size='message_count', hover_name='Name', \n",
    "                 title='Letter Page Count and Time Span',\n",
    "                 labels={'Name': 'Name', 'message_count': 'Number of Pages', 'time_dimension_count': 'Time Dimension Count'},\n",
    "                 size_max=60, color='time_dimension_count', color_continuous_scale=['#144A74', '#619AC3', '#D0DFE6'],\n",
    "                 range_color=[name_data['time_dimension_count'].min(), name_data['time_dimension_count'].max()])\n",
    "\n",
    "# Update layout to improve visual appeal\n",
    "fig.update_layout(\n",
    "    xaxis=dict(\n",
    "        title='Name',\n",
    "        showgrid=True,   # Show grid lines\n",
    "        gridcolor='lightgray',  # Grid color\n",
    "        linecolor='white',  # color of x-axis\n",
    "        linewidth=1,      # Axis line width\n",
    "        tickmode='array',\n",
    "        tickvals=[],      # Empty list to hide tick values\n",
    "        ticktext=[]       # Empty list to hide tick text\n",
    "    ),\n",
    "    yaxis=dict(\n",
    "        title='Number of Pages',\n",
    "        showgrid=True,   # Show grid lines\n",
    "        gridcolor='lightgray',  # Grid color\n",
    "        linecolor='white',  # color of Y-axis\n",
    "        linewidth=1       # Axis line width\n",
    "    ),\n",
    "    height=600,\n",
    "    plot_bgcolor='#E5ECF6',  # 设置整体图表背景色\n",
    "    hoverlabel=dict(\n",
    "        bgcolor='white',  # Hover label background color\n",
    "        font_size=12,     # Hover label font size\n",
    "    )\n",
    ")\n",
    "\n",
    "# Show the plot\n",
    "fig.show()\n"
   ]
  },
  {
   "cell_type": "code",
   "execution_count": null,
   "id": "08dde4ec-ea50-4e88-9def-bb234833dfc7",
   "metadata": {},
   "outputs": [],
   "source": []
  },
  {
   "cell_type": "code",
   "execution_count": null,
   "id": "3a1fa41a-ec56-4616-8443-ea3105c6e46a",
   "metadata": {},
   "outputs": [],
   "source": []
  },
  {
   "cell_type": "code",
   "execution_count": null,
   "id": "61533fc1-14cd-4525-b43d-52eee5a6f808",
   "metadata": {},
   "outputs": [],
   "source": []
  },
  {
   "cell_type": "code",
   "execution_count": null,
   "id": "97581389-316a-4ec9-aa74-7d5a5b9e7e02",
   "metadata": {},
   "outputs": [],
   "source": []
  },
  {
   "cell_type": "code",
   "execution_count": null,
   "id": "28074876-8af9-47ca-b3cc-1e23508616dc",
   "metadata": {},
   "outputs": [],
   "source": []
  }
 ],
 "metadata": {
  "kernelspec": {
   "display_name": "Python 3 (ipykernel)",
   "language": "python",
   "name": "python3"
  },
  "language_info": {
   "codemirror_mode": {
    "name": "ipython",
    "version": 3
   },
   "file_extension": ".py",
   "mimetype": "text/x-python",
   "name": "python",
   "nbconvert_exporter": "python",
   "pygments_lexer": "ipython3",
   "version": "3.11.7"
  }
 },
 "nbformat": 4,
 "nbformat_minor": 5
}
